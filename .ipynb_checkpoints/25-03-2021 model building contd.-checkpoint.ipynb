{
 "cells": [
  {
   "cell_type": "code",
   "execution_count": 7,
   "id": "insured-seven",
   "metadata": {},
   "outputs": [],
   "source": [
    "import pandas as pd\n",
    "import numpy as np\n",
    "import seaborn as sns\n",
    "import matplotlib.pyplot as plt"
   ]
  },
  {
   "cell_type": "code",
   "execution_count": 8,
   "id": "identified-colon",
   "metadata": {},
   "outputs": [
    {
     "data": {
      "text/html": [
       "<div>\n",
       "<style scoped>\n",
       "    .dataframe tbody tr th:only-of-type {\n",
       "        vertical-align: middle;\n",
       "    }\n",
       "\n",
       "    .dataframe tbody tr th {\n",
       "        vertical-align: top;\n",
       "    }\n",
       "\n",
       "    .dataframe thead th {\n",
       "        text-align: right;\n",
       "    }\n",
       "</style>\n",
       "<table border=\"1\" class=\"dataframe\">\n",
       "  <thead>\n",
       "    <tr style=\"text-align: right;\">\n",
       "      <th></th>\n",
       "      <th>Loan_Amount_Requested</th>\n",
       "      <th>Annual_Income</th>\n",
       "      <th>Debt_To_Income</th>\n",
       "      <th>Inquiries_Last_6Mo</th>\n",
       "      <th>Months_Since_Deliquency</th>\n",
       "      <th>Number_Open_Accounts</th>\n",
       "      <th>Total_Accounts</th>\n",
       "      <th>Length_Employed</th>\n",
       "      <th>Home_Owner</th>\n",
       "      <th>Income_Verified</th>\n",
       "      <th>Purpose_Of_Loan</th>\n",
       "      <th>Gender</th>\n",
       "      <th>Interest_Rate</th>\n",
       "    </tr>\n",
       "  </thead>\n",
       "  <tbody>\n",
       "    <tr>\n",
       "      <th>0</th>\n",
       "      <td>7000.0</td>\n",
       "      <td>68000.0</td>\n",
       "      <td>18.0</td>\n",
       "      <td>0.0</td>\n",
       "      <td>-99.0</td>\n",
       "      <td>9.0</td>\n",
       "      <td>14.0</td>\n",
       "      <td>&lt; 1 year</td>\n",
       "      <td>Rent</td>\n",
       "      <td>not verified</td>\n",
       "      <td>car</td>\n",
       "      <td>Female</td>\n",
       "      <td>1.0</td>\n",
       "    </tr>\n",
       "    <tr>\n",
       "      <th>1</th>\n",
       "      <td>30000.0</td>\n",
       "      <td>102880.0</td>\n",
       "      <td>15.0</td>\n",
       "      <td>0.0</td>\n",
       "      <td>17.0</td>\n",
       "      <td>12.0</td>\n",
       "      <td>24.0</td>\n",
       "      <td>4 years</td>\n",
       "      <td>Mortgage</td>\n",
       "      <td>VERIFIED - income</td>\n",
       "      <td>debt_consolidation</td>\n",
       "      <td>Female</td>\n",
       "      <td>3.0</td>\n",
       "    </tr>\n",
       "    <tr>\n",
       "      <th>2</th>\n",
       "      <td>24725.0</td>\n",
       "      <td>75566.0</td>\n",
       "      <td>16.0</td>\n",
       "      <td>0.0</td>\n",
       "      <td>-99.0</td>\n",
       "      <td>12.0</td>\n",
       "      <td>16.0</td>\n",
       "      <td>7 years</td>\n",
       "      <td>Mortgage</td>\n",
       "      <td>VERIFIED - income source</td>\n",
       "      <td>debt_consolidation</td>\n",
       "      <td>Male</td>\n",
       "      <td>3.0</td>\n",
       "    </tr>\n",
       "    <tr>\n",
       "      <th>3</th>\n",
       "      <td>16000.0</td>\n",
       "      <td>56160.0</td>\n",
       "      <td>14.0</td>\n",
       "      <td>3.0</td>\n",
       "      <td>-99.0</td>\n",
       "      <td>16.0</td>\n",
       "      <td>22.0</td>\n",
       "      <td>&lt; 1 year</td>\n",
       "      <td>Rent</td>\n",
       "      <td>VERIFIED - income source</td>\n",
       "      <td>debt_consolidation</td>\n",
       "      <td>Male</td>\n",
       "      <td>3.0</td>\n",
       "    </tr>\n",
       "    <tr>\n",
       "      <th>4</th>\n",
       "      <td>17000.0</td>\n",
       "      <td>96000.0</td>\n",
       "      <td>22.0</td>\n",
       "      <td>1.0</td>\n",
       "      <td>-99.0</td>\n",
       "      <td>19.0</td>\n",
       "      <td>30.0</td>\n",
       "      <td>8 years</td>\n",
       "      <td>Own</td>\n",
       "      <td>VERIFIED - income source</td>\n",
       "      <td>debt_consolidation</td>\n",
       "      <td>Female</td>\n",
       "      <td>1.0</td>\n",
       "    </tr>\n",
       "  </tbody>\n",
       "</table>\n",
       "</div>"
      ],
      "text/plain": [
       "   Loan_Amount_Requested  Annual_Income  Debt_To_Income  Inquiries_Last_6Mo  \\\n",
       "0                 7000.0        68000.0            18.0                 0.0   \n",
       "1                30000.0       102880.0            15.0                 0.0   \n",
       "2                24725.0        75566.0            16.0                 0.0   \n",
       "3                16000.0        56160.0            14.0                 3.0   \n",
       "4                17000.0        96000.0            22.0                 1.0   \n",
       "\n",
       "   Months_Since_Deliquency  Number_Open_Accounts  Total_Accounts  \\\n",
       "0                    -99.0                   9.0            14.0   \n",
       "1                     17.0                  12.0            24.0   \n",
       "2                    -99.0                  12.0            16.0   \n",
       "3                    -99.0                  16.0            22.0   \n",
       "4                    -99.0                  19.0            30.0   \n",
       "\n",
       "  Length_Employed Home_Owner           Income_Verified     Purpose_Of_Loan  \\\n",
       "0        < 1 year       Rent              not verified                 car   \n",
       "1         4 years   Mortgage         VERIFIED - income  debt_consolidation   \n",
       "2         7 years   Mortgage  VERIFIED - income source  debt_consolidation   \n",
       "3        < 1 year       Rent  VERIFIED - income source  debt_consolidation   \n",
       "4         8 years        Own  VERIFIED - income source  debt_consolidation   \n",
       "\n",
       "   Gender  Interest_Rate  \n",
       "0  Female            1.0  \n",
       "1  Female            3.0  \n",
       "2    Male            3.0  \n",
       "3    Male            3.0  \n",
       "4  Female            1.0  "
      ]
     },
     "execution_count": 8,
     "metadata": {},
     "output_type": "execute_result"
    }
   ],
   "source": [
    "df = pd.read_csv('Data/25-03_Imputed_Data_w_features.csv')\n",
    "combined_data = pd.read_csv('Data/25-03_Imputed_Data.csv')\n",
    "combined_data.head()"
   ]
  },
  {
   "cell_type": "code",
   "execution_count": 9,
   "id": "military-module",
   "metadata": {},
   "outputs": [],
   "source": [
    "#Importing all model libraries\n",
    "from sklearn.linear_model import LogisticRegression\n",
    "from sklearn.tree import DecisionTreeClassifier\n",
    "from sklearn.ensemble import RandomForestClassifier,AdaBoostClassifier,GradientBoostingClassifier\n",
    "from sklearn.neighbors import KNeighborsClassifier\n",
    "from xgboost import XGBClassifier\n",
    "from catboost import CatBoostClassifier\n",
    "from sklearn.model_selection import cross_val_score"
   ]
  },
  {
   "cell_type": "code",
   "execution_count": 10,
   "id": "knowing-administrator",
   "metadata": {},
   "outputs": [],
   "source": [
    "model_data = pd.get_dummies(df)\n",
    "X = model_data.drop('Interest_Rate',axis = 1)\n",
    "y = model_data['Interest_Rate']"
   ]
  },
  {
   "cell_type": "code",
   "execution_count": 11,
   "id": "champion-camping",
   "metadata": {},
   "outputs": [],
   "source": [
    "#Post feature engieneering we have achieved a 3% increase in our accuracy."
   ]
  },
  {
   "cell_type": "code",
   "execution_count": 12,
   "id": "increasing-inflation",
   "metadata": {},
   "outputs": [],
   "source": [
    "#Initialize all models\n",
    "clf1 = LogisticRegression(random_state = 2)\n",
    "clf2 = DecisionTreeClassifier(random_state = 2)\n",
    "clf3 = RandomForestClassifier(random_state = 2)\n",
    "clf4 = AdaBoostClassifier(random_state = 2)\n",
    "clf5 = GradientBoostingClassifier(random_state = 2)\n",
    "clf6 = XGBClassifier(random_state = 2)\n",
    "clf7 = CatBoostClassifier(random_state = 2)"
   ]
  },
  {
   "cell_type": "markdown",
   "id": "empirical-piano",
   "metadata": {},
   "source": [
    "# Performing USL on the test Data to give us more Interest_Rate Datapoints"
   ]
  },
  {
   "cell_type": "code",
   "execution_count": 13,
   "id": "extended-proxy",
   "metadata": {},
   "outputs": [],
   "source": [
    "usl_data = combined_data[combined_data['Interest_Rate'].isna()]"
   ]
  },
  {
   "cell_type": "code",
   "execution_count": 14,
   "id": "legendary-actor",
   "metadata": {},
   "outputs": [
    {
     "name": "stderr",
     "output_type": "stream",
     "text": [
      "C:\\Users\\tejas\\Anaconda3\\lib\\site-packages\\ipykernel_launcher.py:3: SettingWithCopyWarning: \n",
      "A value is trying to be set on a copy of a slice from a DataFrame.\n",
      "Try using .loc[row_indexer,col_indexer] = value instead\n",
      "\n",
      "See the caveats in the documentation: https://pandas.pydata.org/pandas-docs/stable/user_guide/indexing.html#returning-a-view-versus-a-copy\n",
      "  This is separate from the ipykernel package so we can avoid doing imports until\n"
     ]
    }
   ],
   "source": [
    "def len_emp(x):\n",
    "    return int(x.strip().strip('<').strip('year').strip('years').strip().strip('+'))\n",
    "usl_data['Length_Employed'] = usl_data['Length_Employed'].apply(len_emp)"
   ]
  },
  {
   "cell_type": "code",
   "execution_count": 15,
   "id": "english-combining",
   "metadata": {},
   "outputs": [
    {
     "data": {
      "text/html": [
       "<div>\n",
       "<style scoped>\n",
       "    .dataframe tbody tr th:only-of-type {\n",
       "        vertical-align: middle;\n",
       "    }\n",
       "\n",
       "    .dataframe tbody tr th {\n",
       "        vertical-align: top;\n",
       "    }\n",
       "\n",
       "    .dataframe thead th {\n",
       "        text-align: right;\n",
       "    }\n",
       "</style>\n",
       "<table border=\"1\" class=\"dataframe\">\n",
       "  <thead>\n",
       "    <tr style=\"text-align: right;\">\n",
       "      <th></th>\n",
       "      <th>Loan_Amount_Requested</th>\n",
       "      <th>Annual_Income</th>\n",
       "      <th>Debt_To_Income</th>\n",
       "      <th>Inquiries_Last_6Mo</th>\n",
       "      <th>Months_Since_Deliquency</th>\n",
       "      <th>Number_Open_Accounts</th>\n",
       "      <th>Total_Accounts</th>\n",
       "      <th>Length_Employed</th>\n",
       "      <th>Home_Owner_Mortgage</th>\n",
       "      <th>Home_Owner_None</th>\n",
       "      <th>...</th>\n",
       "      <th>Purpose_Of_Loan_major_purchase</th>\n",
       "      <th>Purpose_Of_Loan_medical</th>\n",
       "      <th>Purpose_Of_Loan_moving</th>\n",
       "      <th>Purpose_Of_Loan_other</th>\n",
       "      <th>Purpose_Of_Loan_renewable_energy</th>\n",
       "      <th>Purpose_Of_Loan_small_business</th>\n",
       "      <th>Purpose_Of_Loan_vacation</th>\n",
       "      <th>Purpose_Of_Loan_wedding</th>\n",
       "      <th>Gender_Female</th>\n",
       "      <th>Gender_Male</th>\n",
       "    </tr>\n",
       "  </thead>\n",
       "  <tbody>\n",
       "    <tr>\n",
       "      <th>157215</th>\n",
       "      <td>27500.0</td>\n",
       "      <td>129000.0</td>\n",
       "      <td>13.0</td>\n",
       "      <td>0.0</td>\n",
       "      <td>68.0</td>\n",
       "      <td>10.0</td>\n",
       "      <td>37.0</td>\n",
       "      <td>10</td>\n",
       "      <td>1</td>\n",
       "      <td>0</td>\n",
       "      <td>...</td>\n",
       "      <td>0</td>\n",
       "      <td>0</td>\n",
       "      <td>0</td>\n",
       "      <td>0</td>\n",
       "      <td>0</td>\n",
       "      <td>0</td>\n",
       "      <td>0</td>\n",
       "      <td>0</td>\n",
       "      <td>0</td>\n",
       "      <td>1</td>\n",
       "    </tr>\n",
       "    <tr>\n",
       "      <th>157216</th>\n",
       "      <td>26000.0</td>\n",
       "      <td>110000.0</td>\n",
       "      <td>11.0</td>\n",
       "      <td>0.0</td>\n",
       "      <td>-99.0</td>\n",
       "      <td>6.0</td>\n",
       "      <td>23.0</td>\n",
       "      <td>10</td>\n",
       "      <td>1</td>\n",
       "      <td>0</td>\n",
       "      <td>...</td>\n",
       "      <td>0</td>\n",
       "      <td>0</td>\n",
       "      <td>0</td>\n",
       "      <td>0</td>\n",
       "      <td>0</td>\n",
       "      <td>0</td>\n",
       "      <td>0</td>\n",
       "      <td>0</td>\n",
       "      <td>0</td>\n",
       "      <td>1</td>\n",
       "    </tr>\n",
       "    <tr>\n",
       "      <th>157217</th>\n",
       "      <td>6075.0</td>\n",
       "      <td>75000.0</td>\n",
       "      <td>7.0</td>\n",
       "      <td>2.0</td>\n",
       "      <td>-99.0</td>\n",
       "      <td>5.0</td>\n",
       "      <td>20.0</td>\n",
       "      <td>1</td>\n",
       "      <td>0</td>\n",
       "      <td>0</td>\n",
       "      <td>...</td>\n",
       "      <td>0</td>\n",
       "      <td>0</td>\n",
       "      <td>0</td>\n",
       "      <td>0</td>\n",
       "      <td>0</td>\n",
       "      <td>0</td>\n",
       "      <td>0</td>\n",
       "      <td>0</td>\n",
       "      <td>0</td>\n",
       "      <td>1</td>\n",
       "    </tr>\n",
       "    <tr>\n",
       "      <th>157218</th>\n",
       "      <td>12000.0</td>\n",
       "      <td>73000.0</td>\n",
       "      <td>8.0</td>\n",
       "      <td>0.0</td>\n",
       "      <td>-99.0</td>\n",
       "      <td>6.0</td>\n",
       "      <td>8.0</td>\n",
       "      <td>10</td>\n",
       "      <td>1</td>\n",
       "      <td>0</td>\n",
       "      <td>...</td>\n",
       "      <td>0</td>\n",
       "      <td>0</td>\n",
       "      <td>0</td>\n",
       "      <td>0</td>\n",
       "      <td>0</td>\n",
       "      <td>0</td>\n",
       "      <td>0</td>\n",
       "      <td>0</td>\n",
       "      <td>0</td>\n",
       "      <td>1</td>\n",
       "    </tr>\n",
       "    <tr>\n",
       "      <th>157219</th>\n",
       "      <td>35000.0</td>\n",
       "      <td>156000.0</td>\n",
       "      <td>10.0</td>\n",
       "      <td>0.0</td>\n",
       "      <td>26.0</td>\n",
       "      <td>9.0</td>\n",
       "      <td>21.0</td>\n",
       "      <td>1</td>\n",
       "      <td>1</td>\n",
       "      <td>0</td>\n",
       "      <td>...</td>\n",
       "      <td>0</td>\n",
       "      <td>0</td>\n",
       "      <td>0</td>\n",
       "      <td>0</td>\n",
       "      <td>0</td>\n",
       "      <td>0</td>\n",
       "      <td>0</td>\n",
       "      <td>0</td>\n",
       "      <td>0</td>\n",
       "      <td>1</td>\n",
       "    </tr>\n",
       "  </tbody>\n",
       "</table>\n",
       "<p>5 rows × 32 columns</p>\n",
       "</div>"
      ],
      "text/plain": [
       "        Loan_Amount_Requested  Annual_Income  Debt_To_Income  \\\n",
       "157215                27500.0       129000.0            13.0   \n",
       "157216                26000.0       110000.0            11.0   \n",
       "157217                 6075.0        75000.0             7.0   \n",
       "157218                12000.0        73000.0             8.0   \n",
       "157219                35000.0       156000.0            10.0   \n",
       "\n",
       "        Inquiries_Last_6Mo  Months_Since_Deliquency  Number_Open_Accounts  \\\n",
       "157215                 0.0                     68.0                  10.0   \n",
       "157216                 0.0                    -99.0                   6.0   \n",
       "157217                 2.0                    -99.0                   5.0   \n",
       "157218                 0.0                    -99.0                   6.0   \n",
       "157219                 0.0                     26.0                   9.0   \n",
       "\n",
       "        Total_Accounts  Length_Employed  Home_Owner_Mortgage  Home_Owner_None  \\\n",
       "157215            37.0               10                    1                0   \n",
       "157216            23.0               10                    1                0   \n",
       "157217            20.0                1                    0                0   \n",
       "157218             8.0               10                    1                0   \n",
       "157219            21.0                1                    1                0   \n",
       "\n",
       "        ...  Purpose_Of_Loan_major_purchase  Purpose_Of_Loan_medical  \\\n",
       "157215  ...                               0                        0   \n",
       "157216  ...                               0                        0   \n",
       "157217  ...                               0                        0   \n",
       "157218  ...                               0                        0   \n",
       "157219  ...                               0                        0   \n",
       "\n",
       "        Purpose_Of_Loan_moving  Purpose_Of_Loan_other  \\\n",
       "157215                       0                      0   \n",
       "157216                       0                      0   \n",
       "157217                       0                      0   \n",
       "157218                       0                      0   \n",
       "157219                       0                      0   \n",
       "\n",
       "        Purpose_Of_Loan_renewable_energy  Purpose_Of_Loan_small_business  \\\n",
       "157215                                 0                               0   \n",
       "157216                                 0                               0   \n",
       "157217                                 0                               0   \n",
       "157218                                 0                               0   \n",
       "157219                                 0                               0   \n",
       "\n",
       "        Purpose_Of_Loan_vacation  Purpose_Of_Loan_wedding  Gender_Female  \\\n",
       "157215                         0                        0              0   \n",
       "157216                         0                        0              0   \n",
       "157217                         0                        0              0   \n",
       "157218                         0                        0              0   \n",
       "157219                         0                        0              0   \n",
       "\n",
       "        Gender_Male  \n",
       "157215            1  \n",
       "157216            1  \n",
       "157217            1  \n",
       "157218            1  \n",
       "157219            1  \n",
       "\n",
       "[5 rows x 32 columns]"
      ]
     },
     "execution_count": 15,
     "metadata": {},
     "output_type": "execute_result"
    }
   ],
   "source": [
    "usl_model = pd.get_dummies(usl_data)\n",
    "usl_model = usl_model.drop('Interest_Rate',axis = 1)\n",
    "usl_model.head()"
   ]
  },
  {
   "cell_type": "markdown",
   "id": "painful-finger",
   "metadata": {},
   "source": [
    "# Applying PCA and the KMeans on the above dataset"
   ]
  },
  {
   "cell_type": "code",
   "execution_count": 16,
   "id": "solar-issue",
   "metadata": {},
   "outputs": [
    {
     "data": {
      "text/plain": [
       "array([0.95983601, 0.99999623, 0.99999985, 0.99999994, 0.99999998,\n",
       "       0.99999999, 1.        , 1.        , 1.        , 1.        ,\n",
       "       1.        , 1.        , 1.        , 1.        , 1.        ,\n",
       "       1.        , 1.        , 1.        , 1.        , 1.        ,\n",
       "       1.        , 1.        , 1.        , 1.        , 1.        ,\n",
       "       1.        , 1.        , 1.        , 1.        , 1.        ,\n",
       "       1.        , 1.        ])"
      ]
     },
     "execution_count": 16,
     "metadata": {},
     "output_type": "execute_result"
    }
   ],
   "source": [
    "from sklearn.decomposition import PCA\n",
    "pca = PCA()\n",
    "pca.fit(usl_model)\n",
    "np.cumsum(pca.explained_variance_ratio_)\n"
   ]
  },
  {
   "cell_type": "code",
   "execution_count": 17,
   "id": "selective-louisiana",
   "metadata": {},
   "outputs": [],
   "source": [
    "from sklearn.decomposition import PCA\n",
    "pca = PCA(n_components=0.99)\n",
    "pca_data = pd.DataFrame(pca.fit_transform(usl_model))"
   ]
  },
  {
   "cell_type": "markdown",
   "id": "imperial-spelling",
   "metadata": {},
   "source": [
    "# Applying KMeans"
   ]
  },
  {
   "cell_type": "code",
   "execution_count": 18,
   "id": "auburn-living",
   "metadata": {},
   "outputs": [
    {
     "data": {
      "image/png": "[encoded data removed]",
      "text/plain": [
       "<Figure size 1080x432 with 1 Axes>"
      ]
     },
     "metadata": {
      "needs_background": "light"
     },
     "output_type": "display_data"
    }
   ],
   "source": [
    "from sklearn.cluster import KMeans\n",
    "wcv = []\n",
    "for i in range(1,10):\n",
    "    km = KMeans(n_clusters = i)\n",
    "    km.fit(pca_data)\n",
    "    wcv.append(km.inertia_)\n",
    "plt.figure(figsize = (15,6))\n",
    "plt.plot(range(1,10),wcv,color = 'g')\n",
    "plt.show()"
   ]
  },
  {
   "cell_type": "code",
   "execution_count": 19,
   "id": "continuing-target",
   "metadata": {},
   "outputs": [],
   "source": [
    "#As we can see in the Elbow Plot we are getting 3 clusters as optimum"
   ]
  },
  {
   "cell_type": "code",
   "execution_count": 20,
   "id": "collected-cleaners",
   "metadata": {},
   "outputs": [],
   "source": [
    "# from sklearn.metrics import silhouette_score\n",
    "# sil = []\n",
    "# for i in range(2,10):\n",
    "#     km = KMeans(n_clusters = i)\n",
    "#     km.fit(pca_data)\n",
    "#     sil.append(silhouette_score(pca_data,km.labels_))\n",
    "# plt.figure(figsize = (15,6))\n",
    "# plt.plot(range(2,10),sil,color = 'b')\n",
    "# plt.show()"
   ]
  },
  {
   "cell_type": "code",
   "execution_count": 21,
   "id": "cellular-history",
   "metadata": {},
   "outputs": [],
   "source": [
    "km = KMeans(n_clusters = 3)\n",
    "km.fit(pca_data)\n",
    "pred = pd.Series(km.predict(pca_data),name= 'Interest_Rate')"
   ]
  },
  {
   "cell_type": "code",
   "execution_count": 22,
   "id": "indirect-commodity",
   "metadata": {},
   "outputs": [],
   "source": [
    "#Checking with Annual_Income\n",
    "test_w_int = pd.concat((usl_model.reset_index(drop = True),pred),axis = 1)"
   ]
  },
  {
   "cell_type": "code",
   "execution_count": 23,
   "id": "classified-friday",
   "metadata": {},
   "outputs": [],
   "source": [
    "train_data = combined_data[~(combined_data['Interest_Rate'].isna())]"
   ]
  },
  {
   "cell_type": "code",
   "execution_count": 24,
   "id": "figured-johnson",
   "metadata": {},
   "outputs": [
    {
     "name": "stderr",
     "output_type": "stream",
     "text": [
      "C:\\Users\\tejas\\Anaconda3\\lib\\site-packages\\seaborn\\_decorators.py:43: FutureWarning: Pass the following variables as keyword args: x, y. From version 0.12, the only valid positional argument will be `data`, and passing other arguments without an explicit keyword will result in an error or misinterpretation.\n",
      "  FutureWarning\n"
     ]
    },
    {
     "data": {
      "text/plain": [
       "<matplotlib.axes._subplots.AxesSubplot at 0x267de676048>"
      ]
     },
     "execution_count": 24,
     "metadata": {},
     "output_type": "execute_result"
    },
    {
     "data": {
      "image/png": "[encoded data removed]",
      "text/plain": [
       "<Figure size 432x288 with 1 Axes>"
      ]
     },
     "metadata": {
      "needs_background": "light"
     },
     "output_type": "display_data"
    }
   ],
   "source": [
    "sns.boxplot(train_data['Interest_Rate'],train_data['Debt_To_Income'])"
   ]
  },
  {
   "cell_type": "code",
   "execution_count": 25,
   "id": "olive-works",
   "metadata": {},
   "outputs": [
    {
     "name": "stderr",
     "output_type": "stream",
     "text": [
      "C:\\Users\\tejas\\Anaconda3\\lib\\site-packages\\seaborn\\_decorators.py:43: FutureWarning: Pass the following variables as keyword args: x, y. From version 0.12, the only valid positional argument will be `data`, and passing other arguments without an explicit keyword will result in an error or misinterpretation.\n",
      "  FutureWarning\n"
     ]
    },
    {
     "data": {
      "image/png": "[encoded data removed]",
      "text/plain": [
       "<Figure size 432x288 with 1 Axes>"
      ]
     },
     "metadata": {
      "needs_background": "light"
     },
     "output_type": "display_data"
    }
   ],
   "source": [
    "sns.boxplot(test_w_int['Interest_Rate'],test_w_int['Debt_To_Income'])\n",
    "plt.show()"
   ]
  },
  {
   "cell_type": "code",
   "execution_count": 26,
   "id": "median-procurement",
   "metadata": {},
   "outputs": [],
   "source": [
    "#0:2\n",
    "#1:3\n",
    "#2:1\n",
    "test_w_int['Interest_Rate'] = test_w_int['Interest_Rate'].map({0:2,1:3,2:1})"
   ]
  },
  {
   "cell_type": "code",
   "execution_count": 27,
   "id": "severe-poison",
   "metadata": {},
   "outputs": [],
   "source": [
    "og_data = pd.concat((combined_data[(combined_data['Interest_Rate'].isna())].drop('Interest_Rate',axis = 1).reset_index(drop = True),test_w_int['Interest_Rate']),axis = 1)"
   ]
  },
  {
   "cell_type": "code",
   "execution_count": 28,
   "id": "artistic-singles",
   "metadata": {},
   "outputs": [],
   "source": [
    "#Combine with \n",
    "data = pd.concat((combined_data[~(combined_data['Interest_Rate'].isna())],og_data))\n",
    "data['Length_Employed'] = data['Length_Employed'].apply(len_emp) "
   ]
  },
  {
   "cell_type": "code",
   "execution_count": 29,
   "id": "twenty-pioneer",
   "metadata": {},
   "outputs": [
    {
     "data": {
      "text/html": [
       "<div>\n",
       "<style scoped>\n",
       "    .dataframe tbody tr th:only-of-type {\n",
       "        vertical-align: middle;\n",
       "    }\n",
       "\n",
       "    .dataframe tbody tr th {\n",
       "        vertical-align: top;\n",
       "    }\n",
       "\n",
       "    .dataframe thead th {\n",
       "        text-align: right;\n",
       "    }\n",
       "</style>\n",
       "<table border=\"1\" class=\"dataframe\">\n",
       "  <thead>\n",
       "    <tr style=\"text-align: right;\">\n",
       "      <th></th>\n",
       "      <th>Loan_Amount_Requested</th>\n",
       "      <th>Annual_Income</th>\n",
       "      <th>Debt_To_Income</th>\n",
       "      <th>Inquiries_Last_6Mo</th>\n",
       "      <th>Months_Since_Deliquency</th>\n",
       "      <th>Number_Open_Accounts</th>\n",
       "      <th>Total_Accounts</th>\n",
       "      <th>Length_Employed</th>\n",
       "      <th>Home_Owner</th>\n",
       "      <th>Income_Verified</th>\n",
       "      <th>Purpose_Of_Loan</th>\n",
       "      <th>Gender</th>\n",
       "      <th>Interest_Rate</th>\n",
       "    </tr>\n",
       "  </thead>\n",
       "  <tbody>\n",
       "    <tr>\n",
       "      <th>0</th>\n",
       "      <td>7000.0</td>\n",
       "      <td>68000.0</td>\n",
       "      <td>18.0</td>\n",
       "      <td>0.0</td>\n",
       "      <td>-99.0</td>\n",
       "      <td>9.0</td>\n",
       "      <td>14.0</td>\n",
       "      <td>1</td>\n",
       "      <td>Rent</td>\n",
       "      <td>not verified</td>\n",
       "      <td>car</td>\n",
       "      <td>Female</td>\n",
       "      <td>1.0</td>\n",
       "    </tr>\n",
       "    <tr>\n",
       "      <th>1</th>\n",
       "      <td>30000.0</td>\n",
       "      <td>102880.0</td>\n",
       "      <td>15.0</td>\n",
       "      <td>0.0</td>\n",
       "      <td>17.0</td>\n",
       "      <td>12.0</td>\n",
       "      <td>24.0</td>\n",
       "      <td>4</td>\n",
       "      <td>Mortgage</td>\n",
       "      <td>VERIFIED - income</td>\n",
       "      <td>debt_consolidation</td>\n",
       "      <td>Female</td>\n",
       "      <td>3.0</td>\n",
       "    </tr>\n",
       "    <tr>\n",
       "      <th>2</th>\n",
       "      <td>24725.0</td>\n",
       "      <td>75566.0</td>\n",
       "      <td>16.0</td>\n",
       "      <td>0.0</td>\n",
       "      <td>-99.0</td>\n",
       "      <td>12.0</td>\n",
       "      <td>16.0</td>\n",
       "      <td>7</td>\n",
       "      <td>Mortgage</td>\n",
       "      <td>VERIFIED - income source</td>\n",
       "      <td>debt_consolidation</td>\n",
       "      <td>Male</td>\n",
       "      <td>3.0</td>\n",
       "    </tr>\n",
       "    <tr>\n",
       "      <th>3</th>\n",
       "      <td>16000.0</td>\n",
       "      <td>56160.0</td>\n",
       "      <td>14.0</td>\n",
       "      <td>3.0</td>\n",
       "      <td>-99.0</td>\n",
       "      <td>16.0</td>\n",
       "      <td>22.0</td>\n",
       "      <td>1</td>\n",
       "      <td>Rent</td>\n",
       "      <td>VERIFIED - income source</td>\n",
       "      <td>debt_consolidation</td>\n",
       "      <td>Male</td>\n",
       "      <td>3.0</td>\n",
       "    </tr>\n",
       "    <tr>\n",
       "      <th>4</th>\n",
       "      <td>17000.0</td>\n",
       "      <td>96000.0</td>\n",
       "      <td>22.0</td>\n",
       "      <td>1.0</td>\n",
       "      <td>-99.0</td>\n",
       "      <td>19.0</td>\n",
       "      <td>30.0</td>\n",
       "      <td>8</td>\n",
       "      <td>Own</td>\n",
       "      <td>VERIFIED - income source</td>\n",
       "      <td>debt_consolidation</td>\n",
       "      <td>Female</td>\n",
       "      <td>1.0</td>\n",
       "    </tr>\n",
       "  </tbody>\n",
       "</table>\n",
       "</div>"
      ],
      "text/plain": [
       "   Loan_Amount_Requested  Annual_Income  Debt_To_Income  Inquiries_Last_6Mo  \\\n",
       "0                 7000.0        68000.0            18.0                 0.0   \n",
       "1                30000.0       102880.0            15.0                 0.0   \n",
       "2                24725.0        75566.0            16.0                 0.0   \n",
       "3                16000.0        56160.0            14.0                 3.0   \n",
       "4                17000.0        96000.0            22.0                 1.0   \n",
       "\n",
       "   Months_Since_Deliquency  Number_Open_Accounts  Total_Accounts  \\\n",
       "0                    -99.0                   9.0            14.0   \n",
       "1                     17.0                  12.0            24.0   \n",
       "2                    -99.0                  12.0            16.0   \n",
       "3                    -99.0                  16.0            22.0   \n",
       "4                    -99.0                  19.0            30.0   \n",
       "\n",
       "   Length_Employed Home_Owner           Income_Verified     Purpose_Of_Loan  \\\n",
       "0                1       Rent              not verified                 car   \n",
       "1                4   Mortgage         VERIFIED - income  debt_consolidation   \n",
       "2                7   Mortgage  VERIFIED - income source  debt_consolidation   \n",
       "3                1       Rent  VERIFIED - income source  debt_consolidation   \n",
       "4                8        Own  VERIFIED - income source  debt_consolidation   \n",
       "\n",
       "   Gender  Interest_Rate  \n",
       "0  Female            1.0  \n",
       "1  Female            3.0  \n",
       "2    Male            3.0  \n",
       "3    Male            3.0  \n",
       "4  Female            1.0  "
      ]
     },
     "execution_count": 29,
     "metadata": {},
     "output_type": "execute_result"
    }
   ],
   "source": [
    "data.head()"
   ]
  },
  {
   "cell_type": "code",
   "execution_count": null,
   "id": "horizontal-professional",
   "metadata": {},
   "outputs": [],
   "source": []
  },
  {
   "cell_type": "markdown",
   "id": "unauthorized-mountain",
   "metadata": {},
   "source": [
    "## Building Models on our combined dataset"
   ]
  },
  {
   "cell_type": "code",
   "execution_count": 30,
   "id": "respiratory-sender",
   "metadata": {},
   "outputs": [],
   "source": [
    "model_data = pd.get_dummies(data,drop_first = True)\n",
    "X = model_data.drop('Interest_Rate',axis = 1)\n",
    "y = model_data['Interest_Rate']"
   ]
  },
  {
   "cell_type": "code",
   "execution_count": 31,
   "id": "connected-history",
   "metadata": {},
   "outputs": [
    {
     "name": "stdout",
     "output_type": "stream",
     "text": [
      "LR Average Score (f1):  0.4723 Variance Error:  0.1449\n",
      "DTC Average Score (f1):  0.4569 Variance Error:  0.0909\n",
      "RF Average Score (f1):  0.5307 Variance Error:  0.2564\n",
      "AdaBst Average Score (f1):  0.5513 Variance Error:  0.2914\n",
      "GBC Average Score (f1):  0.5546 Variance Error:  0.312\n",
      "XGB Average Score (f1):  0.5434 Variance Error:  0.286\n",
      "CAT Average Score (f1):  0.5454 Variance Error:  0.2885\n"
     ]
    }
   ],
   "source": [
    "mod = [clf1,clf2,clf3,clf4,clf5,clf6,clf7]\n",
    "mod_name = ['LR','DTC','RF','AdaBst','GBC','XGB','CAT']\n",
    "for i,j in zip(mod,mod_name):\n",
    "    scores = cross_val_score(i,X,y,scoring = 'f1_weighted',cv = 5,n_jobs = -1)\n",
    "    avg_score = round(np.mean(scores),4)\n",
    "    var_score = round(np.std(scores)/avg_score,4)\n",
    "    print(j,'Average Score (f1): ',avg_score,'Variance Error: ',var_score)"
   ]
  },
  {
   "cell_type": "code",
   "execution_count": null,
   "id": "compliant-stereo",
   "metadata": {},
   "outputs": [],
   "source": []
  },
  {
   "cell_type": "code",
   "execution_count": 32,
   "id": "theoretical-format",
   "metadata": {},
   "outputs": [
    {
     "name": "stdout",
     "output_type": "stream",
     "text": [
      "Features:  ('Annual_Income', 'Home_Owner_None', 'Purpose_Of_Loan_wedding')\n",
      "F1_Score: 0.5805857521384297\n"
     ]
    }
   ],
   "source": [
    "#Perform sequential feature selector on a sample of the data\n",
    "from sklearn.preprocessing import StandardScaler\n",
    "ss = StandardScaler()\n",
    "d_for_f_s = model_data.sample(50000)\n",
    "X1 = d_for_f_s.drop('Interest_Rate',axis = 1)\n",
    "y1 = d_for_f_s['Interest_Rate']\n",
    "X_scaled = pd.DataFrame(ss.fit_transform(X1),columns = X1.columns)\n",
    "\n",
    "from mlxtend.feature_selection import SequentialFeatureSelector as SFS\n",
    "fs = SFS(estimator = clf2,k_features = \"best\",scoring = 'f1_weighted',forward = True,verbose = 0)\n",
    "sfsmodel = fs.fit(X_scaled,y1)\n",
    "print(\"Features: \",sfsmodel.k_feature_names_)\n",
    "print(\"F1_Score:\",sfsmodel.k_score_)"
   ]
  },
  {
   "cell_type": "code",
   "execution_count": null,
   "id": "universal-funeral",
   "metadata": {},
   "outputs": [],
   "source": []
  },
  {
   "cell_type": "code",
   "execution_count": 33,
   "id": "sudden-madagascar",
   "metadata": {},
   "outputs": [],
   "source": [
    "#Performing all the feature engineering on entire data\n",
    "data1 = data.copy()\n",
    "\n",
    "data1['Number_Closed_Accounts'] = data1['Total_Accounts']-data1['Number_Open_Accounts']\n",
    "data1 = data1.drop('Total_Accounts',axis = 1)\n",
    "data1['Monthly_Income'] = round(data1['Annual_Income']/12)\n",
    "data1['Monthly_Debt'] = round(data1['Monthly_Income'] * data1['Debt_To_Income']/100)\n",
    "data1 = data1.drop(['Annual_Income','Debt_To_Income'],axis = 1)\n",
    "\n",
    "\n",
    "#Create a new feature called Assets,Liability,Other from Purpose_Of_Loan\n",
    "def purp_bin(x):\n",
    "    assets = [ 'home_improvement','renewable_energy','house','educational','small_business']\n",
    "    liabilities = ['car','debt_consolidation','credit_card']\n",
    "    other = ['major_purchase', 'other', 'medical', 'moving','wedding','vacation']\n",
    "    if x in assets:\n",
    "        return 'asset'\n",
    "    elif x in liabilities:\n",
    "        return 'liability'\n",
    "    elif x in other:\n",
    "        return 'misc.'\n",
    "    \n",
    "data1['Loan for Assets/Liabilities'] = data1['Purpose_Of_Loan'].apply(purp_bin)\n",
    "\n",
    "#Loan EMI on monthly basis should not exceed 45% So using this fact we will calculate monthly EMI for the requested amount\n",
    "data1['Expected_EMI'] = (0.40*(data1['Monthly_Income']-data1['Monthly_Debt']))/(data1['Number_Open_Accounts']+1)\n",
    "\n",
    "#Now we can also calculate that for how many months will a person have to pay to cover his loan amount\n",
    "import math\n",
    "data1['Loan_Amt_Recovery_Months'] = (data1['Loan_Amount_Requested']/data1['Expected_EMI']).apply(np.ceil)"
   ]
  },
  {
   "cell_type": "code",
   "execution_count": null,
   "id": "entertaining-retirement",
   "metadata": {},
   "outputs": [],
   "source": []
  },
  {
   "cell_type": "code",
   "execution_count": 34,
   "id": "least-glass",
   "metadata": {},
   "outputs": [],
   "source": [
    "model_data = pd.get_dummies(data1,drop_first = True)\n",
    "X = model_data.drop('Interest_Rate',axis = 1)\n",
    "y = model_data['Interest_Rate']"
   ]
  },
  {
   "cell_type": "code",
   "execution_count": 35,
   "id": "every-telescope",
   "metadata": {},
   "outputs": [
    {
     "name": "stdout",
     "output_type": "stream",
     "text": [
      "LR Average Score (f1):  0.4767 Variance Error:  0.1363\n",
      "DTC Average Score (f1):  0.4578 Variance Error:  0.0942\n",
      "RF Average Score (f1):  0.5325 Variance Error:  0.2652\n",
      "AdaBst Average Score (f1):  0.5499 Variance Error:  0.2875\n",
      "GBC Average Score (f1):  0.5531 Variance Error:  0.3107\n",
      "XGB Average Score (f1):  0.544 Variance Error:  0.2877\n",
      "CAT Average Score (f1):  0.5448 Variance Error:  0.2881\n"
     ]
    }
   ],
   "source": [
    "mod = [clf1,clf2,clf3,clf4,clf5,clf6,clf7]\n",
    "mod_name = ['LR','DTC','RF','AdaBst','GBC','XGB','CAT']\n",
    "for i,j in zip(mod,mod_name):\n",
    "    scores = cross_val_score(i,X,y,scoring = 'f1_weighted',cv = 5,n_jobs = -1)\n",
    "    avg_score = round(np.mean(scores),4)\n",
    "    var_score = round(np.std(scores)/avg_score,4)\n",
    "    print(j,'Average Score (f1): ',avg_score,'Variance Error: ',var_score)"
   ]
  },
  {
   "cell_type": "code",
   "execution_count": null,
   "id": "broken-service",
   "metadata": {},
   "outputs": [],
   "source": []
  },
  {
   "cell_type": "markdown",
   "id": "positive-baghdad",
   "metadata": {},
   "source": [
    "###### Trying with scaling the data"
   ]
  },
  {
   "cell_type": "code",
   "execution_count": null,
   "id": "exotic-delaware",
   "metadata": {},
   "outputs": [],
   "source": []
  },
  {
   "cell_type": "code",
   "execution_count": null,
   "id": "above-vampire",
   "metadata": {},
   "outputs": [],
   "source": []
  },
  {
   "cell_type": "code",
   "execution_count": null,
   "id": "adjustable-literacy",
   "metadata": {},
   "outputs": [],
   "source": []
  },
  {
   "cell_type": "code",
   "execution_count": null,
   "id": "romance-minister",
   "metadata": {},
   "outputs": [],
   "source": []
  },
  {
   "cell_type": "code",
   "execution_count": null,
   "id": "insured-transmission",
   "metadata": {},
   "outputs": [],
   "source": []
  },
  {
   "cell_type": "code",
   "execution_count": null,
   "id": "minimal-lewis",
   "metadata": {},
   "outputs": [],
   "source": []
  },
  {
   "cell_type": "code",
   "execution_count": null,
   "id": "devoted-bottle",
   "metadata": {},
   "outputs": [],
   "source": []
  },
  {
   "cell_type": "code",
   "execution_count": null,
   "id": "norwegian-state",
   "metadata": {},
   "outputs": [],
   "source": []
  },
  {
   "cell_type": "code",
   "execution_count": null,
   "id": "fitted-explorer",
   "metadata": {},
   "outputs": [],
   "source": []
  }
 ],
 "metadata": {
  "kernelspec": {
   "display_name": "Python 3",
   "language": "python",
   "name": "python3"
  },
  "language_info": {
   "codemirror_mode": {
    "name": "ipython",
    "version": 3
   },
   "file_extension": ".py",
   "mimetype": "text/x-python",
   "name": "python",
   "nbconvert_exporter": "python",
   "pygments_lexer": "ipython3",
   "version": "3.7.4"
  }
 },
 "nbformat": 4,
 "nbformat_minor": 5
}
