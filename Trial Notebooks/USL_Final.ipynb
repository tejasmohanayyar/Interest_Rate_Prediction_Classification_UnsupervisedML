{
 "cells": [
  {
   "cell_type": "markdown",
   "id": "blond-steam",
   "metadata": {},
   "source": [
    "# <center>`Unsupervised Learning`<center>\n",
    "    \n",
    "###### Importing Libraries"
   ]
  },
  {
   "cell_type": "code",
   "execution_count": 1,
   "id": "wrong-palestinian",
   "metadata": {},
   "outputs": [],
   "source": [
    "import pandas as pd\n",
    "import numpy as np\n",
    "import matplotlib.pyplot as plt\n",
    "import seaborn as sns\n",
    "import warnings\n",
    "warnings.simplefilter('ignore')\n",
    "import scipy.stats as stats"
   ]
  },
  {
   "cell_type": "markdown",
   "id": "manual-camel",
   "metadata": {},
   "source": [
    "###### Read the data"
   ]
  },
  {
   "cell_type": "code",
   "execution_count": 2,
   "id": "trying-honey",
   "metadata": {},
   "outputs": [
    {
     "data": {
      "text/html": [
       "<div>\n",
       "<style scoped>\n",
       "    .dataframe tbody tr th:only-of-type {\n",
       "        vertical-align: middle;\n",
       "    }\n",
       "\n",
       "    .dataframe tbody tr th {\n",
       "        vertical-align: top;\n",
       "    }\n",
       "\n",
       "    .dataframe thead th {\n",
       "        text-align: right;\n",
       "    }\n",
       "</style>\n",
       "<table border=\"1\" class=\"dataframe\">\n",
       "  <thead>\n",
       "    <tr style=\"text-align: right;\">\n",
       "      <th></th>\n",
       "      <th>Loan_Amount_Requested</th>\n",
       "      <th>Length_Employed</th>\n",
       "      <th>Annual_Income</th>\n",
       "      <th>Debt_To_Income</th>\n",
       "      <th>Inquiries_Last_6Mo</th>\n",
       "      <th>Number_Open_Accounts</th>\n",
       "      <th>Total_Accounts</th>\n",
       "      <th>Home_Owner</th>\n",
       "      <th>Income_Verified</th>\n",
       "      <th>Purpose_Of_Loan</th>\n",
       "      <th>Gender</th>\n",
       "      <th>Months_Since_Deliquency</th>\n",
       "      <th>Interest_Rate</th>\n",
       "    </tr>\n",
       "  </thead>\n",
       "  <tbody>\n",
       "    <tr>\n",
       "      <th>0</th>\n",
       "      <td>7000.0</td>\n",
       "      <td>0.0</td>\n",
       "      <td>68000.0</td>\n",
       "      <td>18.0</td>\n",
       "      <td>0.0</td>\n",
       "      <td>9.0</td>\n",
       "      <td>14.0</td>\n",
       "      <td>Rent</td>\n",
       "      <td>not verified</td>\n",
       "      <td>car</td>\n",
       "      <td>Female</td>\n",
       "      <td>360.0</td>\n",
       "      <td>1</td>\n",
       "    </tr>\n",
       "    <tr>\n",
       "      <th>1</th>\n",
       "      <td>30000.0</td>\n",
       "      <td>4.0</td>\n",
       "      <td>98367.0</td>\n",
       "      <td>15.0</td>\n",
       "      <td>0.0</td>\n",
       "      <td>12.0</td>\n",
       "      <td>24.0</td>\n",
       "      <td>Mortgage</td>\n",
       "      <td>VERIFIED - income</td>\n",
       "      <td>debt_consolidation</td>\n",
       "      <td>Female</td>\n",
       "      <td>17.0</td>\n",
       "      <td>3</td>\n",
       "    </tr>\n",
       "    <tr>\n",
       "      <th>2</th>\n",
       "      <td>24725.0</td>\n",
       "      <td>7.0</td>\n",
       "      <td>75566.0</td>\n",
       "      <td>16.0</td>\n",
       "      <td>0.0</td>\n",
       "      <td>12.0</td>\n",
       "      <td>16.0</td>\n",
       "      <td>Mortgage</td>\n",
       "      <td>VERIFIED - income</td>\n",
       "      <td>debt_consolidation</td>\n",
       "      <td>Male</td>\n",
       "      <td>360.0</td>\n",
       "      <td>3</td>\n",
       "    </tr>\n",
       "    <tr>\n",
       "      <th>3</th>\n",
       "      <td>17000.0</td>\n",
       "      <td>8.0</td>\n",
       "      <td>96000.0</td>\n",
       "      <td>22.0</td>\n",
       "      <td>1.0</td>\n",
       "      <td>19.0</td>\n",
       "      <td>30.0</td>\n",
       "      <td>Own</td>\n",
       "      <td>VERIFIED - income</td>\n",
       "      <td>debt_consolidation</td>\n",
       "      <td>Female</td>\n",
       "      <td>360.0</td>\n",
       "      <td>1</td>\n",
       "    </tr>\n",
       "    <tr>\n",
       "      <th>4</th>\n",
       "      <td>4500.0</td>\n",
       "      <td>2.0</td>\n",
       "      <td>30000.0</td>\n",
       "      <td>11.0</td>\n",
       "      <td>1.0</td>\n",
       "      <td>12.0</td>\n",
       "      <td>15.0</td>\n",
       "      <td>Rent</td>\n",
       "      <td>VERIFIED - income</td>\n",
       "      <td>credit_card</td>\n",
       "      <td>Male</td>\n",
       "      <td>360.0</td>\n",
       "      <td>3</td>\n",
       "    </tr>\n",
       "  </tbody>\n",
       "</table>\n",
       "</div>"
      ],
      "text/plain": [
       "   Loan_Amount_Requested  Length_Employed  Annual_Income  Debt_To_Income  \\\n",
       "0                 7000.0              0.0        68000.0            18.0   \n",
       "1                30000.0              4.0        98367.0            15.0   \n",
       "2                24725.0              7.0        75566.0            16.0   \n",
       "3                17000.0              8.0        96000.0            22.0   \n",
       "4                 4500.0              2.0        30000.0            11.0   \n",
       "\n",
       "   Inquiries_Last_6Mo  Number_Open_Accounts  Total_Accounts Home_Owner  \\\n",
       "0                 0.0                   9.0            14.0       Rent   \n",
       "1                 0.0                  12.0            24.0   Mortgage   \n",
       "2                 0.0                  12.0            16.0   Mortgage   \n",
       "3                 1.0                  19.0            30.0        Own   \n",
       "4                 1.0                  12.0            15.0       Rent   \n",
       "\n",
       "     Income_Verified     Purpose_Of_Loan  Gender  Months_Since_Deliquency  \\\n",
       "0       not verified                 car  Female                    360.0   \n",
       "1  VERIFIED - income  debt_consolidation  Female                     17.0   \n",
       "2  VERIFIED - income  debt_consolidation    Male                    360.0   \n",
       "3  VERIFIED - income  debt_consolidation  Female                    360.0   \n",
       "4  VERIFIED - income         credit_card    Male                    360.0   \n",
       "\n",
       "   Interest_Rate  \n",
       "0              1  \n",
       "1              3  \n",
       "2              3  \n",
       "3              1  \n",
       "4              3  "
      ]
     },
     "execution_count": 2,
     "metadata": {},
     "output_type": "execute_result"
    }
   ],
   "source": [
    "df = pd.read_csv('Data/filled_train_28-03.csv')\n",
    "df['Months_Since_Deliquency'] = df['Months_Since_Deliquency'].fillna(360)\n",
    "df.head()"
   ]
  },
  {
   "cell_type": "code",
   "execution_count": 3,
   "id": "royal-cricket",
   "metadata": {},
   "outputs": [
    {
     "data": {
      "image/png": "[encoded data removed]",
      "text/plain": [
       "<Figure size 1080x432 with 8 Axes>"
      ]
     },
     "metadata": {
      "needs_background": "light"
     },
     "output_type": "display_data"
    }
   ],
   "source": [
    "data_dist = df.select_dtypes(np.number).drop('Interest_Rate',axis = 1)\n",
    "fig,ax = plt.subplots(nrows = 2,ncols = 4,figsize = (15,6))\n",
    "for variables,plotsubs in zip(data_dist.columns,ax.flatten()):\n",
    "    plt.title(variables)\n",
    "    plotsubs.tick_params(labelsize = 10)\n",
    "    plotsubs.set_xlabel(variables,fontsize = 10)\n",
    "    sns.distplot(df[variables],ax = plotsubs)\n",
    "    plt.tight_layout()\n",
    "    plt.subplots_adjust(top = 0.92) \n",
    "fig.suptitle('Distributions of numerical features',fontsize = 15)\n",
    "plt.show()"
   ]
  },
  {
   "cell_type": "markdown",
   "id": "altered-retirement",
   "metadata": {},
   "source": [
    "###### Making same transformations as in Classification notebook"
   ]
  },
  {
   "cell_type": "code",
   "execution_count": 3,
   "id": "satisfied-trust",
   "metadata": {},
   "outputs": [],
   "source": [
    "data1 = df.copy()"
   ]
  },
  {
   "cell_type": "code",
   "execution_count": 4,
   "id": "alternate-rochester",
   "metadata": {},
   "outputs": [],
   "source": [
    "data1['Loan_Amount_Requested'] = np.sqrt(data1['Loan_Amount_Requested'])\n",
    "data1['Annual_Income'] = stats.boxcox(data1['Annual_Income'])[0]\n",
    "data1['Number_Open_Accounts'] = np.sqrt(data1['Number_Open_Accounts'])\n",
    "data1['Total_Accounts'] = np.sqrt(data1['Total_Accounts'])\n",
    "data1['Months_Since_Deliquency'] = np.log(abs(df['Months_Since_Deliquency']-np.mean(df['Months_Since_Deliquency'])))\n",
    "#Months_Since_Deliquency is sort of multi-modal"
   ]
  },
  {
   "cell_type": "code",
   "execution_count": 5,
   "id": "nearby-certificate",
   "metadata": {},
   "outputs": [],
   "source": [
    "# def emp(x):\n",
    "#     if x>=10:\n",
    "#         return '10+yrs'\n",
    "#     elif x>=6 and x<=9:\n",
    "#         return '6-9 yrs'\n",
    "#     elif x>=2 and x<=5:\n",
    "#         return '2-5 yrs'\n",
    "#     else:\n",
    "#         return '0-1 yrs'\n",
    "\n",
    "# data1['Length_Employed'] = data1['Length_Employed'].apply(emp)"
   ]
  },
  {
   "cell_type": "code",
   "execution_count": 7,
   "id": "central-announcement",
   "metadata": {},
   "outputs": [
    {
     "data": {
      "image/png": "[encoded data removed]",
      "text/plain": [
       "<Figure size 1080x432 with 8 Axes>"
      ]
     },
     "metadata": {
      "needs_background": "light"
     },
     "output_type": "display_data"
    }
   ],
   "source": [
    "data_dist = data1.select_dtypes(np.number).drop('Interest_Rate',axis = 1)\n",
    "fig,ax = plt.subplots(nrows = 2,ncols = 4,figsize = (15,6))\n",
    "for variables,plotsubs in zip(data_dist.columns,ax.flatten()):\n",
    "    plt.title(variables)\n",
    "    plotsubs.tick_params(labelsize = 10)\n",
    "    plotsubs.set_xlabel(variables,fontsize = 10)\n",
    "    sns.distplot(data_dist[variables],ax = plotsubs)\n",
    "    plt.tight_layout()\n",
    "    plt.subplots_adjust(top = 0.92) \n",
    "fig.suptitle('Distributions of numerical features',fontsize = 15)\n",
    "plt.show()"
   ]
  },
  {
   "cell_type": "code",
   "execution_count": 5,
   "id": "animal-amino",
   "metadata": {},
   "outputs": [],
   "source": [
    "#Instead of using OneHotEncoder, we will be using label encoder here since magnitude would not matter in USL\n",
    "data1.drop('Interest_Rate',axis = 1,inplace = True)"
   ]
  },
  {
   "cell_type": "code",
   "execution_count": 6,
   "id": "thorough-broadcasting",
   "metadata": {},
   "outputs": [],
   "source": [
    "from sklearn.preprocessing import LabelEncoder\n",
    "le = LabelEncoder()\n",
    "for i in data1.select_dtypes('object').columns:\n",
    "    data1[i] = le.fit_transform(data1[i])"
   ]
  },
  {
   "cell_type": "markdown",
   "id": "regular-decrease",
   "metadata": {},
   "source": [
    "###### Standardizing the dataset"
   ]
  },
  {
   "cell_type": "code",
   "execution_count": 7,
   "id": "suspected-gates",
   "metadata": {},
   "outputs": [],
   "source": [
    "from sklearn.preprocessing import StandardScaler\n",
    "ss = StandardScaler()\n",
    "data_scaled = pd.DataFrame(ss.fit_transform(data1),columns = data1.columns)"
   ]
  },
  {
   "cell_type": "markdown",
   "id": "blessed-flood",
   "metadata": {},
   "source": [
    "###### Data is now ready for applying Unsupervised learning techniques"
   ]
  },
  {
   "cell_type": "markdown",
   "id": "english-survivor",
   "metadata": {},
   "source": [
    "###### K-Means Clustering"
   ]
  },
  {
   "cell_type": "code",
   "execution_count": 22,
   "id": "fitting-national",
   "metadata": {},
   "outputs": [],
   "source": [
    "from sklearn.cluster import KMeans\n",
    "wcv = []\n",
    "for i in range(1,10):\n",
    "    km = KMeans(n_clusters = i)\n",
    "    km.fit(data_scaled)\n",
    "    wcv.append(km.inertia_)"
   ]
  },
  {
   "cell_type": "code",
   "execution_count": 23,
   "id": "funny-kidney",
   "metadata": {},
   "outputs": [
    {
     "data": {
      "image/png": "[encoded data removed]",
      "text/plain": [
       "<Figure size 1080x432 with 1 Axes>"
      ]
     },
     "metadata": {
      "needs_background": "light"
     },
     "output_type": "display_data"
    }
   ],
   "source": [
    "plt.figure(figsize = (15,6))\n",
    "plt.title('Within Cluster Variation')\n",
    "plt.plot(range(1,10),wcv,color = 'b')\n",
    "plt.xlabel('No. of clusters')\n",
    "plt.ylabel('WCV')\n",
    "plt.show()"
   ]
  },
  {
   "cell_type": "code",
   "execution_count": 43,
   "id": "extraordinary-regression",
   "metadata": {},
   "outputs": [],
   "source": [
    "#Optimum number of clusters are 2,3 or 4. Since our dataset had 3 clusters in the begining we will be going with\n",
    "#3 clusters.\n",
    "from sklearn.cluster import KMeans\n",
    "km = KMeans(n_clusters = 3)\n",
    "km.fit(data_scaled)\n",
    "target1 = pd.Series(km.predict(data_scaled),name = 'Interest_Rate')"
   ]
  },
  {
   "cell_type": "code",
   "execution_count": 45,
   "id": "directed-passing",
   "metadata": {},
   "outputs": [
    {
     "data": {
      "image/png": "[encoded data removed]",
      "text/plain": [
       "<Figure size 1080x288 with 2 Axes>"
      ]
     },
     "metadata": {
      "needs_background": "light"
     },
     "output_type": "display_data"
    }
   ],
   "source": [
    "fig,ax = plt.subplots(1,2,figsize = (15,4))\n",
    "comp = 'Loan_Amount_Requested'\n",
    "targ = 'Interest_Rate'\n",
    "sns.boxplot(df[targ],data1[comp],ax = ax[0])\n",
    "sns.boxplot(target1,data1[comp],ax = ax[1])\n",
    "plt.show()"
   ]
  },
  {
   "cell_type": "code",
   "execution_count": 46,
   "id": "structural-medicaid",
   "metadata": {},
   "outputs": [
    {
     "data": {
      "text/plain": [
       "2    62405\n",
       "3    49957\n",
       "1    29937\n",
       "Name: Interest_Rate, dtype: int64"
      ]
     },
     "execution_count": 46,
     "metadata": {},
     "output_type": "execute_result"
    }
   ],
   "source": [
    "df['Interest_Rate'].value_counts()"
   ]
  },
  {
   "cell_type": "code",
   "execution_count": 48,
   "id": "hybrid-citizenship",
   "metadata": {},
   "outputs": [
    {
     "data": {
      "text/plain": [
       "1    68290\n",
       "2    59513\n",
       "0    14496\n",
       "Name: Interest_Rate, dtype: int64"
      ]
     },
     "execution_count": 48,
     "metadata": {},
     "output_type": "execute_result"
    }
   ],
   "source": [
    "#Using loan amount requested to rename the predicted target\n",
    "target1.value_counts()"
   ]
  },
  {
   "cell_type": "code",
   "execution_count": 49,
   "id": "canadian-female",
   "metadata": {},
   "outputs": [
    {
     "data": {
      "text/plain": [
       "2    68290\n",
       "3    59513\n",
       "1    14496\n",
       "Name: Interest_Rate, dtype: int64"
      ]
     },
     "execution_count": 49,
     "metadata": {},
     "output_type": "execute_result"
    }
   ],
   "source": [
    "target1.map({0:1,1:2,2:3}).value_counts()"
   ]
  },
  {
   "cell_type": "code",
   "execution_count": 53,
   "id": "enabling-sweden",
   "metadata": {},
   "outputs": [
    {
     "data": {
      "text/plain": [
       "(48874, 13)"
      ]
     },
     "execution_count": 53,
     "metadata": {},
     "output_type": "execute_result"
    }
   ],
   "source": [
    "df[df['Interest_Rate']==target1.map({0:1,1:2,2:3})].shape\n",
    "#We see 48874 values that match with the original target variable. This could explain the low accuracy in the \n",
    "#classification models."
   ]
  },
  {
   "cell_type": "code",
   "execution_count": 54,
   "id": "infrared-outline",
   "metadata": {},
   "outputs": [],
   "source": [
    "target1 = target1.map({0:1,1:2,2:3})"
   ]
  },
  {
   "cell_type": "code",
   "execution_count": null,
   "id": "subjective-worse",
   "metadata": {},
   "outputs": [],
   "source": []
  },
  {
   "cell_type": "markdown",
   "id": "phantom-thong",
   "metadata": {},
   "source": [
    "###### Hierarchial Clustering"
   ]
  },
  {
   "cell_type": "code",
   "execution_count": 8,
   "id": "clinical-mouth",
   "metadata": {},
   "outputs": [],
   "source": [
    "from sklearn.cluster import AgglomerativeClustering\n",
    "import scipy.cluster.hierarchy as sch"
   ]
  },
  {
   "cell_type": "code",
   "execution_count": null,
   "id": "prospective-gates",
   "metadata": {},
   "outputs": [],
   "source": [
    "X_a = data_scaled.sample(35000)\n",
    "plt.figure(figsize = (15,6))\n",
    "sch.dendrogram(sch.linkage(X_a,'ward'),p = 10, truncate_mode = 'level')\n",
    "plt.show()"
   ]
  },
  {
   "cell_type": "markdown",
   "id": "approved-genesis",
   "metadata": {},
   "source": [
    "###### Trying KMeans with PCA"
   ]
  },
  {
   "cell_type": "code",
   "execution_count": null,
   "id": "other-conservation",
   "metadata": {},
   "outputs": [],
   "source": [
    "from sklearn.decomposition import PCA\n",
    "pca = PCA()\n",
    "pca.fit(data_scaled)\n",
    "len(np.cumsum(pca.explained_variance_ratio_)[np.cumsum(pca.explained_variance_ratio_)<=0.95])\n",
    "#10 components tends to preserve 95% of variance"
   ]
  },
  {
   "cell_type": "code",
   "execution_count": null,
   "id": "sacred-bernard",
   "metadata": {},
   "outputs": [],
   "source": [
    "pca = PCA(n_components = 0.95)\n",
    "X_pca = pca.fit_transform(data_scaled)"
   ]
  },
  {
   "cell_type": "code",
   "execution_count": 97,
   "id": "stunning-calculation",
   "metadata": {},
   "outputs": [],
   "source": [
    "from sklearn.cluster import KMeans\n",
    "wcv = []\n",
    "for i in range(1,10):\n",
    "    km = KMeans(n_clusters = i)\n",
    "    km.fit(X_pca)\n",
    "    wcv.append(km.inertia_)"
   ]
  },
  {
   "cell_type": "code",
   "execution_count": 98,
   "id": "aggregate-gambling",
   "metadata": {},
   "outputs": [
    {
     "data": {
      "image/png": "[encoded data removed]",
      "text/plain": [
       "<Figure size 1080x432 with 1 Axes>"
      ]
     },
     "metadata": {
      "needs_background": "light"
     },
     "output_type": "display_data"
    }
   ],
   "source": [
    "plt.figure(figsize = (15,6))\n",
    "plt.title('Within Cluster Variation')\n",
    "plt.plot(range(1,10),wcv,color = 'b')\n",
    "plt.xlabel('No. of clusters')\n",
    "plt.ylabel('WCV')\n",
    "plt.show()"
   ]
  },
  {
   "cell_type": "code",
   "execution_count": 57,
   "id": "front-giant",
   "metadata": {},
   "outputs": [],
   "source": [
    "#Optimum number of clusters are 2,3 or 4. Since our dataset had 3 clusters in the begining we will be going with\n",
    "#3 clusters.\n",
    "km = KMeans(n_clusters = 3)\n",
    "km.fit(X_pca)\n",
    "target2 = pd.Series(km.predict(X_pca))"
   ]
  },
  {
   "cell_type": "code",
   "execution_count": 58,
   "id": "insured-daughter",
   "metadata": {
    "scrolled": true
   },
   "outputs": [
    {
     "data": {
      "image/png": "[encoded data removed]",
      "text/plain": [
       "<Figure size 1080x288 with 2 Axes>"
      ]
     },
     "metadata": {
      "needs_background": "light"
     },
     "output_type": "display_data"
    }
   ],
   "source": [
    "fig,ax = plt.subplots(1,2,figsize = (15,4))\n",
    "comp = 'Loan_Amount_Requested'\n",
    "targ = 'Interest_Rate'\n",
    "sns.boxplot(df[targ],data1[comp],ax = ax[0])\n",
    "sns.boxplot(target2,data1[comp],ax = ax[1])\n",
    "plt.show()"
   ]
  },
  {
   "cell_type": "code",
   "execution_count": 59,
   "id": "moral-sleep",
   "metadata": {},
   "outputs": [
    {
     "data": {
      "text/plain": [
       "1    62784\n",
       "2    46022\n",
       "0    33493\n",
       "dtype: int64"
      ]
     },
     "execution_count": 59,
     "metadata": {},
     "output_type": "execute_result"
    }
   ],
   "source": [
    "#Using loan amount requested to rename the predicted target\n",
    "target2.value_counts()"
   ]
  },
  {
   "cell_type": "code",
   "execution_count": 60,
   "id": "tough-strategy",
   "metadata": {},
   "outputs": [
    {
     "data": {
      "text/plain": [
       "2    62405\n",
       "3    49957\n",
       "1    29937\n",
       "Name: Interest_Rate, dtype: int64"
      ]
     },
     "execution_count": 60,
     "metadata": {},
     "output_type": "execute_result"
    }
   ],
   "source": [
    "df['Interest_Rate'].value_counts()"
   ]
  },
  {
   "cell_type": "code",
   "execution_count": 68,
   "id": "compliant-typing",
   "metadata": {},
   "outputs": [
    {
     "data": {
      "text/plain": [
       "2    62784\n",
       "3    46022\n",
       "1    33493\n",
       "dtype: int64"
      ]
     },
     "execution_count": 68,
     "metadata": {},
     "output_type": "execute_result"
    }
   ],
   "source": [
    "target2.map({0:1,1:2,2:3}).value_counts()"
   ]
  },
  {
   "cell_type": "code",
   "execution_count": 69,
   "id": "cubic-jason",
   "metadata": {},
   "outputs": [
    {
     "data": {
      "text/plain": [
       "(52818, 13)"
      ]
     },
     "execution_count": 69,
     "metadata": {},
     "output_type": "execute_result"
    }
   ],
   "source": [
    "df[df['Interest_Rate']==target2.map({0:1,1:2,2:3})].shape\n",
    "#In case of PCA data, we see 52K targets that match with the original target. \n",
    "#This is better than before but still this is not great for our original target."
   ]
  },
  {
   "cell_type": "markdown",
   "id": "quick-liverpool",
   "metadata": {},
   "source": [
    "###### Inference\n",
    "\n",
    "* The mismatch in the original target variable and our created target variable could explain the underperformance of all ML algorithms in classification. Not reducing dimensions tends to better mimic the original target variable."
   ]
  },
  {
   "cell_type": "code",
   "execution_count": 75,
   "id": "specified-learning",
   "metadata": {},
   "outputs": [],
   "source": [
    "target2 = pd.Series(target2.map({0:1,1:2,2:3}),name = 'Interest_Rate')"
   ]
  },
  {
   "cell_type": "markdown",
   "id": "according-pixel",
   "metadata": {},
   "source": [
    "###### Hierarchial Clustering"
   ]
  },
  {
   "cell_type": "code",
   "execution_count": null,
   "id": "optional-details",
   "metadata": {},
   "outputs": [],
   "source": [
    "from sklearn.cluster import AgglomerativeClustering\n",
    "import scipy.cluster.hierarchy as sch"
   ]
  },
  {
   "cell_type": "code",
   "execution_count": null,
   "id": "premium-facing",
   "metadata": {},
   "outputs": [],
   "source": [
    "X_a_pca = pd.DataFrame(X_pca).sample(35000)\n",
    "plt.figure(figsize = (15,6))\n",
    "sch.dendrogram(sch.linkage(X_a_pca,'ward'),p = 10, truncate_mode = 'level')\n",
    "plt.show()"
   ]
  },
  {
   "cell_type": "code",
   "execution_count": 77,
   "id": "abandoned-lambda",
   "metadata": {},
   "outputs": [],
   "source": [
    "df_class = pd.concat((data1,target2),axis = 1)"
   ]
  },
  {
   "cell_type": "code",
   "execution_count": 78,
   "id": "first-denver",
   "metadata": {},
   "outputs": [],
   "source": [
    "df_class.to_csv('Data/clusters_obtained.csv',index = False)"
   ]
  },
  {
   "cell_type": "markdown",
   "id": "informal-potato",
   "metadata": {},
   "source": [
    "# Applying Classification Algorithm the data with new target"
   ]
  },
  {
   "cell_type": "code",
   "execution_count": 81,
   "id": "settled-indiana",
   "metadata": {},
   "outputs": [
    {
     "data": {
      "text/html": [
       "<div>\n",
       "<style scoped>\n",
       "    .dataframe tbody tr th:only-of-type {\n",
       "        vertical-align: middle;\n",
       "    }\n",
       "\n",
       "    .dataframe tbody tr th {\n",
       "        vertical-align: top;\n",
       "    }\n",
       "\n",
       "    .dataframe thead th {\n",
       "        text-align: right;\n",
       "    }\n",
       "</style>\n",
       "<table border=\"1\" class=\"dataframe\">\n",
       "  <thead>\n",
       "    <tr style=\"text-align: right;\">\n",
       "      <th></th>\n",
       "      <th>Loan_Amount_Requested</th>\n",
       "      <th>Length_Employed</th>\n",
       "      <th>Annual_Income</th>\n",
       "      <th>Debt_To_Income</th>\n",
       "      <th>Inquiries_Last_6Mo</th>\n",
       "      <th>Number_Open_Accounts</th>\n",
       "      <th>Total_Accounts</th>\n",
       "      <th>Home_Owner</th>\n",
       "      <th>Income_Verified</th>\n",
       "      <th>Purpose_Of_Loan</th>\n",
       "      <th>Gender</th>\n",
       "      <th>Months_Since_Deliquency</th>\n",
       "      <th>Interest_Rate</th>\n",
       "    </tr>\n",
       "  </thead>\n",
       "  <tbody>\n",
       "    <tr>\n",
       "      <th>0</th>\n",
       "      <td>83.666003</td>\n",
       "      <td>0.0</td>\n",
       "      <td>84.824098</td>\n",
       "      <td>18.0</td>\n",
       "      <td>0.0</td>\n",
       "      <td>3.000000</td>\n",
       "      <td>3.741657</td>\n",
       "      <td>4</td>\n",
       "      <td>1</td>\n",
       "      <td>0</td>\n",
       "      <td>0</td>\n",
       "      <td>4.995113</td>\n",
       "      <td>3</td>\n",
       "    </tr>\n",
       "    <tr>\n",
       "      <th>1</th>\n",
       "      <td>173.205081</td>\n",
       "      <td>4.0</td>\n",
       "      <td>94.869560</td>\n",
       "      <td>15.0</td>\n",
       "      <td>0.0</td>\n",
       "      <td>3.464102</td>\n",
       "      <td>4.898979</td>\n",
       "      <td>0</td>\n",
       "      <td>0</td>\n",
       "      <td>2</td>\n",
       "      <td>0</td>\n",
       "      <td>5.274590</td>\n",
       "      <td>2</td>\n",
       "    </tr>\n",
       "    <tr>\n",
       "      <th>2</th>\n",
       "      <td>157.241852</td>\n",
       "      <td>7.0</td>\n",
       "      <td>87.584961</td>\n",
       "      <td>16.0</td>\n",
       "      <td>0.0</td>\n",
       "      <td>3.464102</td>\n",
       "      <td>4.000000</td>\n",
       "      <td>0</td>\n",
       "      <td>0</td>\n",
       "      <td>2</td>\n",
       "      <td>1</td>\n",
       "      <td>4.995113</td>\n",
       "      <td>2</td>\n",
       "    </tr>\n",
       "    <tr>\n",
       "      <th>3</th>\n",
       "      <td>130.384048</td>\n",
       "      <td>8.0</td>\n",
       "      <td>94.172943</td>\n",
       "      <td>22.0</td>\n",
       "      <td>1.0</td>\n",
       "      <td>4.358899</td>\n",
       "      <td>5.477226</td>\n",
       "      <td>3</td>\n",
       "      <td>0</td>\n",
       "      <td>2</td>\n",
       "      <td>0</td>\n",
       "      <td>4.995113</td>\n",
       "      <td>2</td>\n",
       "    </tr>\n",
       "    <tr>\n",
       "      <th>4</th>\n",
       "      <td>67.082039</td>\n",
       "      <td>2.0</td>\n",
       "      <td>66.067455</td>\n",
       "      <td>11.0</td>\n",
       "      <td>1.0</td>\n",
       "      <td>3.464102</td>\n",
       "      <td>3.872983</td>\n",
       "      <td>4</td>\n",
       "      <td>0</td>\n",
       "      <td>1</td>\n",
       "      <td>1</td>\n",
       "      <td>4.995113</td>\n",
       "      <td>3</td>\n",
       "    </tr>\n",
       "  </tbody>\n",
       "</table>\n",
       "</div>"
      ],
      "text/plain": [
       "   Loan_Amount_Requested  Length_Employed  Annual_Income  Debt_To_Income  \\\n",
       "0              83.666003              0.0      84.824098            18.0   \n",
       "1             173.205081              4.0      94.869560            15.0   \n",
       "2             157.241852              7.0      87.584961            16.0   \n",
       "3             130.384048              8.0      94.172943            22.0   \n",
       "4              67.082039              2.0      66.067455            11.0   \n",
       "\n",
       "   Inquiries_Last_6Mo  Number_Open_Accounts  Total_Accounts  Home_Owner  \\\n",
       "0                 0.0              3.000000        3.741657           4   \n",
       "1                 0.0              3.464102        4.898979           0   \n",
       "2                 0.0              3.464102        4.000000           0   \n",
       "3                 1.0              4.358899        5.477226           3   \n",
       "4                 1.0              3.464102        3.872983           4   \n",
       "\n",
       "   Income_Verified  Purpose_Of_Loan  Gender  Months_Since_Deliquency  \\\n",
       "0                1                0       0                 4.995113   \n",
       "1                0                2       0                 5.274590   \n",
       "2                0                2       1                 4.995113   \n",
       "3                0                2       0                 4.995113   \n",
       "4                0                1       1                 4.995113   \n",
       "\n",
       "   Interest_Rate  \n",
       "0              3  \n",
       "1              2  \n",
       "2              2  \n",
       "3              2  \n",
       "4              3  "
      ]
     },
     "execution_count": 81,
     "metadata": {},
     "output_type": "execute_result"
    }
   ],
   "source": [
    "df = pd.read_csv('Data/clusters_obtained.csv')\n",
    "df.head()"
   ]
  },
  {
   "cell_type": "markdown",
   "id": "three-warren",
   "metadata": {},
   "source": [
    "###### Train_Test_Split"
   ]
  },
  {
   "cell_type": "code",
   "execution_count": 119,
   "id": "amateur-ecuador",
   "metadata": {},
   "outputs": [
    {
     "data": {
      "text/plain": [
       "(2.090715835522097, 2.077371749824315)"
      ]
     },
     "execution_count": 119,
     "metadata": {},
     "output_type": "execute_result"
    }
   ],
   "source": [
    "from sklearn.model_selection import train_test_split\n",
    "X = df.drop('Interest_Rate',axis =1)\n",
    "y = df['Interest_Rate']\n",
    "\n",
    "X_train,X_test,y_train,y_test = train_test_split(X,y,test_size = 0.2,random_state = 1)\n",
    "np.mean(y_train),np.mean(y_test) #Train,test split is ok"
   ]
  },
  {
   "cell_type": "markdown",
   "id": "sexual-baker",
   "metadata": {},
   "source": [
    "###### Standardizing for LogisticRegression"
   ]
  },
  {
   "cell_type": "code",
   "execution_count": 120,
   "id": "smooth-lying",
   "metadata": {},
   "outputs": [
    {
     "data": {
      "text/plain": [
       "(2.090715835522097, 2.077371749824315)"
      ]
     },
     "execution_count": 120,
     "metadata": {},
     "output_type": "execute_result"
    }
   ],
   "source": [
    "from sklearn.preprocessing import StandardScaler\n",
    "\n",
    "ss = StandardScaler()\n",
    "X_scaled = pd.DataFrame(ss.fit_transform(X),columns = X.columns)\n",
    "\n",
    "X_train_s,X_test_s,y_train,y_test = train_test_split(X_scaled,y,test_size = 0.2,random_state = 1)\n",
    "np.mean(y_train),np.mean(y_test) #Train,test split is ok"
   ]
  },
  {
   "cell_type": "markdown",
   "id": "seasonal-witness",
   "metadata": {},
   "source": [
    "###### Logistic Regression (Unscaled data)"
   ]
  },
  {
   "cell_type": "code",
   "execution_count": 127,
   "id": "catholic-graphic",
   "metadata": {},
   "outputs": [],
   "source": [
    "#Applying logistic regression from sklearn\n",
    "from sklearn.linear_model import LinearRegression\n",
    "lr = LinearRegression()\n",
    "lr.fit(X_train,y_train)\n",
    "pred = lr.predict(X_test)\n",
    "\n",
    "p_const = [1 if i<=1 else 2 if i>1 and i<=2.5 else 3 for i in pred]"
   ]
  },
  {
   "cell_type": "code",
   "execution_count": 128,
   "id": "younger-harmony",
   "metadata": {
    "scrolled": true
   },
   "outputs": [
    {
     "name": "stdout",
     "output_type": "stream",
     "text": [
      "              precision    recall  f1-score   support\n",
      "\n",
      "           1       0.98      0.16      0.27      6849\n",
      "           2       0.59      0.96      0.73     12560\n",
      "           3       0.93      0.71      0.81      9051\n",
      "\n",
      "    accuracy                           0.69     28460\n",
      "   macro avg       0.83      0.61      0.60     28460\n",
      "weighted avg       0.79      0.69      0.64     28460\n",
      "\n"
     ]
    }
   ],
   "source": [
    "from sklearn.metrics import classification_report\n",
    "print(classification_report(y_test,p_const))\n",
    "#Immediately we see an improvement in accuracy to 69% as compared to 46% which we achieved from our base model"
   ]
  },
  {
   "cell_type": "markdown",
   "id": "sitting-protest",
   "metadata": {},
   "source": [
    "###### Logistic Regression (scaled data)"
   ]
  },
  {
   "cell_type": "code",
   "execution_count": 129,
   "id": "descending-electricity",
   "metadata": {},
   "outputs": [],
   "source": [
    "#Applying logistic regression from sklearn\n",
    "from sklearn.linear_model import LinearRegression\n",
    "lr = LinearRegression()\n",
    "lr.fit(X_train_s,y_train)\n",
    "pred = lr.predict(X_test_s)\n",
    "\n",
    "p_const_s = [1 if i<=1 else 2 if i>1 and i<=2.5 else 3 for i in pred]"
   ]
  },
  {
   "cell_type": "code",
   "execution_count": 130,
   "id": "detected-arthur",
   "metadata": {
    "scrolled": true
   },
   "outputs": [
    {
     "name": "stdout",
     "output_type": "stream",
     "text": [
      "              precision    recall  f1-score   support\n",
      "\n",
      "           1       0.98      0.16      0.27      6849\n",
      "           2       0.59      0.96      0.73     12560\n",
      "           3       0.93      0.71      0.81      9051\n",
      "\n",
      "    accuracy                           0.69     28460\n",
      "   macro avg       0.83      0.61      0.60     28460\n",
      "weighted avg       0.79      0.69      0.64     28460\n",
      "\n"
     ]
    }
   ],
   "source": [
    "from sklearn.metrics import classification_report\n",
    "print(classification_report(y_test,p_const_s))\n",
    "#Immediately we see an improvement in accuracy to 69% as compared to 46% which we achieved from our base model"
   ]
  },
  {
   "cell_type": "markdown",
   "id": "official-lancaster",
   "metadata": {},
   "source": [
    "###### Initializing model_function"
   ]
  },
  {
   "cell_type": "code",
   "execution_count": 131,
   "id": "practical-sodium",
   "metadata": {},
   "outputs": [],
   "source": [
    "from sklearn.model_selection import cross_val_score\n",
    "\n",
    "def model_function(estimator,X,y):\n",
    "    \n",
    "    f1 = cross_val_score(estimator,X,y,cv = 5,scoring = 'f1_weighted',n_jobs = -1)\n",
    "    accuracy = cross_val_score(estimator,X,y,cv = 5,scoring = 'accuracy',n_jobs = -1)\n",
    "    \n",
    "    return round(np.mean(f1),2),round(np.mean(accuracy),2),estimator"
   ]
  },
  {
   "cell_type": "code",
   "execution_count": 138,
   "id": "coral-adelaide",
   "metadata": {},
   "outputs": [],
   "source": [
    "# !pip install lightgbm"
   ]
  },
  {
   "cell_type": "code",
   "execution_count": 141,
   "id": "british-commissioner",
   "metadata": {},
   "outputs": [],
   "source": [
    "from sklearn.tree import DecisionTreeClassifier\n",
    "from sklearn.naive_bayes import MultinomialNB\n",
    "from sklearn.ensemble import ExtraTreesClassifier\n",
    "from sklearn.ensemble import RandomForestClassifier\n",
    "from sklearn.ensemble import GradientBoostingClassifier\n",
    "from sklearn.ensemble import AdaBoostClassifier\n",
    "from lightgbm import LGBMClassifier\n",
    "from xgboost import XGBClassifier\n",
    "from catboost import CatBoostClassifier"
   ]
  },
  {
   "cell_type": "code",
   "execution_count": null,
   "id": "outstanding-korean",
   "metadata": {},
   "outputs": [],
   "source": []
  },
  {
   "cell_type": "code",
   "execution_count": 111,
   "id": "fantastic-houston",
   "metadata": {},
   "outputs": [],
   "source": [
    "f1_all = []\n",
    "accuracy_all = []\n",
    "model_name = []"
   ]
  },
  {
   "cell_type": "code",
   "execution_count": 153,
   "id": "drawn-think",
   "metadata": {},
   "outputs": [],
   "source": [
    "#Creating a list with all models\n",
    "dtc  =   DecisionTreeClassifier(random_state=5)\n",
    "nb   =   MultinomialNB()\n",
    "etc  =   ExtraTreesClassifier(random_state=5)\n",
    "rfc  =   RandomForestClassifier(random_state=5)\n",
    "gbc  =   GradientBoostingClassifier(random_state=5)\n",
    "abc  =   AdaBoostClassifier(random_state=5)\n",
    "lgbc =   LGBMClassifier(objective='multiclass', random_state=5,task_type = 'GPU')\n",
    "xgbc =   XGBClassifier(random_state=5,task_type = 'GPU')\n",
    "cbc  =   CatBoostClassifier(random_state = 5,task_type = 'GPU')\n",
    "\n",
    "models = [dtc,nb,etc,rfc,gbc,abc,lgbc,xgbc,cbc]"
   ]
  },
  {
   "cell_type": "markdown",
   "id": "fatal-welsh",
   "metadata": {},
   "source": [
    "###### Running all models to see which algorithm gives us good scores."
   ]
  },
  {
   "cell_type": "code",
   "execution_count": 116,
   "id": "sensitive-aruba",
   "metadata": {},
   "outputs": [],
   "source": [
    "for i in models:\n",
    "    f1,accuracy,estimator = model_function(i,X,y)\n",
    "    f1_all.append(f1)\n",
    "    accuracy_all.append(accuracy)\n",
    "    model_name.append(estimator)"
   ]
  },
  {
   "cell_type": "code",
   "execution_count": 117,
   "id": "tight-craft",
   "metadata": {},
   "outputs": [
    {
     "data": {
      "text/html": [
       "<div>\n",
       "<style scoped>\n",
       "    .dataframe tbody tr th:only-of-type {\n",
       "        vertical-align: middle;\n",
       "    }\n",
       "\n",
       "    .dataframe tbody tr th {\n",
       "        vertical-align: top;\n",
       "    }\n",
       "\n",
       "    .dataframe thead th {\n",
       "        text-align: right;\n",
       "    }\n",
       "</style>\n",
       "<table border=\"1\" class=\"dataframe\">\n",
       "  <thead>\n",
       "    <tr style=\"text-align: right;\">\n",
       "      <th></th>\n",
       "      <th>Model</th>\n",
       "      <th>Accuracy</th>\n",
       "      <th>F1 Score</th>\n",
       "    </tr>\n",
       "  </thead>\n",
       "  <tbody>\n",
       "    <tr>\n",
       "      <th>0</th>\n",
       "      <td>DecisionTreeClassifier()</td>\n",
       "      <td>0.94</td>\n",
       "      <td>0.94</td>\n",
       "    </tr>\n",
       "    <tr>\n",
       "      <th>1</th>\n",
       "      <td>RandomForestClassifier()</td>\n",
       "      <td>0.97</td>\n",
       "      <td>0.97</td>\n",
       "    </tr>\n",
       "  </tbody>\n",
       "</table>\n",
       "</div>"
      ],
      "text/plain": [
       "                      Model  Accuracy  F1 Score\n",
       "0  DecisionTreeClassifier()      0.94      0.94\n",
       "1  RandomForestClassifier()      0.97      0.97"
      ]
     },
     "execution_count": 117,
     "metadata": {},
     "output_type": "execute_result"
    }
   ],
   "source": [
    "pd.DataFrame({'Model':model_name,'Accuracy':accuracy_all,'F1 Score': f1_all})"
   ]
  },
  {
   "cell_type": "code",
   "execution_count": null,
   "id": "architectural-margin",
   "metadata": {},
   "outputs": [],
   "source": [
    "#On our classified data, all algorithms seem to do very well."
   ]
  }
 ],
 "metadata": {
  "kernelspec": {
   "display_name": "Python 3",
   "language": "python",
   "name": "python3"
  },
  "language_info": {
   "codemirror_mode": {
    "name": "ipython",
    "version": 3
   },
   "file_extension": ".py",
   "mimetype": "text/x-python",
   "name": "python",
   "nbconvert_exporter": "python",
   "pygments_lexer": "ipython3",
   "version": "3.7.4"
  }
 },
 "nbformat": 4,
 "nbformat_minor": 5
}
