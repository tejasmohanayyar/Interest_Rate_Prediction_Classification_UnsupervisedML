{
 "cells": [
  {
   "cell_type": "markdown",
   "id": "subjective-nickname",
   "metadata": {
    "id": "subjective-nickname"
   },
   "source": [
    "# <div align = 'center'>Model Building</div>\n",
    "\n",
    "###### Models to be used in this problem\n",
    "\n",
    "* LogisticRegression\n",
    "* MulltinomialNB\n",
    "* DecisionTreeClassifier\n",
    "* ExtraTreesClassifier\n",
    "* RandomForestClassifier\n",
    "* AdaBoostClassifier\n",
    "* GradientBoostingClassifier\n",
    "* XGBClassifier\n",
    "* CatBoostClassifier"
   ]
  },
  {
   "cell_type": "code",
   "execution_count": null,
   "id": "luCUETukXqA5",
   "metadata": {
    "colab": {
     "base_uri": "https://localhost:8080/"
    },
    "id": "luCUETukXqA5",
    "outputId": "11894915-92df-47e8-f461-e9c121c1a2f0"
   },
   "outputs": [
    {
     "name": "stdout",
     "output_type": "stream",
     "text": [
      "Tue Apr 13 13:15:27 2021       \n",
      "+-----------------------------------------------------------------------------+\n",
      "| NVIDIA-SMI 460.67       Driver Version: 460.32.03    CUDA Version: 11.2     |\n",
      "|-------------------------------+----------------------+----------------------+\n",
      "| GPU  Name        Persistence-M| Bus-Id        Disp.A | Volatile Uncorr. ECC |\n",
      "| Fan  Temp  Perf  Pwr:Usage/Cap|         Memory-Usage | GPU-Util  Compute M. |\n",
      "|                               |                      |               MIG M. |\n",
      "|===============================+======================+======================|\n",
      "|   0  Tesla T4            Off  | 00000000:00:04.0 Off |                    0 |\n",
      "| N/A   61C    P8    10W /  70W |      0MiB / 15109MiB |      0%      Default |\n",
      "|                               |                      |                  N/A |\n",
      "+-------------------------------+----------------------+----------------------+\n",
      "                                                                               \n",
      "+-----------------------------------------------------------------------------+\n",
      "| Processes:                                                                  |\n",
      "|  GPU   GI   CI        PID   Type   Process name                  GPU Memory |\n",
      "|        ID   ID                                                   Usage      |\n",
      "|=============================================================================|\n",
      "|  No running processes found                                                 |\n",
      "+-----------------------------------------------------------------------------+\n"
     ]
    }
   ],
   "source": [
    "!nvidia-smi"
   ]
  },
  {
   "cell_type": "code",
   "execution_count": 1,
   "id": "smaller-incident",
   "metadata": {
    "id": "smaller-incident"
   },
   "outputs": [],
   "source": [
    "import warnings\n",
    "warnings.simplefilter('ignore')\n",
    "import pandas as pd\n",
    "import matplotlib.pyplot as plt\n",
    "import seaborn as sns\n",
    "import numpy as np\n",
    "import scipy.stats as stats"
   ]
  },
  {
   "cell_type": "markdown",
   "id": "planned-appendix",
   "metadata": {
    "id": "planned-appendix"
   },
   "source": [
    "###### Creating a base model without any imputations or treatment. Only null values have been treated"
   ]
  },
  {
   "cell_type": "code",
   "execution_count": null,
   "id": "NnvJmY-mUuhs",
   "metadata": {
    "colab": {
     "base_uri": "https://localhost:8080/"
    },
    "id": "NnvJmY-mUuhs",
    "outputId": "c9e76978-94ab-4738-a638-cbb0ff8b9a9b"
   },
   "outputs": [
    {
     "name": "stdout",
     "output_type": "stream",
     "text": [
      "Archive:  Data.zip\n",
      "   creating: Data/\n",
      "  inflating: Data/capstone_train.csv  \n",
      "  inflating: Data/filled_train_28-03.csv  \n"
     ]
    }
   ],
   "source": [
    "!unzip Data.zip"
   ]
  },
  {
   "cell_type": "code",
   "execution_count": 2,
   "id": "exceptional-solution",
   "metadata": {
    "id": "exceptional-solution",
    "outputId": "894cf9d3-7c8e-4b33-d3dc-b3b96825176b"
   },
   "outputs": [
    {
     "data": {
      "text/html": [
       "<div>\n",
       "<style scoped>\n",
       "    .dataframe tbody tr th:only-of-type {\n",
       "        vertical-align: middle;\n",
       "    }\n",
       "\n",
       "    .dataframe tbody tr th {\n",
       "        vertical-align: top;\n",
       "    }\n",
       "\n",
       "    .dataframe thead th {\n",
       "        text-align: right;\n",
       "    }\n",
       "</style>\n",
       "<table border=\"1\" class=\"dataframe\">\n",
       "  <thead>\n",
       "    <tr style=\"text-align: right;\">\n",
       "      <th></th>\n",
       "      <th>Loan_ID</th>\n",
       "      <th>Loan_Amount_Requested</th>\n",
       "      <th>Length_Employed</th>\n",
       "      <th>Home_Owner</th>\n",
       "      <th>Annual_Income</th>\n",
       "      <th>Income_Verified</th>\n",
       "      <th>Purpose_Of_Loan</th>\n",
       "      <th>Debt_To_Income</th>\n",
       "      <th>Inquiries_Last_6Mo</th>\n",
       "      <th>Months_Since_Deliquency</th>\n",
       "      <th>Number_Open_Accounts</th>\n",
       "      <th>Total_Accounts</th>\n",
       "      <th>Gender</th>\n",
       "      <th>Interest_Rate</th>\n",
       "    </tr>\n",
       "  </thead>\n",
       "  <tbody>\n",
       "    <tr>\n",
       "      <th>0</th>\n",
       "      <td>10000001</td>\n",
       "      <td>7,000</td>\n",
       "      <td>&lt; 1 year</td>\n",
       "      <td>Rent</td>\n",
       "      <td>68000.0</td>\n",
       "      <td>not verified</td>\n",
       "      <td>car</td>\n",
       "      <td>18.37</td>\n",
       "      <td>0</td>\n",
       "      <td>NaN</td>\n",
       "      <td>9</td>\n",
       "      <td>14</td>\n",
       "      <td>Female</td>\n",
       "      <td>1</td>\n",
       "    </tr>\n",
       "    <tr>\n",
       "      <th>1</th>\n",
       "      <td>10000002</td>\n",
       "      <td>30,000</td>\n",
       "      <td>4 years</td>\n",
       "      <td>Mortgage</td>\n",
       "      <td>NaN</td>\n",
       "      <td>VERIFIED - income</td>\n",
       "      <td>debt_consolidation</td>\n",
       "      <td>14.93</td>\n",
       "      <td>0</td>\n",
       "      <td>17.0</td>\n",
       "      <td>12</td>\n",
       "      <td>24</td>\n",
       "      <td>Female</td>\n",
       "      <td>3</td>\n",
       "    </tr>\n",
       "    <tr>\n",
       "      <th>2</th>\n",
       "      <td>10000003</td>\n",
       "      <td>24,725</td>\n",
       "      <td>7 years</td>\n",
       "      <td>Mortgage</td>\n",
       "      <td>75566.4</td>\n",
       "      <td>VERIFIED - income source</td>\n",
       "      <td>debt_consolidation</td>\n",
       "      <td>15.88</td>\n",
       "      <td>0</td>\n",
       "      <td>NaN</td>\n",
       "      <td>12</td>\n",
       "      <td>16</td>\n",
       "      <td>Male</td>\n",
       "      <td>3</td>\n",
       "    </tr>\n",
       "    <tr>\n",
       "      <th>3</th>\n",
       "      <td>10000004</td>\n",
       "      <td>16,000</td>\n",
       "      <td>&lt; 1 year</td>\n",
       "      <td>NaN</td>\n",
       "      <td>56160.0</td>\n",
       "      <td>VERIFIED - income source</td>\n",
       "      <td>debt_consolidation</td>\n",
       "      <td>14.34</td>\n",
       "      <td>3</td>\n",
       "      <td>NaN</td>\n",
       "      <td>16</td>\n",
       "      <td>22</td>\n",
       "      <td>Male</td>\n",
       "      <td>3</td>\n",
       "    </tr>\n",
       "    <tr>\n",
       "      <th>4</th>\n",
       "      <td>10000005</td>\n",
       "      <td>17,000</td>\n",
       "      <td>8 years</td>\n",
       "      <td>Own</td>\n",
       "      <td>96000.0</td>\n",
       "      <td>VERIFIED - income source</td>\n",
       "      <td>debt_consolidation</td>\n",
       "      <td>22.17</td>\n",
       "      <td>1</td>\n",
       "      <td>NaN</td>\n",
       "      <td>19</td>\n",
       "      <td>30</td>\n",
       "      <td>Female</td>\n",
       "      <td>1</td>\n",
       "    </tr>\n",
       "  </tbody>\n",
       "</table>\n",
       "</div>"
      ],
      "text/plain": [
       "    Loan_ID Loan_Amount_Requested Length_Employed Home_Owner  Annual_Income  \\\n",
       "0  10000001                 7,000        < 1 year       Rent        68000.0   \n",
       "1  10000002                30,000         4 years   Mortgage            NaN   \n",
       "2  10000003                24,725         7 years   Mortgage        75566.4   \n",
       "3  10000004                16,000        < 1 year        NaN        56160.0   \n",
       "4  10000005                17,000         8 years        Own        96000.0   \n",
       "\n",
       "            Income_Verified     Purpose_Of_Loan  Debt_To_Income  \\\n",
       "0              not verified                 car           18.37   \n",
       "1         VERIFIED - income  debt_consolidation           14.93   \n",
       "2  VERIFIED - income source  debt_consolidation           15.88   \n",
       "3  VERIFIED - income source  debt_consolidation           14.34   \n",
       "4  VERIFIED - income source  debt_consolidation           22.17   \n",
       "\n",
       "   Inquiries_Last_6Mo  Months_Since_Deliquency  Number_Open_Accounts  \\\n",
       "0                   0                      NaN                     9   \n",
       "1                   0                     17.0                    12   \n",
       "2                   0                      NaN                    12   \n",
       "3                   3                      NaN                    16   \n",
       "4                   1                      NaN                    19   \n",
       "\n",
       "   Total_Accounts  Gender  Interest_Rate  \n",
       "0              14  Female              1  \n",
       "1              24  Female              3  \n",
       "2              16    Male              3  \n",
       "3              22    Male              3  \n",
       "4              30  Female              1  "
      ]
     },
     "execution_count": 2,
     "metadata": {},
     "output_type": "execute_result"
    }
   ],
   "source": [
    "df = pd.read_csv('Data/capstone_train.csv')\n",
    "df.head()"
   ]
  },
  {
   "cell_type": "code",
   "execution_count": 3,
   "id": "suspected-hotel",
   "metadata": {
    "id": "suspected-hotel"
   },
   "outputs": [],
   "source": [
    "#Basic immputations\n",
    "df = df.drop('Loan_ID',axis  =1)\n",
    "import string\n",
    "def remove_punctuation(x):\n",
    "    if len(x.split(','))>1:\n",
    "        return int(x.split(',')[0]+x.split(',')[1])\n",
    "    else:\n",
    "        return int(x)\n",
    "df['Loan_Amount_Requested'] = df['Loan_Amount_Requested'].apply(remove_punctuation)"
   ]
  },
  {
   "cell_type": "code",
   "execution_count": 4,
   "id": "legitimate-railway",
   "metadata": {
    "id": "legitimate-railway"
   },
   "outputs": [],
   "source": [
    "#Filling Length Employed with mode since only 0.04% of values are missing\n",
    "df['Length_Employed'] = df['Length_Employed'].fillna(df['Length_Employed'].mode().values[0])"
   ]
  },
  {
   "cell_type": "code",
   "execution_count": 5,
   "id": "roman-reason",
   "metadata": {
    "id": "roman-reason"
   },
   "outputs": [],
   "source": [
    "#Filling home owner with max type of home for each employment level.\n",
    "mapper = dict(df.groupby(['Length_Employed','Home_Owner'])['Home_Owner'].count().sort_values().groupby(level = 0).tail(1).index)\n",
    "mapper\n",
    "import math\n",
    "for i in df[df['Home_Owner'].isna()].index:\n",
    "    if math.isnan(df['Home_Owner'][i]) == True:\n",
    "        df['Home_Owner'][i] = mapper[df['Length_Employed'][i]]"
   ]
  },
  {
   "cell_type": "code",
   "execution_count": 6,
   "id": "electric-manhattan",
   "metadata": {
    "id": "electric-manhattan"
   },
   "outputs": [],
   "source": [
    "def len_emp(x):\n",
    "    if x.split()[0]=='<':\n",
    "        return 0\n",
    "    else:\n",
    "        return int(x.strip().strip('<').strip('year').strip('years').strip().strip('+'))\n",
    "df['Length_Employed'] = df['Length_Employed'].apply(len_emp)"
   ]
  },
  {
   "cell_type": "code",
   "execution_count": 7,
   "id": "amino-idaho",
   "metadata": {
    "id": "amino-idaho"
   },
   "outputs": [],
   "source": [
    "df['Months_Since_Deliquency'] = df['Months_Since_Deliquency'].fillna(360)"
   ]
  },
  {
   "cell_type": "code",
   "execution_count": 8,
   "id": "colored-behavior",
   "metadata": {
    "id": "colored-behavior"
   },
   "outputs": [
    {
     "name": "stdout",
     "output_type": "stream",
     "text": [
      "Execution Time: 511.99867367744446\n"
     ]
    }
   ],
   "source": [
    "#Since Months_Since_Deliquency does not seem to show much of an impact on interest_rates we will drop it.\n",
    "import time\n",
    "start = time.time()\n",
    "#Length_Employed can be filled based on annual_income.\n",
    "#Annual_Income will be filled using KNNImputer on the numerical columns only.\n",
    "#Home_Owner will be taken care of later.\n",
    "knn_impute_data=df.select_dtypes(np.number)\n",
    "#Standardizing the dataset for the KNNImputer\n",
    "from sklearn.preprocessing import StandardScaler\n",
    "from sklearn.impute import KNNImputer\n",
    "ss = StandardScaler()\n",
    "scaled = pd.DataFrame(ss.fit_transform(knn_impute_data.drop(['Interest_Rate','Months_Since_Deliquency'],axis = 1)),columns = knn_impute_data.drop(['Interest_Rate','Months_Since_Deliquency'],axis = 1).columns)\n",
    "filled_scaled = KNNImputer(n_neighbors = 5).fit_transform(X = scaled,y = knn_impute_data['Interest_Rate'])\n",
    "end = time.time()\n",
    "print('Execution Time:',end-start)"
   ]
  },
  {
   "cell_type": "code",
   "execution_count": 9,
   "id": "bacterial-verse",
   "metadata": {
    "id": "bacterial-verse"
   },
   "outputs": [],
   "source": [
    "filled_unscaled = pd.DataFrame(ss.inverse_transform(filled_scaled),columns = knn_impute_data.drop(['Interest_Rate','Months_Since_Deliquency'],axis = 1).columns)\n",
    "fill_data = pd.concat((round(filled_unscaled.reset_index(drop = True)),df.select_dtypes('object').reset_index(drop = True),df['Months_Since_Deliquency'].reset_index(drop = True),df['Interest_Rate'].reset_index(drop = True)),axis = 1)"
   ]
  },
  {
   "cell_type": "code",
   "execution_count": 10,
   "id": "impossible-norfolk",
   "metadata": {
    "id": "impossible-norfolk"
   },
   "outputs": [
    {
     "data": {
      "text/html": [
       "<div>\n",
       "<style scoped>\n",
       "    .dataframe tbody tr th:only-of-type {\n",
       "        vertical-align: middle;\n",
       "    }\n",
       "\n",
       "    .dataframe tbody tr th {\n",
       "        vertical-align: top;\n",
       "    }\n",
       "\n",
       "    .dataframe thead th {\n",
       "        text-align: right;\n",
       "    }\n",
       "</style>\n",
       "<table border=\"1\" class=\"dataframe\">\n",
       "  <thead>\n",
       "    <tr style=\"text-align: right;\">\n",
       "      <th></th>\n",
       "      <th>Loan_Amount_Requested</th>\n",
       "      <th>Length_Employed</th>\n",
       "      <th>Annual_Income</th>\n",
       "      <th>Debt_To_Income</th>\n",
       "      <th>Inquiries_Last_6Mo</th>\n",
       "      <th>Number_Open_Accounts</th>\n",
       "      <th>Total_Accounts</th>\n",
       "      <th>Home_Owner</th>\n",
       "      <th>Income_Verified</th>\n",
       "      <th>Purpose_Of_Loan</th>\n",
       "      <th>Gender</th>\n",
       "      <th>Months_Since_Deliquency</th>\n",
       "      <th>Interest_Rate</th>\n",
       "    </tr>\n",
       "  </thead>\n",
       "  <tbody>\n",
       "    <tr>\n",
       "      <th>0</th>\n",
       "      <td>7000.0</td>\n",
       "      <td>0.0</td>\n",
       "      <td>68000.0</td>\n",
       "      <td>18.0</td>\n",
       "      <td>0.0</td>\n",
       "      <td>9.0</td>\n",
       "      <td>14.0</td>\n",
       "      <td>Rent</td>\n",
       "      <td>not verified</td>\n",
       "      <td>car</td>\n",
       "      <td>Female</td>\n",
       "      <td>360.0</td>\n",
       "      <td>1</td>\n",
       "    </tr>\n",
       "    <tr>\n",
       "      <th>1</th>\n",
       "      <td>30000.0</td>\n",
       "      <td>4.0</td>\n",
       "      <td>110400.0</td>\n",
       "      <td>15.0</td>\n",
       "      <td>0.0</td>\n",
       "      <td>12.0</td>\n",
       "      <td>24.0</td>\n",
       "      <td>Mortgage</td>\n",
       "      <td>VERIFIED - income</td>\n",
       "      <td>debt_consolidation</td>\n",
       "      <td>Female</td>\n",
       "      <td>17.0</td>\n",
       "      <td>3</td>\n",
       "    </tr>\n",
       "    <tr>\n",
       "      <th>2</th>\n",
       "      <td>24725.0</td>\n",
       "      <td>7.0</td>\n",
       "      <td>75566.0</td>\n",
       "      <td>16.0</td>\n",
       "      <td>0.0</td>\n",
       "      <td>12.0</td>\n",
       "      <td>16.0</td>\n",
       "      <td>Mortgage</td>\n",
       "      <td>VERIFIED - income source</td>\n",
       "      <td>debt_consolidation</td>\n",
       "      <td>Male</td>\n",
       "      <td>360.0</td>\n",
       "      <td>3</td>\n",
       "    </tr>\n",
       "    <tr>\n",
       "      <th>3</th>\n",
       "      <td>16000.0</td>\n",
       "      <td>0.0</td>\n",
       "      <td>56160.0</td>\n",
       "      <td>14.0</td>\n",
       "      <td>3.0</td>\n",
       "      <td>16.0</td>\n",
       "      <td>22.0</td>\n",
       "      <td>Rent</td>\n",
       "      <td>VERIFIED - income source</td>\n",
       "      <td>debt_consolidation</td>\n",
       "      <td>Male</td>\n",
       "      <td>360.0</td>\n",
       "      <td>3</td>\n",
       "    </tr>\n",
       "    <tr>\n",
       "      <th>4</th>\n",
       "      <td>17000.0</td>\n",
       "      <td>8.0</td>\n",
       "      <td>96000.0</td>\n",
       "      <td>22.0</td>\n",
       "      <td>1.0</td>\n",
       "      <td>19.0</td>\n",
       "      <td>30.0</td>\n",
       "      <td>Own</td>\n",
       "      <td>VERIFIED - income source</td>\n",
       "      <td>debt_consolidation</td>\n",
       "      <td>Female</td>\n",
       "      <td>360.0</td>\n",
       "      <td>1</td>\n",
       "    </tr>\n",
       "  </tbody>\n",
       "</table>\n",
       "</div>"
      ],
      "text/plain": [
       "   Loan_Amount_Requested  Length_Employed  Annual_Income  Debt_To_Income  \\\n",
       "0                 7000.0              0.0        68000.0            18.0   \n",
       "1                30000.0              4.0       110400.0            15.0   \n",
       "2                24725.0              7.0        75566.0            16.0   \n",
       "3                16000.0              0.0        56160.0            14.0   \n",
       "4                17000.0              8.0        96000.0            22.0   \n",
       "\n",
       "   Inquiries_Last_6Mo  Number_Open_Accounts  Total_Accounts Home_Owner  \\\n",
       "0                 0.0                   9.0            14.0       Rent   \n",
       "1                 0.0                  12.0            24.0   Mortgage   \n",
       "2                 0.0                  12.0            16.0   Mortgage   \n",
       "3                 3.0                  16.0            22.0       Rent   \n",
       "4                 1.0                  19.0            30.0        Own   \n",
       "\n",
       "            Income_Verified     Purpose_Of_Loan  Gender  \\\n",
       "0              not verified                 car  Female   \n",
       "1         VERIFIED - income  debt_consolidation  Female   \n",
       "2  VERIFIED - income source  debt_consolidation    Male   \n",
       "3  VERIFIED - income source  debt_consolidation    Male   \n",
       "4  VERIFIED - income source  debt_consolidation  Female   \n",
       "\n",
       "   Months_Since_Deliquency  Interest_Rate  \n",
       "0                    360.0              1  \n",
       "1                     17.0              3  \n",
       "2                    360.0              3  \n",
       "3                    360.0              3  \n",
       "4                    360.0              1  "
      ]
     },
     "execution_count": 10,
     "metadata": {},
     "output_type": "execute_result"
    }
   ],
   "source": [
    "fill_data.head()"
   ]
  },
  {
   "cell_type": "code",
   "execution_count": 11,
   "id": "hybrid-drawing",
   "metadata": {
    "id": "hybrid-drawing"
   },
   "outputs": [
    {
     "data": {
      "text/html": [
       "<div>\n",
       "<style scoped>\n",
       "    .dataframe tbody tr th:only-of-type {\n",
       "        vertical-align: middle;\n",
       "    }\n",
       "\n",
       "    .dataframe tbody tr th {\n",
       "        vertical-align: top;\n",
       "    }\n",
       "\n",
       "    .dataframe thead th {\n",
       "        text-align: right;\n",
       "    }\n",
       "</style>\n",
       "<table border=\"1\" class=\"dataframe\">\n",
       "  <thead>\n",
       "    <tr style=\"text-align: right;\">\n",
       "      <th></th>\n",
       "      <th>Loan_Amount_Requested</th>\n",
       "      <th>Length_Employed</th>\n",
       "      <th>Annual_Income</th>\n",
       "      <th>Debt_To_Income</th>\n",
       "      <th>Inquiries_Last_6Mo</th>\n",
       "      <th>Number_Open_Accounts</th>\n",
       "      <th>Total_Accounts</th>\n",
       "      <th>Months_Since_Deliquency</th>\n",
       "      <th>Interest_Rate</th>\n",
       "      <th>Home_Owner_None</th>\n",
       "      <th>...</th>\n",
       "      <th>Purpose_Of_Loan_house</th>\n",
       "      <th>Purpose_Of_Loan_major_purchase</th>\n",
       "      <th>Purpose_Of_Loan_medical</th>\n",
       "      <th>Purpose_Of_Loan_moving</th>\n",
       "      <th>Purpose_Of_Loan_other</th>\n",
       "      <th>Purpose_Of_Loan_renewable_energy</th>\n",
       "      <th>Purpose_Of_Loan_small_business</th>\n",
       "      <th>Purpose_Of_Loan_vacation</th>\n",
       "      <th>Purpose_Of_Loan_wedding</th>\n",
       "      <th>Gender_Male</th>\n",
       "    </tr>\n",
       "  </thead>\n",
       "  <tbody>\n",
       "    <tr>\n",
       "      <th>0</th>\n",
       "      <td>7000.0</td>\n",
       "      <td>0.0</td>\n",
       "      <td>68000.0</td>\n",
       "      <td>18.0</td>\n",
       "      <td>0.0</td>\n",
       "      <td>9.0</td>\n",
       "      <td>14.0</td>\n",
       "      <td>360.0</td>\n",
       "      <td>1</td>\n",
       "      <td>0</td>\n",
       "      <td>...</td>\n",
       "      <td>0</td>\n",
       "      <td>0</td>\n",
       "      <td>0</td>\n",
       "      <td>0</td>\n",
       "      <td>0</td>\n",
       "      <td>0</td>\n",
       "      <td>0</td>\n",
       "      <td>0</td>\n",
       "      <td>0</td>\n",
       "      <td>0</td>\n",
       "    </tr>\n",
       "    <tr>\n",
       "      <th>1</th>\n",
       "      <td>30000.0</td>\n",
       "      <td>4.0</td>\n",
       "      <td>110400.0</td>\n",
       "      <td>15.0</td>\n",
       "      <td>0.0</td>\n",
       "      <td>12.0</td>\n",
       "      <td>24.0</td>\n",
       "      <td>17.0</td>\n",
       "      <td>3</td>\n",
       "      <td>0</td>\n",
       "      <td>...</td>\n",
       "      <td>0</td>\n",
       "      <td>0</td>\n",
       "      <td>0</td>\n",
       "      <td>0</td>\n",
       "      <td>0</td>\n",
       "      <td>0</td>\n",
       "      <td>0</td>\n",
       "      <td>0</td>\n",
       "      <td>0</td>\n",
       "      <td>0</td>\n",
       "    </tr>\n",
       "    <tr>\n",
       "      <th>2</th>\n",
       "      <td>24725.0</td>\n",
       "      <td>7.0</td>\n",
       "      <td>75566.0</td>\n",
       "      <td>16.0</td>\n",
       "      <td>0.0</td>\n",
       "      <td>12.0</td>\n",
       "      <td>16.0</td>\n",
       "      <td>360.0</td>\n",
       "      <td>3</td>\n",
       "      <td>0</td>\n",
       "      <td>...</td>\n",
       "      <td>0</td>\n",
       "      <td>0</td>\n",
       "      <td>0</td>\n",
       "      <td>0</td>\n",
       "      <td>0</td>\n",
       "      <td>0</td>\n",
       "      <td>0</td>\n",
       "      <td>0</td>\n",
       "      <td>0</td>\n",
       "      <td>1</td>\n",
       "    </tr>\n",
       "    <tr>\n",
       "      <th>3</th>\n",
       "      <td>16000.0</td>\n",
       "      <td>0.0</td>\n",
       "      <td>56160.0</td>\n",
       "      <td>14.0</td>\n",
       "      <td>3.0</td>\n",
       "      <td>16.0</td>\n",
       "      <td>22.0</td>\n",
       "      <td>360.0</td>\n",
       "      <td>3</td>\n",
       "      <td>0</td>\n",
       "      <td>...</td>\n",
       "      <td>0</td>\n",
       "      <td>0</td>\n",
       "      <td>0</td>\n",
       "      <td>0</td>\n",
       "      <td>0</td>\n",
       "      <td>0</td>\n",
       "      <td>0</td>\n",
       "      <td>0</td>\n",
       "      <td>0</td>\n",
       "      <td>1</td>\n",
       "    </tr>\n",
       "    <tr>\n",
       "      <th>4</th>\n",
       "      <td>17000.0</td>\n",
       "      <td>8.0</td>\n",
       "      <td>96000.0</td>\n",
       "      <td>22.0</td>\n",
       "      <td>1.0</td>\n",
       "      <td>19.0</td>\n",
       "      <td>30.0</td>\n",
       "      <td>360.0</td>\n",
       "      <td>1</td>\n",
       "      <td>0</td>\n",
       "      <td>...</td>\n",
       "      <td>0</td>\n",
       "      <td>0</td>\n",
       "      <td>0</td>\n",
       "      <td>0</td>\n",
       "      <td>0</td>\n",
       "      <td>0</td>\n",
       "      <td>0</td>\n",
       "      <td>0</td>\n",
       "      <td>0</td>\n",
       "      <td>0</td>\n",
       "    </tr>\n",
       "  </tbody>\n",
       "</table>\n",
       "<p>5 rows × 29 columns</p>\n",
       "</div>"
      ],
      "text/plain": [
       "   Loan_Amount_Requested  Length_Employed  Annual_Income  Debt_To_Income  \\\n",
       "0                 7000.0              0.0        68000.0            18.0   \n",
       "1                30000.0              4.0       110400.0            15.0   \n",
       "2                24725.0              7.0        75566.0            16.0   \n",
       "3                16000.0              0.0        56160.0            14.0   \n",
       "4                17000.0              8.0        96000.0            22.0   \n",
       "\n",
       "   Inquiries_Last_6Mo  Number_Open_Accounts  Total_Accounts  \\\n",
       "0                 0.0                   9.0            14.0   \n",
       "1                 0.0                  12.0            24.0   \n",
       "2                 0.0                  12.0            16.0   \n",
       "3                 3.0                  16.0            22.0   \n",
       "4                 1.0                  19.0            30.0   \n",
       "\n",
       "   Months_Since_Deliquency  Interest_Rate  Home_Owner_None  ...  \\\n",
       "0                    360.0              1                0  ...   \n",
       "1                     17.0              3                0  ...   \n",
       "2                    360.0              3                0  ...   \n",
       "3                    360.0              3                0  ...   \n",
       "4                    360.0              1                0  ...   \n",
       "\n",
       "   Purpose_Of_Loan_house  Purpose_Of_Loan_major_purchase  \\\n",
       "0                      0                               0   \n",
       "1                      0                               0   \n",
       "2                      0                               0   \n",
       "3                      0                               0   \n",
       "4                      0                               0   \n",
       "\n",
       "   Purpose_Of_Loan_medical  Purpose_Of_Loan_moving  Purpose_Of_Loan_other  \\\n",
       "0                        0                       0                      0   \n",
       "1                        0                       0                      0   \n",
       "2                        0                       0                      0   \n",
       "3                        0                       0                      0   \n",
       "4                        0                       0                      0   \n",
       "\n",
       "   Purpose_Of_Loan_renewable_energy  Purpose_Of_Loan_small_business  \\\n",
       "0                                 0                               0   \n",
       "1                                 0                               0   \n",
       "2                                 0                               0   \n",
       "3                                 0                               0   \n",
       "4                                 0                               0   \n",
       "\n",
       "   Purpose_Of_Loan_vacation  Purpose_Of_Loan_wedding  Gender_Male  \n",
       "0                         0                        0            0  \n",
       "1                         0                        0            0  \n",
       "2                         0                        0            1  \n",
       "3                         0                        0            1  \n",
       "4                         0                        0            0  \n",
       "\n",
       "[5 rows x 29 columns]"
      ]
     },
     "execution_count": 11,
     "metadata": {},
     "output_type": "execute_result"
    }
   ],
   "source": [
    "df_d = pd.get_dummies(fill_data,drop_first = True)\n",
    "df_d.head()"
   ]
  },
  {
   "cell_type": "code",
   "execution_count": 12,
   "id": "quiet-operations",
   "metadata": {
    "id": "quiet-operations"
   },
   "outputs": [],
   "source": [
    "X = df_d.drop('Interest_Rate',axis = 1)\n",
    "y = df_d['Interest_Rate']"
   ]
  },
  {
   "cell_type": "code",
   "execution_count": 13,
   "id": "about-silver",
   "metadata": {
    "id": "about-silver"
   },
   "outputs": [
    {
     "name": "stdout",
     "output_type": "stream",
     "text": [
      "              precision    recall  f1-score   support\n",
      "\n",
      "           1       0.21      0.00      0.00      6735\n",
      "           2       0.45      0.68      0.54     14149\n",
      "           3       0.48      0.45      0.47     11978\n",
      "\n",
      "    accuracy                           0.46     32862\n",
      "   macro avg       0.38      0.38      0.34     32862\n",
      "weighted avg       0.41      0.46      0.40     32862\n",
      "\n"
     ]
    }
   ],
   "source": [
    "#Base Model\n",
    "from sklearn.model_selection import train_test_split\n",
    "from sklearn.linear_model import LogisticRegression\n",
    "from sklearn.metrics import classification_report\n",
    "X_train,X_test,y_train,y_test = train_test_split(X,y,test_size = 0.2,random_state = 2)\n",
    "lr = LogisticRegression()\n",
    "lr.fit(X_train,y_train)\n",
    "pred = lr.predict(X_test)\n",
    "print(classification_report(y_test,pred))"
   ]
  },
  {
   "cell_type": "markdown",
   "id": "hired-joseph",
   "metadata": {
    "id": "hired-joseph"
   },
   "source": [
    "# Importing the final data after changes for model building"
   ]
  },
  {
   "cell_type": "code",
   "execution_count": null,
   "id": "cPR99lz4X_TA",
   "metadata": {
    "colab": {
     "base_uri": "https://localhost:8080/"
    },
    "id": "cPR99lz4X_TA",
    "outputId": "6078303f-0594-40b5-8702-7d7132d5f3e0"
   },
   "outputs": [
    {
     "name": "stdout",
     "output_type": "stream",
     "text": [
      "Archive:  Data.zip\n",
      "   creating: Data/\n",
      "  inflating: Data/capstone_train.csv  \n",
      "  inflating: Data/filled_train_28-03.csv  \n"
     ]
    }
   ],
   "source": [
    "!unzip Data.zip"
   ]
  },
  {
   "cell_type": "code",
   "execution_count": null,
   "id": "prescribed-fight",
   "metadata": {
    "colab": {
     "base_uri": "https://localhost:8080/",
     "height": 226
    },
    "id": "prescribed-fight",
    "outputId": "33f59a0f-5d49-4c0a-ab53-df65b7c89c0d"
   },
   "outputs": [
    {
     "data": {
      "text/html": [
       "<div>\n",
       "<style scoped>\n",
       "    .dataframe tbody tr th:only-of-type {\n",
       "        vertical-align: middle;\n",
       "    }\n",
       "\n",
       "    .dataframe tbody tr th {\n",
       "        vertical-align: top;\n",
       "    }\n",
       "\n",
       "    .dataframe thead th {\n",
       "        text-align: right;\n",
       "    }\n",
       "</style>\n",
       "<table border=\"1\" class=\"dataframe\">\n",
       "  <thead>\n",
       "    <tr style=\"text-align: right;\">\n",
       "      <th></th>\n",
       "      <th>Loan_Amount_Requested</th>\n",
       "      <th>Length_Employed</th>\n",
       "      <th>Annual_Income</th>\n",
       "      <th>Debt_To_Income</th>\n",
       "      <th>Inquiries_Last_6Mo</th>\n",
       "      <th>Number_Open_Accounts</th>\n",
       "      <th>Total_Accounts</th>\n",
       "      <th>Home_Owner</th>\n",
       "      <th>Income_Verified</th>\n",
       "      <th>Purpose_Of_Loan</th>\n",
       "      <th>Gender</th>\n",
       "      <th>Months_Since_Deliquency</th>\n",
       "      <th>Interest_Rate</th>\n",
       "    </tr>\n",
       "  </thead>\n",
       "  <tbody>\n",
       "    <tr>\n",
       "      <th>0</th>\n",
       "      <td>7000.0</td>\n",
       "      <td>0.0</td>\n",
       "      <td>68000.0</td>\n",
       "      <td>18.0</td>\n",
       "      <td>0.0</td>\n",
       "      <td>9.0</td>\n",
       "      <td>14.0</td>\n",
       "      <td>Rent</td>\n",
       "      <td>not verified</td>\n",
       "      <td>car</td>\n",
       "      <td>Female</td>\n",
       "      <td>NaN</td>\n",
       "      <td>1</td>\n",
       "    </tr>\n",
       "    <tr>\n",
       "      <th>1</th>\n",
       "      <td>30000.0</td>\n",
       "      <td>4.0</td>\n",
       "      <td>98367.0</td>\n",
       "      <td>15.0</td>\n",
       "      <td>0.0</td>\n",
       "      <td>12.0</td>\n",
       "      <td>24.0</td>\n",
       "      <td>Mortgage</td>\n",
       "      <td>VERIFIED - income</td>\n",
       "      <td>debt_consolidation</td>\n",
       "      <td>Female</td>\n",
       "      <td>17.0</td>\n",
       "      <td>3</td>\n",
       "    </tr>\n",
       "    <tr>\n",
       "      <th>2</th>\n",
       "      <td>24725.0</td>\n",
       "      <td>7.0</td>\n",
       "      <td>75566.0</td>\n",
       "      <td>16.0</td>\n",
       "      <td>0.0</td>\n",
       "      <td>12.0</td>\n",
       "      <td>16.0</td>\n",
       "      <td>Mortgage</td>\n",
       "      <td>VERIFIED - income</td>\n",
       "      <td>debt_consolidation</td>\n",
       "      <td>Male</td>\n",
       "      <td>NaN</td>\n",
       "      <td>3</td>\n",
       "    </tr>\n",
       "    <tr>\n",
       "      <th>3</th>\n",
       "      <td>17000.0</td>\n",
       "      <td>8.0</td>\n",
       "      <td>96000.0</td>\n",
       "      <td>22.0</td>\n",
       "      <td>1.0</td>\n",
       "      <td>19.0</td>\n",
       "      <td>30.0</td>\n",
       "      <td>Own</td>\n",
       "      <td>VERIFIED - income</td>\n",
       "      <td>debt_consolidation</td>\n",
       "      <td>Female</td>\n",
       "      <td>NaN</td>\n",
       "      <td>1</td>\n",
       "    </tr>\n",
       "    <tr>\n",
       "      <th>4</th>\n",
       "      <td>4500.0</td>\n",
       "      <td>2.0</td>\n",
       "      <td>30000.0</td>\n",
       "      <td>11.0</td>\n",
       "      <td>1.0</td>\n",
       "      <td>12.0</td>\n",
       "      <td>15.0</td>\n",
       "      <td>Rent</td>\n",
       "      <td>VERIFIED - income</td>\n",
       "      <td>credit_card</td>\n",
       "      <td>Male</td>\n",
       "      <td>NaN</td>\n",
       "      <td>3</td>\n",
       "    </tr>\n",
       "  </tbody>\n",
       "</table>\n",
       "</div>"
      ],
      "text/plain": [
       "   Loan_Amount_Requested  ...  Interest_Rate\n",
       "0                 7000.0  ...              1\n",
       "1                30000.0  ...              3\n",
       "2                24725.0  ...              3\n",
       "3                17000.0  ...              1\n",
       "4                 4500.0  ...              3\n",
       "\n",
       "[5 rows x 13 columns]"
      ]
     },
     "execution_count": 5,
     "metadata": {
      "tags": []
     },
     "output_type": "execute_result"
    }
   ],
   "source": [
    "data = pd.read_csv('Data/filled_train_28-03.csv')\n",
    "data.head()"
   ]
  },
  {
   "cell_type": "markdown",
   "id": "random-spider",
   "metadata": {
    "id": "random-spider"
   },
   "source": [
    "## Applying transformations to the data"
   ]
  },
  {
   "cell_type": "code",
   "execution_count": null,
   "id": "paperback-interstate",
   "metadata": {
    "id": "paperback-interstate"
   },
   "outputs": [],
   "source": [
    "data['Months_Since_Deliquency'] = data['Months_Since_Deliquency'].fillna(360) "
   ]
  },
  {
   "cell_type": "markdown",
   "id": "based-following",
   "metadata": {
    "id": "based-following"
   },
   "source": [
    "###### Visualizing distributions"
   ]
  },
  {
   "cell_type": "code",
   "execution_count": null,
   "id": "cloudy-bridge",
   "metadata": {
    "colab": {
     "base_uri": "https://localhost:8080/",
     "height": 356
    },
    "id": "cloudy-bridge",
    "outputId": "3b6a9734-6c07-4132-8abb-09068c6bb788"
   },
   "outputs": [
    {
     "data": {
      "image/png": "[encoded data removed]",
      "text/plain": [
       "<Figure size 1080x432 with 8 Axes>"
      ]
     },
     "metadata": {
      "needs_background": "light",
      "tags": []
     },
     "output_type": "display_data"
    }
   ],
   "source": [
    "data_dist = data.select_dtypes(np.number).drop('Interest_Rate',axis = 1)\n",
    "fig,ax = plt.subplots(nrows = 2,ncols = 4,figsize = (15,6))\n",
    "for variables,plotsubs in zip(data_dist.columns,ax.flatten()):\n",
    "    plt.title(variables)\n",
    "    plotsubs.tick_params(labelsize = 10)\n",
    "    plotsubs.set_xlabel(variables,fontsize = 10)\n",
    "    sns.distplot(data_dist[variables],ax = plotsubs)\n",
    "    plt.tight_layout()\n",
    "    plt.subplots_adjust(top = 0.92) \n",
    "fig.suptitle('Distributions of numerical features',fontsize = 15)\n",
    "plt.show()"
   ]
  },
  {
   "cell_type": "markdown",
   "id": "greek-david",
   "metadata": {
    "id": "greek-david"
   },
   "source": [
    "###### Checking skew values"
   ]
  },
  {
   "cell_type": "code",
   "execution_count": null,
   "id": "ideal-monster",
   "metadata": {
    "colab": {
     "base_uri": "https://localhost:8080/"
    },
    "id": "ideal-monster",
    "outputId": "07d77e66-0e7f-4836-fd83-d3b73def5bcb"
   },
   "outputs": [
    {
     "name": "stdout",
     "output_type": "stream",
     "text": [
      "Loan_Amount_Requested 0.7540805981561574\n",
      "Length_Employed -0.3143341220629363\n",
      "Annual_Income 0.7405019759073301\n",
      "Debt_To_Income 0.19364066386276518\n",
      "Inquiries_Last_6Mo 0.865342680130085\n",
      "Number_Open_Accounts 0.5694792245898963\n",
      "Total_Accounts 0.49643669533172174\n",
      "Months_Since_Deliquency -0.21034759166221614\n"
     ]
    }
   ],
   "source": [
    "for i in data_dist.columns:\n",
    "    print(i,data[i].skew())"
   ]
  },
  {
   "cell_type": "code",
   "execution_count": null,
   "id": "public-baker",
   "metadata": {
    "id": "public-baker"
   },
   "outputs": [],
   "source": [
    "data1 = data.copy()"
   ]
  },
  {
   "cell_type": "markdown",
   "id": "creative-sydney",
   "metadata": {
    "id": "creative-sydney"
   },
   "source": [
    "###### Extra: To transform bimodal data\n",
    "\n",
    "* Calculate absolute difference of mean with rest of the data\n",
    "* Would work when both mode data is equal or we have 2 equal peaks"
   ]
  },
  {
   "cell_type": "code",
   "execution_count": null,
   "id": "small-grass",
   "metadata": {
    "id": "small-grass"
   },
   "outputs": [],
   "source": [
    "data1['Loan_Amount_Requested'] = np.sqrt(data1['Loan_Amount_Requested'])\n",
    "data1['Annual_Income'] = stats.boxcox(data1['Annual_Income'])[0]\n",
    "data1['Number_Open_Accounts'] = np.sqrt(data1['Number_Open_Accounts'])\n",
    "data1['Total_Accounts'] = np.sqrt(data1['Total_Accounts'])\n",
    "data1['Months_Since_Deliquency'] = np.log(abs(data['Months_Since_Deliquency']-np.mean(data['Months_Since_Deliquency'])))\n",
    "#Months_Since_Deliquency is sort of multi-modal"
   ]
  },
  {
   "cell_type": "code",
   "execution_count": null,
   "id": "ordered-shape",
   "metadata": {
    "id": "ordered-shape"
   },
   "outputs": [],
   "source": [
    "def emp(x):\n",
    "    if x>=10:\n",
    "        return '10+yrs'\n",
    "    elif x>=6 and x<=9:\n",
    "        return '6-9 yrs'\n",
    "    elif x>=2 and x<=5:\n",
    "        return '2-5 yrs'\n",
    "    else:\n",
    "        return '0-1 yrs'\n",
    "\n",
    "data1['Length_Employed'] = data1['Length_Employed'].apply(emp)"
   ]
  },
  {
   "cell_type": "code",
   "execution_count": null,
   "id": "closing-adelaide",
   "metadata": {
    "colab": {
     "base_uri": "https://localhost:8080/",
     "height": 356
    },
    "id": "closing-adelaide",
    "outputId": "23542d4b-2745-4748-ee7b-a7bcc1ac6958"
   },
   "outputs": [
    {
     "data": {
      "image/png": "[encoded data removed]",
      "text/plain": [
       "<Figure size 1080x432 with 8 Axes>"
      ]
     },
     "metadata": {
      "needs_background": "light",
      "tags": []
     },
     "output_type": "display_data"
    }
   ],
   "source": [
    "data_dist = data1.select_dtypes(np.number).drop('Interest_Rate',axis = 1)\n",
    "fig,ax = plt.subplots(nrows = 2,ncols = 4,figsize = (15,6))\n",
    "for variables,plotsubs in zip(data_dist.columns,ax.flatten()):\n",
    "    plt.title(variables)\n",
    "    plotsubs.tick_params(labelsize = 10)\n",
    "    plotsubs.set_xlabel(variables,fontsize = 10)\n",
    "    sns.distplot(data_dist[variables],ax = plotsubs)\n",
    "    plt.tight_layout()\n",
    "    plt.subplots_adjust(top = 0.92) \n",
    "fig.suptitle('Distributions of numerical features',fontsize = 15)\n",
    "plt.show()"
   ]
  },
  {
   "cell_type": "code",
   "execution_count": null,
   "id": "spread-prague",
   "metadata": {
    "colab": {
     "base_uri": "https://localhost:8080/"
    },
    "id": "spread-prague",
    "outputId": "8f6119ad-45fb-4d57-d1c7-e0993e675f59"
   },
   "outputs": [
    {
     "name": "stdout",
     "output_type": "stream",
     "text": [
      "Loan_Amount_Requested 0.1291482087608808\n",
      "Annual_Income -0.008845322404628491\n",
      "Debt_To_Income 0.19364066386276518\n",
      "Inquiries_Last_6Mo 0.865342680130085\n",
      "Number_Open_Accounts 0.07119574809932888\n",
      "Total_Accounts -0.02602900192630502\n",
      "Months_Since_Deliquency 0.8571224339511455\n"
     ]
    }
   ],
   "source": [
    "for i in data_dist.columns:\n",
    "    print(i,data1[i].skew())"
   ]
  },
  {
   "cell_type": "code",
   "execution_count": null,
   "id": "alternative-nirvana",
   "metadata": {
    "id": "alternative-nirvana"
   },
   "outputs": [],
   "source": []
  },
  {
   "cell_type": "markdown",
   "id": "compact-wichita",
   "metadata": {
    "id": "compact-wichita"
   },
   "source": [
    "# Applying SFS and RFE "
   ]
  },
  {
   "cell_type": "code",
   "execution_count": null,
   "id": "overhead-timeline",
   "metadata": {
    "id": "overhead-timeline"
   },
   "outputs": [],
   "source": [
    "X = pd.get_dummies(data1).drop('Interest_Rate',axis = 1)\n",
    "y = data1['Interest_Rate']"
   ]
  },
  {
   "cell_type": "code",
   "execution_count": null,
   "id": "scheduled-excuse",
   "metadata": {
    "id": "scheduled-excuse",
    "outputId": "e2b1edaf-9899-4dd3-9fc7-5c2030e93186"
   },
   "outputs": [
    {
     "name": "stdout",
     "output_type": "stream",
     "text": [
      "Best features for predicting Interest Rate:\n",
      " ('Loan_Amount_Requested', 'Inquiries_Last_6Mo', 'Home_Owner_None', 'Home_Owner_Other', 'Income_Verified_VERIFIED - income', 'Income_Verified_not verified', 'Purpose_Of_Loan_car', 'Purpose_Of_Loan_credit_card', 'Purpose_Of_Loan_debt_consolidation', 'Purpose_Of_Loan_educational', 'Purpose_Of_Loan_home_improvement', 'Purpose_Of_Loan_major_purchase', 'Purpose_Of_Loan_moving', 'Purpose_Of_Loan_renewable_energy')\n",
      "\n",
      "Overall best F1 Score:\n",
      " 0.46340205265173495\n"
     ]
    }
   ],
   "source": [
    "#Performing Sequential Feature Selector operation to see which features are playing a signinficant role in determining the interest rate.\n",
    "from mlxtend.feature_selection import SequentialFeatureSelector as SFS\n",
    "from sklearn.tree import DecisionTreeClassifier\n",
    "fs = SFS(estimator = DecisionTreeClassifier(),\n",
    "                     k_features = \"best\",\n",
    "                     scoring = 'f1_weighted',\n",
    "                     n_jobs = -1,\n",
    "                     verbose = 0)\n",
    "sfsmodel = fs.fit(X,y)\n",
    "print('Best features for predicting Interest Rate:\\n',sfsmodel.k_feature_names_)\n",
    "print()\n",
    "print('Overall best F1 Score:\\n',sfsmodel.k_score_)"
   ]
  },
  {
   "cell_type": "markdown",
   "id": "circular-missouri",
   "metadata": {
    "id": "circular-missouri"
   },
   "source": [
    "Best features for predicting Interest Rate:\n",
    " ('Loan_Amount_Requested', 'Inquiries_Last_6Mo', 'Home_Owner_None', 'Home_Owner_Other', 'Income_Verified_VERIFIED - income', 'Income_Verified_not verified', 'Purpose_Of_Loan_car', 'Purpose_Of_Loan_credit_card', 'Purpose_Of_Loan_debt_consolidation', 'Purpose_Of_Loan_educational', 'Purpose_Of_Loan_home_improvement', 'Purpose_Of_Loan_major_purchase', 'Purpose_Of_Loan_moving', 'Purpose_Of_Loan_renewable_energy')\n",
    "\n",
    "Overall best F1 Score:\n",
    " 0.46340205265173495"
   ]
  },
  {
   "cell_type": "code",
   "execution_count": null,
   "id": "measured-looking",
   "metadata": {
    "id": "measured-looking",
    "outputId": "4539182d-2a28-43f2-c184-f155c61441da"
   },
   "outputs": [
    {
     "name": "stdout",
     "output_type": "stream",
     "text": [
      "Best 14 features for predicting Interest Rate:\n",
      " Index(['Loan_Amount_Requested', 'Annual_Income', 'Debt_To_Income',\n",
      "       'Inquiries_Last_6Mo', 'Number_Open_Accounts', 'Total_Accounts',\n",
      "       'Months_Since_Deliquency', 'Length_Employed_10+yrs',\n",
      "       'Length_Employed_2-5 yrs', 'Length_Employed_6-9 yrs',\n",
      "       'Home_Owner_Mortgage', 'Income_Verified_not verified',\n",
      "       'Purpose_Of_Loan_debt_consolidation', 'Gender_Female'],\n",
      "      dtype='object')\n",
      "\n",
      "0.9999929725437283\n"
     ]
    }
   ],
   "source": [
    "from sklearn.feature_selection import RFE\n",
    "n = 14\n",
    "rfe = RFE(DecisionTreeClassifier(),n_features_to_select = n)\n",
    "rfe.fit(X,y)\n",
    "print('Best {} features for predicting Interest Rate:\\n {}'.format(n,X.columns[rfe.get_support()]))\n",
    "print()\n",
    "print(rfe.score(X,y))"
   ]
  },
  {
   "cell_type": "markdown",
   "id": "capital-james",
   "metadata": {
    "id": "capital-james"
   },
   "source": [
    "Best 14 features for predicting Interest Rate:\n",
    " Index(['Loan_Amount_Requested', 'Annual_Income', 'Debt_To_Income',\n",
    "       'Inquiries_Last_6Mo', 'Number_Open_Accounts', 'Total_Accounts',\n",
    "       'Months_Since_Deliquency', 'Length_Employed_10+yrs',\n",
    "       'Length_Employed_2-5 yrs', 'Length_Employed_6-9 yrs',\n",
    "       'Home_Owner_Mortgage', 'Income_Verified_not verified',\n",
    "       'Purpose_Of_Loan_debt_consolidation', 'Gender_Female'],\n",
    "      dtype='object')\n",
    "\n",
    "0.9999929725437283"
   ]
  },
  {
   "cell_type": "code",
   "execution_count": null,
   "id": "endless-religion",
   "metadata": {
    "id": "endless-religion"
   },
   "outputs": [],
   "source": [
    "#First creating a logistic regression model using the above features with standardization."
   ]
  },
  {
   "cell_type": "code",
   "execution_count": null,
   "id": "identified-desperate",
   "metadata": {
    "id": "identified-desperate"
   },
   "outputs": [],
   "source": [
    "X_sfs = X[['Loan_Amount_Requested', 'Inquiries_Last_6Mo', 'Home_Owner_None', 'Home_Owner_Other', \n",
    "           'Income_Verified_VERIFIED - income', 'Income_Verified_not verified', 'Purpose_Of_Loan_car', \n",
    "           'Purpose_Of_Loan_credit_card', 'Purpose_Of_Loan_debt_consolidation', 'Purpose_Of_Loan_educational', \n",
    "           'Purpose_Of_Loan_home_improvement', 'Purpose_Of_Loan_major_purchase', 'Purpose_Of_Loan_moving', \n",
    "           'Purpose_Of_Loan_renewable_energy']]\n",
    "\n",
    "X_rfe = X[['Loan_Amount_Requested', 'Annual_Income', 'Debt_To_Income',\n",
    "       'Inquiries_Last_6Mo', 'Number_Open_Accounts', 'Total_Accounts',\n",
    "       'Months_Since_Deliquency', 'Length_Employed_10+yrs',\n",
    "       'Length_Employed_2-5 yrs', 'Length_Employed_6-9 yrs',\n",
    "       'Home_Owner_Mortgage', 'Income_Verified_not verified',\n",
    "       'Purpose_Of_Loan_debt_consolidation', 'Gender_Female']]\n",
    "\n",
    "from sklearn.preprocessing import StandardScaler\n",
    "ss = StandardScaler()\n",
    "X_sfs_std = ss.fit_transform(X_sfs)\n",
    "X_rfe_std = ss.fit_transform(X_rfe)"
   ]
  },
  {
   "cell_type": "code",
   "execution_count": null,
   "id": "burning-military",
   "metadata": {
    "id": "burning-military"
   },
   "outputs": [],
   "source": []
  },
  {
   "cell_type": "markdown",
   "id": "systematic-drama",
   "metadata": {
    "id": "systematic-drama"
   },
   "source": [
    "# Logistic Regression"
   ]
  },
  {
   "cell_type": "code",
   "execution_count": null,
   "id": "strong-affiliation",
   "metadata": {
    "id": "strong-affiliation"
   },
   "outputs": [],
   "source": [
    "fscore = []\n",
    "accuracy=[]\n",
    "vals = [['sfs','sfs_std','rfe','rfe_std'],fscore,accuracy]\n",
    "cols = ['Feature Selection Technique','F1-Score','Accuracy']"
   ]
  },
  {
   "cell_type": "code",
   "execution_count": null,
   "id": "downtown-investigator",
   "metadata": {
    "id": "downtown-investigator",
    "outputId": "450094ee-bb3d-43bc-9996-50274a18edbf"
   },
   "outputs": [
    {
     "name": "stderr",
     "output_type": "stream",
     "text": [
      "[Parallel(n_jobs=1)]: Using backend SequentialBackend with 1 concurrent workers.\n",
      "[Parallel(n_jobs=1)]: Done   5 out of   5 | elapsed:   57.7s finished\n"
     ]
    }
   ],
   "source": [
    "from sklearn.model_selection import cross_val_score\n",
    "from sklearn.linear_model import LogisticRegression\n",
    "lr = LogisticRegression()\n",
    "\n",
    "avg_f1_score = np.mean(cross_val_score(lr,X_sfs,y, cv = 5,verbose = 1,scoring='f1_weighted',n_jobs = 1))\n",
    "avg_accuracy_score = np.mean(cross_val_score(lr,X_sfs,y, cv = 5,scoring='accuracy',n_jobs = 1))\n",
    "fscore.append(avg_f1_score)\n",
    "accuracy.append(avg_accuracy_score)"
   ]
  },
  {
   "cell_type": "code",
   "execution_count": null,
   "id": "behind-starter",
   "metadata": {
    "id": "behind-starter",
    "outputId": "eba60cc2-62ef-45d9-9f9b-15c11e24f33e"
   },
   "outputs": [
    {
     "name": "stderr",
     "output_type": "stream",
     "text": [
      "[Parallel(n_jobs=1)]: Using backend SequentialBackend with 1 concurrent workers.\n",
      "[Parallel(n_jobs=1)]: Done   5 out of   5 | elapsed:    7.8s finished\n"
     ]
    }
   ],
   "source": [
    "from sklearn.model_selection import cross_val_score\n",
    "from sklearn.linear_model import LogisticRegression\n",
    "lr = LogisticRegression()\n",
    "\n",
    "avg_f1_score = np.mean(cross_val_score(lr,X_sfs_std,y, cv = 5,verbose = 1,scoring='f1_weighted',n_jobs = 1))\n",
    "avg_accuracy_score = np.mean(cross_val_score(lr,X_sfs_std,y, cv = 5,scoring='accuracy',n_jobs = 1))\n",
    "fscore.append(avg_f1_score)\n",
    "accuracy.append(avg_accuracy_score)"
   ]
  },
  {
   "cell_type": "code",
   "execution_count": null,
   "id": "numerous-specific",
   "metadata": {
    "id": "numerous-specific",
    "outputId": "a0825497-f5a0-447c-c2fa-a16e852df594"
   },
   "outputs": [
    {
     "name": "stderr",
     "output_type": "stream",
     "text": [
      "[Parallel(n_jobs=1)]: Using backend SequentialBackend with 1 concurrent workers.\n",
      "[Parallel(n_jobs=1)]: Done   5 out of   5 | elapsed:   46.3s finished\n"
     ]
    }
   ],
   "source": [
    "from sklearn.model_selection import cross_val_score\n",
    "from sklearn.linear_model import LogisticRegression\n",
    "lr = LogisticRegression()\n",
    "\n",
    "avg_f1_score = np.mean(cross_val_score(lr,X_rfe,y, cv = 5,verbose = 1,scoring='f1_weighted',n_jobs = 1))\n",
    "avg_accuracy_score = np.mean(cross_val_score(lr,X_rfe,y, cv = 5,scoring='accuracy',n_jobs = 1))\n",
    "fscore.append(avg_f1_score)\n",
    "accuracy.append(avg_accuracy_score)"
   ]
  },
  {
   "cell_type": "code",
   "execution_count": null,
   "id": "reasonable-argument",
   "metadata": {
    "id": "reasonable-argument",
    "outputId": "293a0469-eece-4c4c-b390-c5affd5855d1"
   },
   "outputs": [
    {
     "name": "stderr",
     "output_type": "stream",
     "text": [
      "[Parallel(n_jobs=1)]: Using backend SequentialBackend with 1 concurrent workers.\n",
      "[Parallel(n_jobs=1)]: Done   5 out of   5 | elapsed:    9.6s finished\n"
     ]
    }
   ],
   "source": [
    "from sklearn.model_selection import cross_val_score\n",
    "from sklearn.linear_model import LogisticRegression\n",
    "lr = LogisticRegression()\n",
    "\n",
    "avg_f1_score = np.mean(cross_val_score(lr,X_rfe_std,y, cv = 5,verbose = 1,scoring='f1_weighted',n_jobs = 1))\n",
    "avg_accuracy_score = np.mean(cross_val_score(lr,X_rfe_std,y, cv = 5,scoring='accuracy',n_jobs = 1))\n",
    "fscore.append(avg_f1_score)\n",
    "accuracy.append(avg_accuracy_score)"
   ]
  },
  {
   "cell_type": "code",
   "execution_count": null,
   "id": "structural-hearing",
   "metadata": {
    "id": "structural-hearing",
    "outputId": "5ae406a5-87ee-46a0-ca14-95b3ae06e965"
   },
   "outputs": [
    {
     "data": {
      "text/html": [
       "<div>\n",
       "<style scoped>\n",
       "    .dataframe tbody tr th:only-of-type {\n",
       "        vertical-align: middle;\n",
       "    }\n",
       "\n",
       "    .dataframe tbody tr th {\n",
       "        vertical-align: top;\n",
       "    }\n",
       "\n",
       "    .dataframe thead th {\n",
       "        text-align: right;\n",
       "    }\n",
       "</style>\n",
       "<table border=\"1\" class=\"dataframe\">\n",
       "  <thead>\n",
       "    <tr style=\"text-align: right;\">\n",
       "      <th></th>\n",
       "      <th>Feature Selection Technique</th>\n",
       "      <th>F1-Score</th>\n",
       "      <th>Accuracy</th>\n",
       "    </tr>\n",
       "  </thead>\n",
       "  <tbody>\n",
       "    <tr>\n",
       "      <th>0</th>\n",
       "      <td>sfs</td>\n",
       "      <td>0.434845</td>\n",
       "      <td>0.495267</td>\n",
       "    </tr>\n",
       "    <tr>\n",
       "      <th>1</th>\n",
       "      <td>sfs_std</td>\n",
       "      <td>0.441312</td>\n",
       "      <td>0.498155</td>\n",
       "    </tr>\n",
       "    <tr>\n",
       "      <th>2</th>\n",
       "      <td>rfe</td>\n",
       "      <td>0.477117</td>\n",
       "      <td>0.500011</td>\n",
       "    </tr>\n",
       "    <tr>\n",
       "      <th>3</th>\n",
       "      <td>rfe_std</td>\n",
       "      <td>0.483583</td>\n",
       "      <td>0.504037</td>\n",
       "    </tr>\n",
       "  </tbody>\n",
       "</table>\n",
       "</div>"
      ],
      "text/plain": [
       "  Feature Selection Technique  F1-Score  Accuracy\n",
       "0                         sfs  0.434845  0.495267\n",
       "1                     sfs_std  0.441312  0.498155\n",
       "2                         rfe  0.477117  0.500011\n",
       "3                     rfe_std  0.483583  0.504037"
      ]
     },
     "execution_count": 218,
     "metadata": {
      "tags": []
     },
     "output_type": "execute_result"
    }
   ],
   "source": [
    "pd.DataFrame(dict(zip(cols,vals)))"
   ]
  },
  {
   "cell_type": "code",
   "execution_count": null,
   "id": "prescription-contemporary",
   "metadata": {
    "id": "prescription-contemporary",
    "outputId": "31259a96-2700-4fe1-a9c1-7b1f7849983b"
   },
   "outputs": [
    {
     "data": {
      "text/plain": [
       "<matplotlib.axes._subplots.AxesSubplot at 0x1ca95373ac8>"
      ]
     },
     "execution_count": 244,
     "metadata": {
      "tags": []
     },
     "output_type": "execute_result"
    },
    {
     "data": {
      "image/png": "[encoded data removed]",
      "text/plain": [
       "<Figure size 432x288 with 2 Axes>"
      ]
     },
     "metadata": {
      "needs_background": "light",
      "tags": []
     },
     "output_type": "display_data"
    }
   ],
   "source": [
    "from sklearn.model_selection import train_test_split\n",
    "X_train,X_test,y_train,y_test = train_test_split(X_rfe_std,y,test_size = 0.2,random_state = 1)\n",
    "lr.fit(X_train,y_train)\n",
    "pred = pd.Series(lr.predict(X_test))\n",
    "pred.value_counts()\n",
    "from sklearn.metrics import confusion_matrix\n",
    "sns.heatmap(confusion_matrix(y_test,pred)/len(pred),annot = True,fmt = '.2f')"
   ]
  },
  {
   "cell_type": "markdown",
   "id": "broad-indian",
   "metadata": {
    "id": "broad-indian"
   },
   "source": [
    "##### RFE features seem to be performing much better. We will be creating the rest of the models using the RFE features"
   ]
  },
  {
   "cell_type": "code",
   "execution_count": null,
   "id": "authorized-politics",
   "metadata": {
    "id": "authorized-politics"
   },
   "outputs": [],
   "source": [
    "\n",
    "f_dtc = []\n",
    "acc_dtc = []\n",
    "data_type = []\n",
    "ml_model = []\n",
    "vals = [ml_model,data_type,f_dtc,acc_dtc]\n",
    "cols = ['Model','Data Type','F1-Score','Accuracy']"
   ]
  },
  {
   "cell_type": "markdown",
   "id": "coordinated-kidney",
   "metadata": {
    "id": "coordinated-kidney"
   },
   "source": [
    "# Decision Tree Classifier"
   ]
  },
  {
   "cell_type": "code",
   "execution_count": null,
   "id": "duplicate-custom",
   "metadata": {
    "id": "duplicate-custom"
   },
   "outputs": [],
   "source": [
    "from sklearn.tree import DecisionTreeClassifier\n",
    "dtc = DecisionTreeClassifier()"
   ]
  },
  {
   "cell_type": "code",
   "execution_count": null,
   "id": "small-vitamin",
   "metadata": {
    "id": "small-vitamin",
    "outputId": "f4938d14-9514-4c2e-dad1-3e77fafc05f7"
   },
   "outputs": [
    {
     "data": {
      "text/html": [
       "<div>\n",
       "<style scoped>\n",
       "    .dataframe tbody tr th:only-of-type {\n",
       "        vertical-align: middle;\n",
       "    }\n",
       "\n",
       "    .dataframe tbody tr th {\n",
       "        vertical-align: top;\n",
       "    }\n",
       "\n",
       "    .dataframe thead th {\n",
       "        text-align: right;\n",
       "    }\n",
       "</style>\n",
       "<table border=\"1\" class=\"dataframe\">\n",
       "  <thead>\n",
       "    <tr style=\"text-align: right;\">\n",
       "      <th></th>\n",
       "      <th>Model</th>\n",
       "      <th>Data Type</th>\n",
       "      <th>F1-Score</th>\n",
       "      <th>Accuracy</th>\n",
       "    </tr>\n",
       "  </thead>\n",
       "  <tbody>\n",
       "    <tr>\n",
       "      <th>0</th>\n",
       "      <td>DecisionTreeClassifier</td>\n",
       "      <td>Not Standardized</td>\n",
       "      <td>0.416821</td>\n",
       "      <td>0.416335</td>\n",
       "    </tr>\n",
       "    <tr>\n",
       "      <th>1</th>\n",
       "      <td>DecisionTreeClassifier</td>\n",
       "      <td>Standardized</td>\n",
       "      <td>0.416758</td>\n",
       "      <td>0.417171</td>\n",
       "    </tr>\n",
       "  </tbody>\n",
       "</table>\n",
       "</div>"
      ],
      "text/plain": [
       "                    Model         Data Type  F1-Score  Accuracy\n",
       "0  DecisionTreeClassifier  Not Standardized  0.416821  0.416335\n",
       "1  DecisionTreeClassifier      Standardized  0.416758  0.417171"
      ]
     },
     "execution_count": 227,
     "metadata": {
      "tags": []
     },
     "output_type": "execute_result"
    }
   ],
   "source": [
    "avg_f1_score = np.mean(cross_val_score(dtc,X_rfe,y,cv = 5,scoring = 'f1_weighted',n_jobs = -1))\n",
    "avg_accuracy_score = np.mean(cross_val_score(dtc,X_rfe,y,cv = 5,scoring = 'accuracy',n_jobs = -1))\n",
    "f_dtc.append(avg_f1_score)\n",
    "acc_dtc.append(avg_accuracy_score)\n",
    "data_type.append('Not Standardized')\n",
    "ml_model.append('DecisionTreeClassifier')\n",
    "\n",
    "avg_f1_score_std = np.mean(cross_val_score(dtc,X_rfe_std,y,cv = 5,scoring = 'f1_weighted',n_jobs = -1))\n",
    "avg_accuracy_score_std = np.mean(cross_val_score(dtc,X_rfe_std,y,cv = 5,scoring = 'accuracy',n_jobs = -1))\n",
    "f_dtc.append(avg_f1_score_std)\n",
    "acc_dtc.append(avg_accuracy_score_std)\n",
    "data_type.append('Standardized')\n",
    "ml_model.append('DecisionTreeClassifier')\n",
    "\n",
    "pd.DataFrame(dict(zip(cols,vals)))"
   ]
  },
  {
   "cell_type": "markdown",
   "id": "guilty-belle",
   "metadata": {
    "id": "guilty-belle"
   },
   "source": [
    "# Naive Bayes Classifier"
   ]
  },
  {
   "cell_type": "code",
   "execution_count": null,
   "id": "guided-wednesday",
   "metadata": {
    "id": "guided-wednesday"
   },
   "outputs": [],
   "source": [
    "from sklearn.naive_bayes import MultinomialNB\n",
    "mnb = MultinomialNB()"
   ]
  },
  {
   "cell_type": "code",
   "execution_count": null,
   "id": "pretty-original",
   "metadata": {
    "id": "pretty-original",
    "outputId": "11b24395-38b0-4767-a873-74327412b84b"
   },
   "outputs": [
    {
     "data": {
      "text/html": [
       "<div>\n",
       "<style scoped>\n",
       "    .dataframe tbody tr th:only-of-type {\n",
       "        vertical-align: middle;\n",
       "    }\n",
       "\n",
       "    .dataframe tbody tr th {\n",
       "        vertical-align: top;\n",
       "    }\n",
       "\n",
       "    .dataframe thead th {\n",
       "        text-align: right;\n",
       "    }\n",
       "</style>\n",
       "<table border=\"1\" class=\"dataframe\">\n",
       "  <thead>\n",
       "    <tr style=\"text-align: right;\">\n",
       "      <th></th>\n",
       "      <th>Model</th>\n",
       "      <th>Data Type</th>\n",
       "      <th>F1-Score</th>\n",
       "      <th>Accuracy</th>\n",
       "    </tr>\n",
       "  </thead>\n",
       "  <tbody>\n",
       "    <tr>\n",
       "      <th>0</th>\n",
       "      <td>DecisionTreeClassifier</td>\n",
       "      <td>Not Standardized</td>\n",
       "      <td>0.416821</td>\n",
       "      <td>0.416335</td>\n",
       "    </tr>\n",
       "    <tr>\n",
       "      <th>1</th>\n",
       "      <td>DecisionTreeClassifier</td>\n",
       "      <td>Standardized</td>\n",
       "      <td>0.416758</td>\n",
       "      <td>0.417171</td>\n",
       "    </tr>\n",
       "    <tr>\n",
       "      <th>2</th>\n",
       "      <td>RandomForestClassifier</td>\n",
       "      <td>Not Standardized</td>\n",
       "      <td>0.484381</td>\n",
       "      <td>0.495330</td>\n",
       "    </tr>\n",
       "    <tr>\n",
       "      <th>3</th>\n",
       "      <td>RandomForestClassifier</td>\n",
       "      <td>Standardized</td>\n",
       "      <td>0.484153</td>\n",
       "      <td>0.495098</td>\n",
       "    </tr>\n",
       "    <tr>\n",
       "      <th>4</th>\n",
       "      <td>Naive Bayes Classifier</td>\n",
       "      <td>Not Standardized</td>\n",
       "      <td>0.458256</td>\n",
       "      <td>0.464866</td>\n",
       "    </tr>\n",
       "    <tr>\n",
       "      <th>5</th>\n",
       "      <td>Naive Bayes Classifier</td>\n",
       "      <td>Standardized</td>\n",
       "      <td>NaN</td>\n",
       "      <td>NaN</td>\n",
       "    </tr>\n",
       "  </tbody>\n",
       "</table>\n",
       "</div>"
      ],
      "text/plain": [
       "                    Model         Data Type  F1-Score  Accuracy\n",
       "0  DecisionTreeClassifier  Not Standardized  0.416821  0.416335\n",
       "1  DecisionTreeClassifier      Standardized  0.416758  0.417171\n",
       "2  RandomForestClassifier  Not Standardized  0.484381  0.495330\n",
       "3  RandomForestClassifier      Standardized  0.484153  0.495098\n",
       "4  Naive Bayes Classifier  Not Standardized  0.458256  0.464866\n",
       "5  Naive Bayes Classifier      Standardized       NaN       NaN"
      ]
     },
     "execution_count": 236,
     "metadata": {
      "tags": []
     },
     "output_type": "execute_result"
    }
   ],
   "source": [
    "dtc = mnb\n",
    "avg_f1_score = np.mean(cross_val_score(dtc,X_rfe,y,cv = 5,scoring = 'f1_weighted',n_jobs = -1))\n",
    "avg_accuracy_score = np.mean(cross_val_score(dtc,X_rfe,y,cv = 5,scoring = 'accuracy',n_jobs = -1))\n",
    "f_dtc.append(avg_f1_score)\n",
    "acc_dtc.append(avg_accuracy_score)\n",
    "data_type.append('Not Standardized')\n",
    "ml_model.append('Naive Bayes Classifier')\n",
    "\n",
    "avg_f1_score_std = np.mean(cross_val_score(dtc,X_rfe_std,y,cv = 5,scoring = 'f1_weighted',n_jobs = -1))\n",
    "avg_accuracy_score_std = np.mean(cross_val_score(dtc,X_rfe_std,y,cv = 5,scoring = 'accuracy',n_jobs = -1))\n",
    "f_dtc.append(avg_f1_score_std)\n",
    "acc_dtc.append(avg_accuracy_score_std)\n",
    "data_type.append('Standardized')\n",
    "ml_model.append('Naive Bayes Classifier')\n",
    "\n",
    "pd.DataFrame(dict(zip(cols,vals)))"
   ]
  },
  {
   "cell_type": "markdown",
   "id": "fresh-attachment",
   "metadata": {
    "id": "fresh-attachment"
   },
   "source": [
    "# Random Forest Classifier"
   ]
  },
  {
   "cell_type": "code",
   "execution_count": null,
   "id": "detailed-insertion",
   "metadata": {
    "id": "detailed-insertion"
   },
   "outputs": [],
   "source": [
    "from sklearn.ensemble import RandomForestClassifier\n",
    "rfc = RandomForestClassifier()"
   ]
  },
  {
   "cell_type": "code",
   "execution_count": null,
   "id": "tight-relay",
   "metadata": {
    "id": "tight-relay",
    "outputId": "d4677a5b-1f29-498c-f307-5afb363e750e"
   },
   "outputs": [
    {
     "data": {
      "text/html": [
       "<div>\n",
       "<style scoped>\n",
       "    .dataframe tbody tr th:only-of-type {\n",
       "        vertical-align: middle;\n",
       "    }\n",
       "\n",
       "    .dataframe tbody tr th {\n",
       "        vertical-align: top;\n",
       "    }\n",
       "\n",
       "    .dataframe thead th {\n",
       "        text-align: right;\n",
       "    }\n",
       "</style>\n",
       "<table border=\"1\" class=\"dataframe\">\n",
       "  <thead>\n",
       "    <tr style=\"text-align: right;\">\n",
       "      <th></th>\n",
       "      <th>Model</th>\n",
       "      <th>Data Type</th>\n",
       "      <th>F1-Score</th>\n",
       "      <th>Accuracy</th>\n",
       "    </tr>\n",
       "  </thead>\n",
       "  <tbody>\n",
       "    <tr>\n",
       "      <th>0</th>\n",
       "      <td>DecisionTreeClassifier</td>\n",
       "      <td>Not Standardized</td>\n",
       "      <td>0.416821</td>\n",
       "      <td>0.416335</td>\n",
       "    </tr>\n",
       "    <tr>\n",
       "      <th>1</th>\n",
       "      <td>DecisionTreeClassifier</td>\n",
       "      <td>Standardized</td>\n",
       "      <td>0.416758</td>\n",
       "      <td>0.417171</td>\n",
       "    </tr>\n",
       "    <tr>\n",
       "      <th>2</th>\n",
       "      <td>RandomForestClassifier</td>\n",
       "      <td>Not Standardized</td>\n",
       "      <td>0.484381</td>\n",
       "      <td>0.495330</td>\n",
       "    </tr>\n",
       "    <tr>\n",
       "      <th>3</th>\n",
       "      <td>RandomForestClassifier</td>\n",
       "      <td>Standardized</td>\n",
       "      <td>0.484153</td>\n",
       "      <td>0.495098</td>\n",
       "    </tr>\n",
       "  </tbody>\n",
       "</table>\n",
       "</div>"
      ],
      "text/plain": [
       "                    Model         Data Type  F1-Score  Accuracy\n",
       "0  DecisionTreeClassifier  Not Standardized  0.416821  0.416335\n",
       "1  DecisionTreeClassifier      Standardized  0.416758  0.417171\n",
       "2  RandomForestClassifier  Not Standardized  0.484381  0.495330\n",
       "3  RandomForestClassifier      Standardized  0.484153  0.495098"
      ]
     },
     "execution_count": 230,
     "metadata": {
      "tags": []
     },
     "output_type": "execute_result"
    }
   ],
   "source": [
    "dtc = rfc\n",
    "avg_f1_score = np.mean(cross_val_score(dtc,X_rfe,y,cv = 5,scoring = 'f1_weighted',n_jobs = -1))\n",
    "avg_accuracy_score = np.mean(cross_val_score(dtc,X_rfe,y,cv = 5,scoring = 'accuracy',n_jobs = -1))\n",
    "f_dtc.append(avg_f1_score)\n",
    "acc_dtc.append(avg_accuracy_score)\n",
    "data_type.append('Not Standardized')\n",
    "ml_model.append('RandomForestClassifier')\n",
    "\n",
    "avg_f1_score_std = np.mean(cross_val_score(dtc,X_rfe_std,y,cv = 5,scoring = 'f1_weighted',n_jobs = -1))\n",
    "avg_accuracy_score_std = np.mean(cross_val_score(dtc,X_rfe_std,y,cv = 5,scoring = 'accuracy',n_jobs = -1))\n",
    "f_dtc.append(avg_f1_score_std)\n",
    "acc_dtc.append(avg_accuracy_score_std)\n",
    "data_type.append('Standardized')\n",
    "ml_model.append('RandomForestClassifier')\n",
    "\n",
    "pd.DataFrame(dict(zip(cols,vals)))"
   ]
  },
  {
   "cell_type": "markdown",
   "id": "operational-lewis",
   "metadata": {
    "id": "operational-lewis"
   },
   "source": [
    "# ExtraTreesClassifier"
   ]
  },
  {
   "cell_type": "code",
   "execution_count": null,
   "id": "ceramic-radiation",
   "metadata": {
    "id": "ceramic-radiation"
   },
   "outputs": [],
   "source": [
    "from sklearn.ensemble import ExtraTreesClassifier\n",
    "etc = ExtraTreesClassifier()"
   ]
  },
  {
   "cell_type": "code",
   "execution_count": null,
   "id": "czech-durham",
   "metadata": {
    "id": "czech-durham",
    "outputId": "aae412cb-6753-4980-b9d1-5133168ea0d3"
   },
   "outputs": [
    {
     "data": {
      "text/html": [
       "<div>\n",
       "<style scoped>\n",
       "    .dataframe tbody tr th:only-of-type {\n",
       "        vertical-align: middle;\n",
       "    }\n",
       "\n",
       "    .dataframe tbody tr th {\n",
       "        vertical-align: top;\n",
       "    }\n",
       "\n",
       "    .dataframe thead th {\n",
       "        text-align: right;\n",
       "    }\n",
       "</style>\n",
       "<table border=\"1\" class=\"dataframe\">\n",
       "  <thead>\n",
       "    <tr style=\"text-align: right;\">\n",
       "      <th></th>\n",
       "      <th>Model</th>\n",
       "      <th>Data Type</th>\n",
       "      <th>F1-Score</th>\n",
       "      <th>Accuracy</th>\n",
       "    </tr>\n",
       "  </thead>\n",
       "  <tbody>\n",
       "    <tr>\n",
       "      <th>0</th>\n",
       "      <td>DecisionTreeClassifier</td>\n",
       "      <td>Not Standardized</td>\n",
       "      <td>0.416821</td>\n",
       "      <td>0.416335</td>\n",
       "    </tr>\n",
       "    <tr>\n",
       "      <th>1</th>\n",
       "      <td>DecisionTreeClassifier</td>\n",
       "      <td>Standardized</td>\n",
       "      <td>0.416758</td>\n",
       "      <td>0.417171</td>\n",
       "    </tr>\n",
       "    <tr>\n",
       "      <th>2</th>\n",
       "      <td>RandomForestClassifier</td>\n",
       "      <td>Not Standardized</td>\n",
       "      <td>0.484381</td>\n",
       "      <td>0.495330</td>\n",
       "    </tr>\n",
       "    <tr>\n",
       "      <th>3</th>\n",
       "      <td>RandomForestClassifier</td>\n",
       "      <td>Standardized</td>\n",
       "      <td>0.484153</td>\n",
       "      <td>0.495098</td>\n",
       "    </tr>\n",
       "    <tr>\n",
       "      <th>4</th>\n",
       "      <td>Naive Bayes Classifier</td>\n",
       "      <td>Not Standardized</td>\n",
       "      <td>0.458256</td>\n",
       "      <td>0.464866</td>\n",
       "    </tr>\n",
       "    <tr>\n",
       "      <th>5</th>\n",
       "      <td>Naive Bayes Classifier</td>\n",
       "      <td>Standardized</td>\n",
       "      <td>NaN</td>\n",
       "      <td>NaN</td>\n",
       "    </tr>\n",
       "    <tr>\n",
       "      <th>6</th>\n",
       "      <td>ExtraTreesClassifier</td>\n",
       "      <td>Not Standardized</td>\n",
       "      <td>0.469124</td>\n",
       "      <td>0.481915</td>\n",
       "    </tr>\n",
       "    <tr>\n",
       "      <th>7</th>\n",
       "      <td>ExtraTreesClassifier</td>\n",
       "      <td>Standardized</td>\n",
       "      <td>0.469149</td>\n",
       "      <td>0.480039</td>\n",
       "    </tr>\n",
       "  </tbody>\n",
       "</table>\n",
       "</div>"
      ],
      "text/plain": [
       "                    Model         Data Type  F1-Score  Accuracy\n",
       "0  DecisionTreeClassifier  Not Standardized  0.416821  0.416335\n",
       "1  DecisionTreeClassifier      Standardized  0.416758  0.417171\n",
       "2  RandomForestClassifier  Not Standardized  0.484381  0.495330\n",
       "3  RandomForestClassifier      Standardized  0.484153  0.495098\n",
       "4  Naive Bayes Classifier  Not Standardized  0.458256  0.464866\n",
       "5  Naive Bayes Classifier      Standardized       NaN       NaN\n",
       "6    ExtraTreesClassifier  Not Standardized  0.469124  0.481915\n",
       "7    ExtraTreesClassifier      Standardized  0.469149  0.480039"
      ]
     },
     "execution_count": 237,
     "metadata": {
      "tags": []
     },
     "output_type": "execute_result"
    }
   ],
   "source": [
    "dtc = etc\n",
    "avg_f1_score = np.mean(cross_val_score(dtc,X_rfe,y,cv = 5,scoring = 'f1_weighted',n_jobs = -1))\n",
    "avg_accuracy_score = np.mean(cross_val_score(dtc,X_rfe,y,cv = 5,scoring = 'accuracy',n_jobs = -1))\n",
    "f_dtc.append(avg_f1_score)\n",
    "acc_dtc.append(avg_accuracy_score)\n",
    "data_type.append('Not Standardized')\n",
    "ml_model.append('ExtraTreesClassifier')\n",
    "\n",
    "avg_f1_score_std = np.mean(cross_val_score(dtc,X_rfe_std,y,cv = 5,scoring = 'f1_weighted',n_jobs = -1))\n",
    "avg_accuracy_score_std = np.mean(cross_val_score(dtc,X_rfe_std,y,cv = 5,scoring = 'accuracy',n_jobs = -1))\n",
    "f_dtc.append(avg_f1_score_std)\n",
    "acc_dtc.append(avg_accuracy_score_std)\n",
    "data_type.append('Standardized')\n",
    "ml_model.append('ExtraTreesClassifier')\n",
    "\n",
    "pd.DataFrame(dict(zip(cols,vals)))"
   ]
  },
  {
   "cell_type": "markdown",
   "id": "geographic-cooking",
   "metadata": {
    "id": "geographic-cooking"
   },
   "source": [
    "# GradientBoostingClassifier"
   ]
  },
  {
   "cell_type": "code",
   "execution_count": null,
   "id": "interpreted-charlotte",
   "metadata": {
    "id": "interpreted-charlotte"
   },
   "outputs": [],
   "source": [
    "from sklearn.ensemble import GradientBoostingClassifier\n",
    "gbc = GradientBoostingClassifier()"
   ]
  },
  {
   "cell_type": "code",
   "execution_count": null,
   "id": "liquid-hamilton",
   "metadata": {
    "id": "liquid-hamilton",
    "outputId": "3266b359-3252-4f19-a4e5-0705fd5f0d0b"
   },
   "outputs": [
    {
     "data": {
      "text/html": [
       "<div>\n",
       "<style scoped>\n",
       "    .dataframe tbody tr th:only-of-type {\n",
       "        vertical-align: middle;\n",
       "    }\n",
       "\n",
       "    .dataframe tbody tr th {\n",
       "        vertical-align: top;\n",
       "    }\n",
       "\n",
       "    .dataframe thead th {\n",
       "        text-align: right;\n",
       "    }\n",
       "</style>\n",
       "<table border=\"1\" class=\"dataframe\">\n",
       "  <thead>\n",
       "    <tr style=\"text-align: right;\">\n",
       "      <th></th>\n",
       "      <th>Model</th>\n",
       "      <th>Data Type</th>\n",
       "      <th>F1-Score</th>\n",
       "      <th>Accuracy</th>\n",
       "    </tr>\n",
       "  </thead>\n",
       "  <tbody>\n",
       "    <tr>\n",
       "      <th>0</th>\n",
       "      <td>DecisionTreeClassifier</td>\n",
       "      <td>Not Standardized</td>\n",
       "      <td>0.416821</td>\n",
       "      <td>0.416335</td>\n",
       "    </tr>\n",
       "    <tr>\n",
       "      <th>1</th>\n",
       "      <td>DecisionTreeClassifier</td>\n",
       "      <td>Standardized</td>\n",
       "      <td>0.416758</td>\n",
       "      <td>0.417171</td>\n",
       "    </tr>\n",
       "    <tr>\n",
       "      <th>2</th>\n",
       "      <td>RandomForestClassifier</td>\n",
       "      <td>Not Standardized</td>\n",
       "      <td>0.484381</td>\n",
       "      <td>0.495330</td>\n",
       "    </tr>\n",
       "    <tr>\n",
       "      <th>3</th>\n",
       "      <td>RandomForestClassifier</td>\n",
       "      <td>Standardized</td>\n",
       "      <td>0.484153</td>\n",
       "      <td>0.495098</td>\n",
       "    </tr>\n",
       "    <tr>\n",
       "      <th>4</th>\n",
       "      <td>Naive Bayes Classifier</td>\n",
       "      <td>Not Standardized</td>\n",
       "      <td>0.458256</td>\n",
       "      <td>0.464866</td>\n",
       "    </tr>\n",
       "    <tr>\n",
       "      <th>5</th>\n",
       "      <td>Naive Bayes Classifier</td>\n",
       "      <td>Standardized</td>\n",
       "      <td>NaN</td>\n",
       "      <td>NaN</td>\n",
       "    </tr>\n",
       "    <tr>\n",
       "      <th>6</th>\n",
       "      <td>ExtraTreesClassifier</td>\n",
       "      <td>Not Standardized</td>\n",
       "      <td>0.469124</td>\n",
       "      <td>0.481915</td>\n",
       "    </tr>\n",
       "    <tr>\n",
       "      <th>7</th>\n",
       "      <td>ExtraTreesClassifier</td>\n",
       "      <td>Standardized</td>\n",
       "      <td>0.469149</td>\n",
       "      <td>0.480039</td>\n",
       "    </tr>\n",
       "    <tr>\n",
       "      <th>8</th>\n",
       "      <td>GradientBoostingClassifier</td>\n",
       "      <td>Not Standardized</td>\n",
       "      <td>0.497880</td>\n",
       "      <td>0.518331</td>\n",
       "    </tr>\n",
       "    <tr>\n",
       "      <th>9</th>\n",
       "      <td>GradientBoostingClassifier</td>\n",
       "      <td>Standardized</td>\n",
       "      <td>0.497880</td>\n",
       "      <td>0.518331</td>\n",
       "    </tr>\n",
       "  </tbody>\n",
       "</table>\n",
       "</div>"
      ],
      "text/plain": [
       "                        Model         Data Type  F1-Score  Accuracy\n",
       "0      DecisionTreeClassifier  Not Standardized  0.416821  0.416335\n",
       "1      DecisionTreeClassifier      Standardized  0.416758  0.417171\n",
       "2      RandomForestClassifier  Not Standardized  0.484381  0.495330\n",
       "3      RandomForestClassifier      Standardized  0.484153  0.495098\n",
       "4      Naive Bayes Classifier  Not Standardized  0.458256  0.464866\n",
       "5      Naive Bayes Classifier      Standardized       NaN       NaN\n",
       "6        ExtraTreesClassifier  Not Standardized  0.469124  0.481915\n",
       "7        ExtraTreesClassifier      Standardized  0.469149  0.480039\n",
       "8  GradientBoostingClassifier  Not Standardized  0.497880  0.518331\n",
       "9  GradientBoostingClassifier      Standardized  0.497880  0.518331"
      ]
     },
     "execution_count": 246,
     "metadata": {
      "tags": []
     },
     "output_type": "execute_result"
    }
   ],
   "source": [
    "dtc = gbc\n",
    "avg_f1_score = np.mean(cross_val_score(dtc,X_rfe,y,cv = 5,scoring = 'f1_weighted',n_jobs = -1))\n",
    "avg_accuracy_score = np.mean(cross_val_score(dtc,X_rfe,y,cv = 5,scoring = 'accuracy',n_jobs = -1))\n",
    "f_dtc.append(avg_f1_score)\n",
    "acc_dtc.append(avg_accuracy_score)\n",
    "data_type.append('Not Standardized')\n",
    "ml_model.append('GradientBoostingClassifier')\n",
    "\n",
    "avg_f1_score_std = np.mean(cross_val_score(dtc,X_rfe_std,y,cv = 5,scoring = 'f1_weighted',n_jobs = -1))\n",
    "avg_accuracy_score_std = np.mean(cross_val_score(dtc,X_rfe_std,y,cv = 5,scoring = 'accuracy',n_jobs = -1))\n",
    "f_dtc.append(avg_f1_score_std)\n",
    "acc_dtc.append(avg_accuracy_score_std)\n",
    "data_type.append('Standardized')\n",
    "ml_model.append('GradientBoostingClassifier')\n",
    "\n",
    "pd.DataFrame(dict(zip(cols,vals)))"
   ]
  },
  {
   "cell_type": "markdown",
   "id": "computational-blues",
   "metadata": {
    "id": "computational-blues"
   },
   "source": [
    "# AdaBoost"
   ]
  },
  {
   "cell_type": "code",
   "execution_count": null,
   "id": "absent-neighbor",
   "metadata": {
    "id": "absent-neighbor"
   },
   "outputs": [],
   "source": [
    "from sklearn.ensemble import AdaBoostClassifier\n",
    "abc = AdaBoostClassifier()"
   ]
  },
  {
   "cell_type": "code",
   "execution_count": null,
   "id": "located-spare",
   "metadata": {
    "id": "located-spare",
    "outputId": "bbfe23ff-d274-49a7-ac2a-ccfc9d4ec037"
   },
   "outputs": [
    {
     "data": {
      "text/html": [
       "<div>\n",
       "<style scoped>\n",
       "    .dataframe tbody tr th:only-of-type {\n",
       "        vertical-align: middle;\n",
       "    }\n",
       "\n",
       "    .dataframe tbody tr th {\n",
       "        vertical-align: top;\n",
       "    }\n",
       "\n",
       "    .dataframe thead th {\n",
       "        text-align: right;\n",
       "    }\n",
       "</style>\n",
       "<table border=\"1\" class=\"dataframe\">\n",
       "  <thead>\n",
       "    <tr style=\"text-align: right;\">\n",
       "      <th></th>\n",
       "      <th>Model</th>\n",
       "      <th>Data Type</th>\n",
       "      <th>F1-Score</th>\n",
       "      <th>Accuracy</th>\n",
       "    </tr>\n",
       "  </thead>\n",
       "  <tbody>\n",
       "    <tr>\n",
       "      <th>0</th>\n",
       "      <td>DecisionTreeClassifier</td>\n",
       "      <td>Not Standardized</td>\n",
       "      <td>0.416821</td>\n",
       "      <td>0.416335</td>\n",
       "    </tr>\n",
       "    <tr>\n",
       "      <th>1</th>\n",
       "      <td>DecisionTreeClassifier</td>\n",
       "      <td>Standardized</td>\n",
       "      <td>0.416758</td>\n",
       "      <td>0.417171</td>\n",
       "    </tr>\n",
       "    <tr>\n",
       "      <th>2</th>\n",
       "      <td>RandomForestClassifier</td>\n",
       "      <td>Not Standardized</td>\n",
       "      <td>0.484381</td>\n",
       "      <td>0.495330</td>\n",
       "    </tr>\n",
       "    <tr>\n",
       "      <th>3</th>\n",
       "      <td>RandomForestClassifier</td>\n",
       "      <td>Standardized</td>\n",
       "      <td>0.484153</td>\n",
       "      <td>0.495098</td>\n",
       "    </tr>\n",
       "    <tr>\n",
       "      <th>4</th>\n",
       "      <td>Naive Bayes Classifier</td>\n",
       "      <td>Not Standardized</td>\n",
       "      <td>0.458256</td>\n",
       "      <td>0.464866</td>\n",
       "    </tr>\n",
       "    <tr>\n",
       "      <th>5</th>\n",
       "      <td>Naive Bayes Classifier</td>\n",
       "      <td>Standardized</td>\n",
       "      <td>NaN</td>\n",
       "      <td>NaN</td>\n",
       "    </tr>\n",
       "    <tr>\n",
       "      <th>6</th>\n",
       "      <td>ExtraTreesClassifier</td>\n",
       "      <td>Not Standardized</td>\n",
       "      <td>0.469124</td>\n",
       "      <td>0.481915</td>\n",
       "    </tr>\n",
       "    <tr>\n",
       "      <th>7</th>\n",
       "      <td>ExtraTreesClassifier</td>\n",
       "      <td>Standardized</td>\n",
       "      <td>0.469149</td>\n",
       "      <td>0.480039</td>\n",
       "    </tr>\n",
       "    <tr>\n",
       "      <th>8</th>\n",
       "      <td>GradientBoostingClassifier</td>\n",
       "      <td>Not Standardized</td>\n",
       "      <td>0.497880</td>\n",
       "      <td>0.518331</td>\n",
       "    </tr>\n",
       "    <tr>\n",
       "      <th>9</th>\n",
       "      <td>GradientBoostingClassifier</td>\n",
       "      <td>Standardized</td>\n",
       "      <td>0.497880</td>\n",
       "      <td>0.518331</td>\n",
       "    </tr>\n",
       "    <tr>\n",
       "      <th>10</th>\n",
       "      <td>AdaBoostClassifier</td>\n",
       "      <td>Not Standardized</td>\n",
       "      <td>0.495532</td>\n",
       "      <td>0.511746</td>\n",
       "    </tr>\n",
       "    <tr>\n",
       "      <th>11</th>\n",
       "      <td>AdaBoostClassifier</td>\n",
       "      <td>Standardized</td>\n",
       "      <td>0.495532</td>\n",
       "      <td>0.511746</td>\n",
       "    </tr>\n",
       "  </tbody>\n",
       "</table>\n",
       "</div>"
      ],
      "text/plain": [
       "                         Model         Data Type  F1-Score  Accuracy\n",
       "0       DecisionTreeClassifier  Not Standardized  0.416821  0.416335\n",
       "1       DecisionTreeClassifier      Standardized  0.416758  0.417171\n",
       "2       RandomForestClassifier  Not Standardized  0.484381  0.495330\n",
       "3       RandomForestClassifier      Standardized  0.484153  0.495098\n",
       "4       Naive Bayes Classifier  Not Standardized  0.458256  0.464866\n",
       "5       Naive Bayes Classifier      Standardized       NaN       NaN\n",
       "6         ExtraTreesClassifier  Not Standardized  0.469124  0.481915\n",
       "7         ExtraTreesClassifier      Standardized  0.469149  0.480039\n",
       "8   GradientBoostingClassifier  Not Standardized  0.497880  0.518331\n",
       "9   GradientBoostingClassifier      Standardized  0.497880  0.518331\n",
       "10          AdaBoostClassifier  Not Standardized  0.495532  0.511746\n",
       "11          AdaBoostClassifier      Standardized  0.495532  0.511746"
      ]
     },
     "execution_count": 248,
     "metadata": {
      "tags": []
     },
     "output_type": "execute_result"
    }
   ],
   "source": [
    "dtc = abc\n",
    "avg_f1_score = np.mean(cross_val_score(dtc,X_rfe,y,cv = 5,scoring = 'f1_weighted',n_jobs = -1))\n",
    "avg_accuracy_score = np.mean(cross_val_score(dtc,X_rfe,y,cv = 5,scoring = 'accuracy',n_jobs = -1))\n",
    "f_dtc.append(avg_f1_score)\n",
    "acc_dtc.append(avg_accuracy_score)\n",
    "data_type.append('Not Standardized')\n",
    "ml_model.append('AdaBoostClassifier')\n",
    "\n",
    "avg_f1_score_std = np.mean(cross_val_score(dtc,X_rfe_std,y,cv = 5,scoring = 'f1_weighted',n_jobs = -1))\n",
    "avg_accuracy_score_std = np.mean(cross_val_score(dtc,X_rfe_std,y,cv = 5,scoring = 'accuracy',n_jobs = -1))\n",
    "f_dtc.append(avg_f1_score_std)\n",
    "acc_dtc.append(avg_accuracy_score_std)\n",
    "data_type.append('Standardized')\n",
    "ml_model.append('AdaBoostClassifier')\n",
    "\n",
    "pd.DataFrame(dict(zip(cols,vals)))"
   ]
  },
  {
   "cell_type": "markdown",
   "id": "visible-exhibit",
   "metadata": {
    "id": "visible-exhibit"
   },
   "source": [
    "# XGBoost"
   ]
  },
  {
   "cell_type": "code",
   "execution_count": null,
   "id": "ahead-client",
   "metadata": {
    "id": "ahead-client"
   },
   "outputs": [],
   "source": [
    "from xgboost import XGBClassifier\n",
    "xgb = XGBClassifier()"
   ]
  },
  {
   "cell_type": "code",
   "execution_count": null,
   "id": "organizational-brand",
   "metadata": {
    "id": "organizational-brand",
    "outputId": "a01a0cdc-7112-4fb7-fb5e-c8e694ccedce"
   },
   "outputs": [
    {
     "data": {
      "text/html": [
       "<div>\n",
       "<style scoped>\n",
       "    .dataframe tbody tr th:only-of-type {\n",
       "        vertical-align: middle;\n",
       "    }\n",
       "\n",
       "    .dataframe tbody tr th {\n",
       "        vertical-align: top;\n",
       "    }\n",
       "\n",
       "    .dataframe thead th {\n",
       "        text-align: right;\n",
       "    }\n",
       "</style>\n",
       "<table border=\"1\" class=\"dataframe\">\n",
       "  <thead>\n",
       "    <tr style=\"text-align: right;\">\n",
       "      <th></th>\n",
       "      <th>Model</th>\n",
       "      <th>Data Type</th>\n",
       "      <th>F1-Score</th>\n",
       "      <th>Accuracy</th>\n",
       "    </tr>\n",
       "  </thead>\n",
       "  <tbody>\n",
       "    <tr>\n",
       "      <th>0</th>\n",
       "      <td>DecisionTreeClassifier</td>\n",
       "      <td>Not Standardized</td>\n",
       "      <td>0.416821</td>\n",
       "      <td>0.416335</td>\n",
       "    </tr>\n",
       "    <tr>\n",
       "      <th>1</th>\n",
       "      <td>DecisionTreeClassifier</td>\n",
       "      <td>Standardized</td>\n",
       "      <td>0.416758</td>\n",
       "      <td>0.417171</td>\n",
       "    </tr>\n",
       "    <tr>\n",
       "      <th>2</th>\n",
       "      <td>RandomForestClassifier</td>\n",
       "      <td>Not Standardized</td>\n",
       "      <td>0.484381</td>\n",
       "      <td>0.495330</td>\n",
       "    </tr>\n",
       "    <tr>\n",
       "      <th>3</th>\n",
       "      <td>RandomForestClassifier</td>\n",
       "      <td>Standardized</td>\n",
       "      <td>0.484153</td>\n",
       "      <td>0.495098</td>\n",
       "    </tr>\n",
       "    <tr>\n",
       "      <th>4</th>\n",
       "      <td>Naive Bayes Classifier</td>\n",
       "      <td>Not Standardized</td>\n",
       "      <td>0.458256</td>\n",
       "      <td>0.464866</td>\n",
       "    </tr>\n",
       "    <tr>\n",
       "      <th>5</th>\n",
       "      <td>Naive Bayes Classifier</td>\n",
       "      <td>Standardized</td>\n",
       "      <td>NaN</td>\n",
       "      <td>NaN</td>\n",
       "    </tr>\n",
       "    <tr>\n",
       "      <th>6</th>\n",
       "      <td>ExtraTreesClassifier</td>\n",
       "      <td>Not Standardized</td>\n",
       "      <td>0.469124</td>\n",
       "      <td>0.481915</td>\n",
       "    </tr>\n",
       "    <tr>\n",
       "      <th>7</th>\n",
       "      <td>ExtraTreesClassifier</td>\n",
       "      <td>Standardized</td>\n",
       "      <td>0.469149</td>\n",
       "      <td>0.480039</td>\n",
       "    </tr>\n",
       "    <tr>\n",
       "      <th>8</th>\n",
       "      <td>GradientBoostingClassifier</td>\n",
       "      <td>Not Standardized</td>\n",
       "      <td>0.497880</td>\n",
       "      <td>0.518331</td>\n",
       "    </tr>\n",
       "    <tr>\n",
       "      <th>9</th>\n",
       "      <td>GradientBoostingClassifier</td>\n",
       "      <td>Standardized</td>\n",
       "      <td>0.497880</td>\n",
       "      <td>0.518331</td>\n",
       "    </tr>\n",
       "    <tr>\n",
       "      <th>10</th>\n",
       "      <td>AdaBoostClassifier</td>\n",
       "      <td>Not Standardized</td>\n",
       "      <td>0.495532</td>\n",
       "      <td>0.511746</td>\n",
       "    </tr>\n",
       "    <tr>\n",
       "      <th>11</th>\n",
       "      <td>AdaBoostClassifier</td>\n",
       "      <td>Standardized</td>\n",
       "      <td>0.495532</td>\n",
       "      <td>0.511746</td>\n",
       "    </tr>\n",
       "    <tr>\n",
       "      <th>12</th>\n",
       "      <td>XGBClassifier</td>\n",
       "      <td>Not Standardized</td>\n",
       "      <td>0.511055</td>\n",
       "      <td>0.523300</td>\n",
       "    </tr>\n",
       "    <tr>\n",
       "      <th>13</th>\n",
       "      <td>XGBClassifier</td>\n",
       "      <td>Standardized</td>\n",
       "      <td>0.511039</td>\n",
       "      <td>0.523285</td>\n",
       "    </tr>\n",
       "  </tbody>\n",
       "</table>\n",
       "</div>"
      ],
      "text/plain": [
       "                         Model         Data Type  F1-Score  Accuracy\n",
       "0       DecisionTreeClassifier  Not Standardized  0.416821  0.416335\n",
       "1       DecisionTreeClassifier      Standardized  0.416758  0.417171\n",
       "2       RandomForestClassifier  Not Standardized  0.484381  0.495330\n",
       "3       RandomForestClassifier      Standardized  0.484153  0.495098\n",
       "4       Naive Bayes Classifier  Not Standardized  0.458256  0.464866\n",
       "5       Naive Bayes Classifier      Standardized       NaN       NaN\n",
       "6         ExtraTreesClassifier  Not Standardized  0.469124  0.481915\n",
       "7         ExtraTreesClassifier      Standardized  0.469149  0.480039\n",
       "8   GradientBoostingClassifier  Not Standardized  0.497880  0.518331\n",
       "9   GradientBoostingClassifier      Standardized  0.497880  0.518331\n",
       "10          AdaBoostClassifier  Not Standardized  0.495532  0.511746\n",
       "11          AdaBoostClassifier      Standardized  0.495532  0.511746\n",
       "12               XGBClassifier  Not Standardized  0.511055  0.523300\n",
       "13               XGBClassifier      Standardized  0.511039  0.523285"
      ]
     },
     "execution_count": 250,
     "metadata": {
      "tags": []
     },
     "output_type": "execute_result"
    }
   ],
   "source": [
    "dtc = xgb\n",
    "avg_f1_score = np.mean(cross_val_score(dtc,X_rfe,y,cv = 5,scoring = 'f1_weighted',n_jobs = -1))\n",
    "avg_accuracy_score = np.mean(cross_val_score(dtc,X_rfe,y,cv = 5,scoring = 'accuracy',n_jobs = -1))\n",
    "f_dtc.append(avg_f1_score)\n",
    "acc_dtc.append(avg_accuracy_score)\n",
    "data_type.append('Not Standardized')\n",
    "ml_model.append('XGBClassifier')\n",
    "\n",
    "avg_f1_score_std = np.mean(cross_val_score(dtc,X_rfe_std,y,cv = 5,scoring = 'f1_weighted',n_jobs = -1))\n",
    "avg_accuracy_score_std = np.mean(cross_val_score(dtc,X_rfe_std,y,cv = 5,scoring = 'accuracy',n_jobs = -1))\n",
    "f_dtc.append(avg_f1_score_std)\n",
    "acc_dtc.append(avg_accuracy_score_std)\n",
    "data_type.append('Standardized')\n",
    "ml_model.append('XGBClassifier')\n",
    "\n",
    "pd.DataFrame(dict(zip(cols,vals)))"
   ]
  },
  {
   "cell_type": "markdown",
   "id": "false-treat",
   "metadata": {
    "id": "false-treat"
   },
   "source": [
    "# CatBoost"
   ]
  },
  {
   "cell_type": "code",
   "execution_count": 1,
   "id": "cqKN_AsRVSsU",
   "metadata": {
    "colab": {
     "base_uri": "https://localhost:8080/"
    },
    "id": "cqKN_AsRVSsU",
    "outputId": "6992ac2d-38cc-4488-d895-9a85448170b6"
   },
   "outputs": [],
   "source": [
    "# !pip install catboost"
   ]
  },
  {
   "cell_type": "code",
   "execution_count": null,
   "id": "constitutional-killing",
   "metadata": {
    "id": "constitutional-killing"
   },
   "outputs": [],
   "source": [
    "from catboost import CatBoostClassifier\n",
    "cb = CatBoostClassifier()"
   ]
  },
  {
   "cell_type": "code",
   "execution_count": null,
   "id": "christian-phoenix",
   "metadata": {
    "id": "christian-phoenix",
    "outputId": "b3d2e11c-1f51-47d6-e95d-b292a957a186"
   },
   "outputs": [
    {
     "data": {
      "text/html": [
       "<div>\n",
       "<style scoped>\n",
       "    .dataframe tbody tr th:only-of-type {\n",
       "        vertical-align: middle;\n",
       "    }\n",
       "\n",
       "    .dataframe tbody tr th {\n",
       "        vertical-align: top;\n",
       "    }\n",
       "\n",
       "    .dataframe thead th {\n",
       "        text-align: right;\n",
       "    }\n",
       "</style>\n",
       "<table border=\"1\" class=\"dataframe\">\n",
       "  <thead>\n",
       "    <tr style=\"text-align: right;\">\n",
       "      <th></th>\n",
       "      <th>Model</th>\n",
       "      <th>Data Type</th>\n",
       "      <th>F1-Score</th>\n",
       "      <th>Accuracy</th>\n",
       "    </tr>\n",
       "  </thead>\n",
       "  <tbody>\n",
       "    <tr>\n",
       "      <th>0</th>\n",
       "      <td>DecisionTreeClassifier</td>\n",
       "      <td>Not Standardized</td>\n",
       "      <td>0.416821</td>\n",
       "      <td>0.416335</td>\n",
       "    </tr>\n",
       "    <tr>\n",
       "      <th>1</th>\n",
       "      <td>DecisionTreeClassifier</td>\n",
       "      <td>Standardized</td>\n",
       "      <td>0.416758</td>\n",
       "      <td>0.417171</td>\n",
       "    </tr>\n",
       "    <tr>\n",
       "      <th>2</th>\n",
       "      <td>RandomForestClassifier</td>\n",
       "      <td>Not Standardized</td>\n",
       "      <td>0.484381</td>\n",
       "      <td>0.495330</td>\n",
       "    </tr>\n",
       "    <tr>\n",
       "      <th>3</th>\n",
       "      <td>RandomForestClassifier</td>\n",
       "      <td>Standardized</td>\n",
       "      <td>0.484153</td>\n",
       "      <td>0.495098</td>\n",
       "    </tr>\n",
       "    <tr>\n",
       "      <th>4</th>\n",
       "      <td>Naive Bayes Classifier</td>\n",
       "      <td>Not Standardized</td>\n",
       "      <td>0.458256</td>\n",
       "      <td>0.464866</td>\n",
       "    </tr>\n",
       "    <tr>\n",
       "      <th>5</th>\n",
       "      <td>Naive Bayes Classifier</td>\n",
       "      <td>Standardized</td>\n",
       "      <td>NaN</td>\n",
       "      <td>NaN</td>\n",
       "    </tr>\n",
       "    <tr>\n",
       "      <th>6</th>\n",
       "      <td>ExtraTreesClassifier</td>\n",
       "      <td>Not Standardized</td>\n",
       "      <td>0.469124</td>\n",
       "      <td>0.481915</td>\n",
       "    </tr>\n",
       "    <tr>\n",
       "      <th>7</th>\n",
       "      <td>ExtraTreesClassifier</td>\n",
       "      <td>Standardized</td>\n",
       "      <td>0.469149</td>\n",
       "      <td>0.480039</td>\n",
       "    </tr>\n",
       "    <tr>\n",
       "      <th>8</th>\n",
       "      <td>GradientBoostingClassifier</td>\n",
       "      <td>Not Standardized</td>\n",
       "      <td>0.497880</td>\n",
       "      <td>0.518331</td>\n",
       "    </tr>\n",
       "    <tr>\n",
       "      <th>9</th>\n",
       "      <td>GradientBoostingClassifier</td>\n",
       "      <td>Standardized</td>\n",
       "      <td>0.497880</td>\n",
       "      <td>0.518331</td>\n",
       "    </tr>\n",
       "    <tr>\n",
       "      <th>10</th>\n",
       "      <td>AdaBoostClassifier</td>\n",
       "      <td>Not Standardized</td>\n",
       "      <td>0.495532</td>\n",
       "      <td>0.511746</td>\n",
       "    </tr>\n",
       "    <tr>\n",
       "      <th>11</th>\n",
       "      <td>AdaBoostClassifier</td>\n",
       "      <td>Standardized</td>\n",
       "      <td>0.495532</td>\n",
       "      <td>0.511746</td>\n",
       "    </tr>\n",
       "    <tr>\n",
       "      <th>12</th>\n",
       "      <td>XGBClassifier</td>\n",
       "      <td>Not Standardized</td>\n",
       "      <td>0.511055</td>\n",
       "      <td>0.523300</td>\n",
       "    </tr>\n",
       "    <tr>\n",
       "      <th>13</th>\n",
       "      <td>XGBClassifier</td>\n",
       "      <td>Standardized</td>\n",
       "      <td>0.511039</td>\n",
       "      <td>0.523285</td>\n",
       "    </tr>\n",
       "    <tr>\n",
       "      <th>14</th>\n",
       "      <td>CatBoostClassifier</td>\n",
       "      <td>Not Standardized</td>\n",
       "      <td>0.512051</td>\n",
       "      <td>0.524326</td>\n",
       "    </tr>\n",
       "    <tr>\n",
       "      <th>15</th>\n",
       "      <td>CatBoostClassifier</td>\n",
       "      <td>Standardized</td>\n",
       "      <td>0.512051</td>\n",
       "      <td>0.524326</td>\n",
       "    </tr>\n",
       "  </tbody>\n",
       "</table>\n",
       "</div>"
      ],
      "text/plain": [
       "                         Model         Data Type  F1-Score  Accuracy\n",
       "0       DecisionTreeClassifier  Not Standardized  0.416821  0.416335\n",
       "1       DecisionTreeClassifier      Standardized  0.416758  0.417171\n",
       "2       RandomForestClassifier  Not Standardized  0.484381  0.495330\n",
       "3       RandomForestClassifier      Standardized  0.484153  0.495098\n",
       "4       Naive Bayes Classifier  Not Standardized  0.458256  0.464866\n",
       "5       Naive Bayes Classifier      Standardized       NaN       NaN\n",
       "6         ExtraTreesClassifier  Not Standardized  0.469124  0.481915\n",
       "7         ExtraTreesClassifier      Standardized  0.469149  0.480039\n",
       "8   GradientBoostingClassifier  Not Standardized  0.497880  0.518331\n",
       "9   GradientBoostingClassifier      Standardized  0.497880  0.518331\n",
       "10          AdaBoostClassifier  Not Standardized  0.495532  0.511746\n",
       "11          AdaBoostClassifier      Standardized  0.495532  0.511746\n",
       "12               XGBClassifier  Not Standardized  0.511055  0.523300\n",
       "13               XGBClassifier      Standardized  0.511039  0.523285\n",
       "14          CatBoostClassifier  Not Standardized  0.512051  0.524326\n",
       "15          CatBoostClassifier      Standardized  0.512051  0.524326"
      ]
     },
     "execution_count": 252,
     "metadata": {
      "tags": []
     },
     "output_type": "execute_result"
    }
   ],
   "source": [
    "dtc = cb\n",
    "avg_f1_score = np.mean(cross_val_score(dtc,X_rfe,y,cv = 5,scoring = 'f1_weighted',n_jobs = -1))\n",
    "avg_accuracy_score = np.mean(cross_val_score(dtc,X_rfe,y,cv = 5,scoring = 'accuracy',n_jobs = -1))\n",
    "f_dtc.append(avg_f1_score)\n",
    "acc_dtc.append(avg_accuracy_score)\n",
    "data_type.append('Not Standardized')\n",
    "ml_model.append('CatBoostClassifier')\n",
    "\n",
    "avg_f1_score_std = np.mean(cross_val_score(dtc,X_rfe_std,y,cv = 5,scoring = 'f1_weighted',n_jobs = -1))\n",
    "avg_accuracy_score_std = np.mean(cross_val_score(dtc,X_rfe_std,y,cv = 5,scoring = 'accuracy',n_jobs = -1))\n",
    "f_dtc.append(avg_f1_score_std)\n",
    "acc_dtc.append(avg_accuracy_score_std)\n",
    "data_type.append('Standardized')\n",
    "ml_model.append('CatBoostClassifier')\n",
    "\n",
    "pd.DataFrame(dict(zip(cols,vals)))"
   ]
  },
  {
   "cell_type": "code",
   "execution_count": null,
   "id": "aquatic-bones",
   "metadata": {
    "id": "aquatic-bones",
    "outputId": "8a883ab2-bd18-42a8-dd24-475551aecfdb"
   },
   "outputs": [
    {
     "data": {
      "text/html": [
       "<div>\n",
       "<style scoped>\n",
       "    .dataframe tbody tr th:only-of-type {\n",
       "        vertical-align: middle;\n",
       "    }\n",
       "\n",
       "    .dataframe tbody tr th {\n",
       "        vertical-align: top;\n",
       "    }\n",
       "\n",
       "    .dataframe thead th {\n",
       "        text-align: right;\n",
       "    }\n",
       "</style>\n",
       "<table border=\"1\" class=\"dataframe\">\n",
       "  <thead>\n",
       "    <tr style=\"text-align: right;\">\n",
       "      <th></th>\n",
       "      <th>Model</th>\n",
       "      <th>Data Type</th>\n",
       "      <th>F1-Score</th>\n",
       "      <th>Accuracy</th>\n",
       "    </tr>\n",
       "  </thead>\n",
       "  <tbody>\n",
       "    <tr>\n",
       "      <th>14</th>\n",
       "      <td>CatBoostClassifier</td>\n",
       "      <td>Not Standardized</td>\n",
       "      <td>0.512051</td>\n",
       "      <td>0.524326</td>\n",
       "    </tr>\n",
       "    <tr>\n",
       "      <th>15</th>\n",
       "      <td>CatBoostClassifier</td>\n",
       "      <td>Standardized</td>\n",
       "      <td>0.512051</td>\n",
       "      <td>0.524326</td>\n",
       "    </tr>\n",
       "    <tr>\n",
       "      <th>12</th>\n",
       "      <td>XGBClassifier</td>\n",
       "      <td>Not Standardized</td>\n",
       "      <td>0.511055</td>\n",
       "      <td>0.523300</td>\n",
       "    </tr>\n",
       "    <tr>\n",
       "      <th>13</th>\n",
       "      <td>XGBClassifier</td>\n",
       "      <td>Standardized</td>\n",
       "      <td>0.511039</td>\n",
       "      <td>0.523285</td>\n",
       "    </tr>\n",
       "    <tr>\n",
       "      <th>8</th>\n",
       "      <td>GradientBoostingClassifier</td>\n",
       "      <td>Not Standardized</td>\n",
       "      <td>0.497880</td>\n",
       "      <td>0.518331</td>\n",
       "    </tr>\n",
       "    <tr>\n",
       "      <th>9</th>\n",
       "      <td>GradientBoostingClassifier</td>\n",
       "      <td>Standardized</td>\n",
       "      <td>0.497880</td>\n",
       "      <td>0.518331</td>\n",
       "    </tr>\n",
       "    <tr>\n",
       "      <th>10</th>\n",
       "      <td>AdaBoostClassifier</td>\n",
       "      <td>Not Standardized</td>\n",
       "      <td>0.495532</td>\n",
       "      <td>0.511746</td>\n",
       "    </tr>\n",
       "    <tr>\n",
       "      <th>11</th>\n",
       "      <td>AdaBoostClassifier</td>\n",
       "      <td>Standardized</td>\n",
       "      <td>0.495532</td>\n",
       "      <td>0.511746</td>\n",
       "    </tr>\n",
       "    <tr>\n",
       "      <th>2</th>\n",
       "      <td>RandomForestClassifier</td>\n",
       "      <td>Not Standardized</td>\n",
       "      <td>0.484381</td>\n",
       "      <td>0.495330</td>\n",
       "    </tr>\n",
       "    <tr>\n",
       "      <th>3</th>\n",
       "      <td>RandomForestClassifier</td>\n",
       "      <td>Standardized</td>\n",
       "      <td>0.484153</td>\n",
       "      <td>0.495098</td>\n",
       "    </tr>\n",
       "    <tr>\n",
       "      <th>6</th>\n",
       "      <td>ExtraTreesClassifier</td>\n",
       "      <td>Not Standardized</td>\n",
       "      <td>0.469124</td>\n",
       "      <td>0.481915</td>\n",
       "    </tr>\n",
       "    <tr>\n",
       "      <th>7</th>\n",
       "      <td>ExtraTreesClassifier</td>\n",
       "      <td>Standardized</td>\n",
       "      <td>0.469149</td>\n",
       "      <td>0.480039</td>\n",
       "    </tr>\n",
       "    <tr>\n",
       "      <th>4</th>\n",
       "      <td>Naive Bayes Classifier</td>\n",
       "      <td>Not Standardized</td>\n",
       "      <td>0.458256</td>\n",
       "      <td>0.464866</td>\n",
       "    </tr>\n",
       "    <tr>\n",
       "      <th>1</th>\n",
       "      <td>DecisionTreeClassifier</td>\n",
       "      <td>Standardized</td>\n",
       "      <td>0.416758</td>\n",
       "      <td>0.417171</td>\n",
       "    </tr>\n",
       "    <tr>\n",
       "      <th>0</th>\n",
       "      <td>DecisionTreeClassifier</td>\n",
       "      <td>Not Standardized</td>\n",
       "      <td>0.416821</td>\n",
       "      <td>0.416335</td>\n",
       "    </tr>\n",
       "    <tr>\n",
       "      <th>5</th>\n",
       "      <td>Naive Bayes Classifier</td>\n",
       "      <td>Standardized</td>\n",
       "      <td>NaN</td>\n",
       "      <td>NaN</td>\n",
       "    </tr>\n",
       "  </tbody>\n",
       "</table>\n",
       "</div>"
      ],
      "text/plain": [
       "                         Model         Data Type  F1-Score  Accuracy\n",
       "14          CatBoostClassifier  Not Standardized  0.512051  0.524326\n",
       "15          CatBoostClassifier      Standardized  0.512051  0.524326\n",
       "12               XGBClassifier  Not Standardized  0.511055  0.523300\n",
       "13               XGBClassifier      Standardized  0.511039  0.523285\n",
       "8   GradientBoostingClassifier  Not Standardized  0.497880  0.518331\n",
       "9   GradientBoostingClassifier      Standardized  0.497880  0.518331\n",
       "10          AdaBoostClassifier  Not Standardized  0.495532  0.511746\n",
       "11          AdaBoostClassifier      Standardized  0.495532  0.511746\n",
       "2       RandomForestClassifier  Not Standardized  0.484381  0.495330\n",
       "3       RandomForestClassifier      Standardized  0.484153  0.495098\n",
       "6         ExtraTreesClassifier  Not Standardized  0.469124  0.481915\n",
       "7         ExtraTreesClassifier      Standardized  0.469149  0.480039\n",
       "4       Naive Bayes Classifier  Not Standardized  0.458256  0.464866\n",
       "1       DecisionTreeClassifier      Standardized  0.416758  0.417171\n",
       "0       DecisionTreeClassifier  Not Standardized  0.416821  0.416335\n",
       "5       Naive Bayes Classifier      Standardized       NaN       NaN"
      ]
     },
     "execution_count": 253,
     "metadata": {
      "tags": []
     },
     "output_type": "execute_result"
    }
   ],
   "source": [
    "inf = pd.DataFrame(dict(zip(cols,vals)))\n",
    "inf.sort_values('Accuracy',ascending = False)"
   ]
  },
  {
   "cell_type": "code",
   "execution_count": null,
   "id": "french-darwin",
   "metadata": {
    "id": "french-darwin"
   },
   "outputs": [],
   "source": [
    "#Catboost seems to be performing the best"
   ]
  },
  {
   "cell_type": "code",
   "execution_count": 117,
   "id": "unnecessary-democracy",
   "metadata": {
    "id": "unnecessary-democracy"
   },
   "outputs": [],
   "source": [
    "#Using the not standardized rfe dataset\n",
    "from sklearn.model_selection import train_test_split\n",
    "X_train,X_test,y_train,y_test = train_test_split(X_rfe,y,test_size = 0.2,random_state = 1)"
   ]
  },
  {
   "cell_type": "code",
   "execution_count": null,
   "id": "sapphire-harvey",
   "metadata": {
    "id": "sapphire-harvey"
   },
   "outputs": [],
   "source": [
    "#Applying grid search for cat boost to find best parameters\n",
    "params = {'depth':[3,1,2,6,4,5,7,8,9,10],\n",
    "          'iterations':[250,100,500,1000],\n",
    "          'learning_rate':[0.03,0.001,0.01,0.1,0.2,0.3], \n",
    "          'l2_leaf_reg':[3,1,5,10,100],\n",
    "          'border_count':[32,5,10,20,50,100,200]\n",
    "          }"
   ]
  },
  {
   "cell_type": "code",
   "execution_count": null,
   "id": "contrary-norway",
   "metadata": {
    "id": "contrary-norway"
   },
   "outputs": [],
   "source": [
    "cb1 = CatBoostClassifier(loss_function = 'MultiClass',thread_count = 4,verbose = 0,task_type = 'GPU')"
   ]
  },
  {
   "cell_type": "code",
   "execution_count": null,
   "id": "wrapped-definition",
   "metadata": {
    "colab": {
     "base_uri": "https://localhost:8080/"
    },
    "id": "wrapped-definition",
    "outputId": "1d4fbdd9-5d30-42b1-c08a-b49a19e3e58c"
   },
   "outputs": [
    {
     "name": "stdout",
     "output_type": "stream",
     "text": [
      "3 is best for depth keeping all the other features as default\n",
      "100 is best for iterations keeping all the other features as default\n",
      "0.1 is best for learning_rate keeping all the other features as default\n",
      "5 is best for l2_leaf_reg keeping all the other features as default\n",
      "200 is best for border_count keeping all the other features as default\n"
     ]
    }
   ],
   "source": [
    "#Looking for each best parameter for each criterion with the default values first.\n",
    "from sklearn.model_selection import GridSearchCV\n",
    "ind = []\n",
    "val = []\n",
    "cols = ['Hyper-Parameter','Best_Val']\n",
    "vals = [ind,val]\n",
    "for i in params:\n",
    "    grid = GridSearchCV(cb1,{i:params[i]},scoring = 'f1_weighted',n_jobs = -1,cv = 5)\n",
    "    grid.fit(X_train,y_train)\n",
    "    val.append(grid.best_params_[i])\n",
    "    ind.append(i)\n",
    "    print('{} is best for {} keeping all the other features as default'.format(grid.best_params_[i],i))"
   ]
  },
  {
   "cell_type": "code",
   "execution_count": null,
   "id": "consistent-nylon",
   "metadata": {
    "colab": {
     "base_uri": "https://localhost:8080/",
     "height": 206
    },
    "id": "consistent-nylon",
    "outputId": "b037c452-cb66-4089-d000-9ba4a774fae2"
   },
   "outputs": [
    {
     "data": {
      "text/html": [
       "<div>\n",
       "<style scoped>\n",
       "    .dataframe tbody tr th:only-of-type {\n",
       "        vertical-align: middle;\n",
       "    }\n",
       "\n",
       "    .dataframe tbody tr th {\n",
       "        vertical-align: top;\n",
       "    }\n",
       "\n",
       "    .dataframe thead th {\n",
       "        text-align: right;\n",
       "    }\n",
       "</style>\n",
       "<table border=\"1\" class=\"dataframe\">\n",
       "  <thead>\n",
       "    <tr style=\"text-align: right;\">\n",
       "      <th></th>\n",
       "      <th>Hyper-Parameter</th>\n",
       "      <th>Best_Val</th>\n",
       "    </tr>\n",
       "  </thead>\n",
       "  <tbody>\n",
       "    <tr>\n",
       "      <th>0</th>\n",
       "      <td>depth</td>\n",
       "      <td>3.0</td>\n",
       "    </tr>\n",
       "    <tr>\n",
       "      <th>1</th>\n",
       "      <td>iterations</td>\n",
       "      <td>100.0</td>\n",
       "    </tr>\n",
       "    <tr>\n",
       "      <th>2</th>\n",
       "      <td>learning_rate</td>\n",
       "      <td>0.1</td>\n",
       "    </tr>\n",
       "    <tr>\n",
       "      <th>3</th>\n",
       "      <td>l2_leaf_reg</td>\n",
       "      <td>5.0</td>\n",
       "    </tr>\n",
       "    <tr>\n",
       "      <th>4</th>\n",
       "      <td>border_count</td>\n",
       "      <td>200.0</td>\n",
       "    </tr>\n",
       "  </tbody>\n",
       "</table>\n",
       "</div>"
      ],
      "text/plain": [
       "  Hyper-Parameter  Best_Val\n",
       "0           depth       3.0\n",
       "1      iterations     100.0\n",
       "2   learning_rate       0.1\n",
       "3     l2_leaf_reg       5.0\n",
       "4    border_count     200.0"
      ]
     },
     "execution_count": 33,
     "metadata": {
      "tags": []
     },
     "output_type": "execute_result"
    }
   ],
   "source": [
    "pd.DataFrame(dict(zip(cols,vals)))"
   ]
  },
  {
   "cell_type": "code",
   "execution_count": null,
   "id": "ByuEB-p9g_8C",
   "metadata": {
    "id": "ByuEB-p9g_8C"
   },
   "outputs": [],
   "source": [
    "from catboost import CatBoostClassifier\n",
    "from sklearn.model_selection import cross_val_score\n",
    "cb1 = CatBoostClassifier(loss_function = 'MultiClass',thread_count = 4,verbose = 0,task_type = 'GPU',\n",
    "                        depth = 3,iterations = 100,learning_rate = 0.1,l2_leaf_reg = 5,\n",
    "                        border_count = 200)"
   ]
  },
  {
   "cell_type": "code",
   "execution_count": null,
   "id": "YNmNH0btg6-o",
   "metadata": {
    "colab": {
     "base_uri": "https://localhost:8080/",
     "height": 112
    },
    "id": "YNmNH0btg6-o",
    "outputId": "6ff85b67-37ba-4bba-9880-7ced2cdba242"
   },
   "outputs": [
    {
     "data": {
      "text/html": [
       "<div>\n",
       "<style scoped>\n",
       "    .dataframe tbody tr th:only-of-type {\n",
       "        vertical-align: middle;\n",
       "    }\n",
       "\n",
       "    .dataframe tbody tr th {\n",
       "        vertical-align: top;\n",
       "    }\n",
       "\n",
       "    .dataframe thead th {\n",
       "        text-align: right;\n",
       "    }\n",
       "</style>\n",
       "<table border=\"1\" class=\"dataframe\">\n",
       "  <thead>\n",
       "    <tr style=\"text-align: right;\">\n",
       "      <th></th>\n",
       "      <th>ML Model</th>\n",
       "      <th>Data_Type</th>\n",
       "      <th>f1_score</th>\n",
       "      <th>accuracy_score</th>\n",
       "    </tr>\n",
       "  </thead>\n",
       "  <tbody>\n",
       "    <tr>\n",
       "      <th>0</th>\n",
       "      <td>CatBoostClassifier</td>\n",
       "      <td>Not Std</td>\n",
       "      <td>0.489391</td>\n",
       "      <td>0.513953</td>\n",
       "    </tr>\n",
       "    <tr>\n",
       "      <th>1</th>\n",
       "      <td>CatBoostClassifier</td>\n",
       "      <td>Std</td>\n",
       "      <td>0.489286</td>\n",
       "      <td>0.513974</td>\n",
       "    </tr>\n",
       "  </tbody>\n",
       "</table>\n",
       "</div>"
      ],
      "text/plain": [
       "             ML Model Data_Type  f1_score  accuracy_score\n",
       "0  CatBoostClassifier   Not Std  0.489391        0.513953\n",
       "1  CatBoostClassifier       Std  0.489286        0.513974"
      ]
     },
     "execution_count": 51,
     "metadata": {
      "tags": []
     },
     "output_type": "execute_result"
    }
   ],
   "source": [
    "dtc = cb1\n",
    "avg_f1_score = np.mean(cross_val_score(dtc,X_rfe,y,cv = 5,scoring = 'f1_weighted',n_jobs = -1))\n",
    "avg_accuracy_score = np.mean(cross_val_score(dtc,X_rfe,y,cv = 5,scoring = 'accuracy',n_jobs = -1))\n",
    "# f_dtc.append(avg_f1_score)\n",
    "# acc_dtc.append(avg_accuracy_score)\n",
    "# data_type.append('Not Standardized')\n",
    "# ml_model.append('CatBoostClassifier')\n",
    "\n",
    "avg_f1_score_std = np.mean(cross_val_score(dtc,X_rfe_std,y,cv = 5,scoring = 'f1_weighted',n_jobs = -1))\n",
    "avg_accuracy_score_std = np.mean(cross_val_score(dtc,X_rfe_std,y,cv = 5,scoring = 'accuracy',n_jobs = -1))\n",
    "# f_dtc.append(avg_f1_score_std)\n",
    "# acc_dtc.append(avg_accuracy_score_std)\n",
    "# data_type.append('Standardized')\n",
    "# ml_model.append('CatBoostClassifier')\n",
    "\n",
    "pd.DataFrame({'ML Model': ['CatBoostClassifier','CatBoostClassifier'],\n",
    "              'Data_Type':['Not Std','Std'],\n",
    "              'f1_score':[avg_f1_score,avg_f1_score_std],\n",
    "              'accuracy_score':[avg_accuracy_score,avg_accuracy_score_std]})"
   ]
  },
  {
   "cell_type": "code",
   "execution_count": null,
   "id": "charged-laser",
   "metadata": {
    "id": "charged-laser"
   },
   "outputs": [],
   "source": [
    "#Running grid search with all parameters together."
   ]
  },
  {
   "cell_type": "code",
   "execution_count": 114,
   "id": "rFJecqMaiZr-",
   "metadata": {
    "id": "rFJecqMaiZr-"
   },
   "outputs": [],
   "source": [
    "cb1 = CatBoostClassifier(loss_function = 'MultiClass',thread_count = 4,verbose = 0,task_type = 'GPU')"
   ]
  },
  {
   "cell_type": "markdown",
   "id": "5U2-l8JyCzg5",
   "metadata": {
    "id": "5U2-l8JyCzg5"
   },
   "source": [
    "# Trying with custom parameters"
   ]
  },
  {
   "cell_type": "code",
   "execution_count": 118,
   "id": "G8a9uVMp-6Ve",
   "metadata": {
    "id": "G8a9uVMp-6Ve"
   },
   "outputs": [],
   "source": [
    "params1 = {\n",
    "    'depth':[2,3,4],\n",
    "    'learning_rate':[0.05,0.1,0.15],\n",
    "    'iterations':[50,100,200]\n",
    "}"
   ]
  },
  {
   "cell_type": "code",
   "execution_count": 119,
   "id": "RUYg-ihAXegV",
   "metadata": {
    "colab": {
     "base_uri": "https://localhost:8080/"
    },
    "id": "RUYg-ihAXegV",
    "outputId": "b8cffa56-869d-470c-e7d6-c90adae2f3ff"
   },
   "outputs": [
    {
     "data": {
      "text/plain": [
       "{'border_count': 200}"
      ]
     },
     "execution_count": 119,
     "metadata": {
      "tags": []
     },
     "output_type": "execute_result"
    }
   ],
   "source": [
    "grid1 = GridSearchCV(cb1,params1,scoring = 'f1_weighted',n_jobs = -1,cv = 5)\n",
    "grid1.fit(X_train,y_train)\n",
    "grid.best_params_"
   ]
  },
  {
   "cell_type": "markdown",
   "id": "bFBJqzStC7HG",
   "metadata": {
    "id": "bFBJqzStC7HG"
   },
   "source": [
    "# Fitting the model"
   ]
  },
  {
   "cell_type": "code",
   "execution_count": 120,
   "id": "7UQPN9E4A_DZ",
   "metadata": {
    "colab": {
     "base_uri": "https://localhost:8080/"
    },
    "id": "7UQPN9E4A_DZ",
    "outputId": "0473cfa0-82b0-4bc9-f27f-df22f86b2355"
   },
   "outputs": [
    {
     "data": {
      "text/plain": [
       "<catboost.core.CatBoostClassifier at 0x7f61897a4c50>"
      ]
     },
     "execution_count": 120,
     "metadata": {
      "tags": []
     },
     "output_type": "execute_result"
    }
   ],
   "source": [
    "#Final model accuracy\n",
    "from catboost import CatBoostClassifier\n",
    "from sklearn.model_selection import cross_val_score\n",
    "\n",
    "cb1 = CatBoostClassifier(loss_function = 'MultiClass',thread_count = 4,verbose = 0,task_type = 'GPU')\n",
    "\n",
    "cb1.fit(X_train,y_train)"
   ]
  },
  {
   "cell_type": "code",
   "execution_count": 121,
   "id": "AAWbUq83n8Z5",
   "metadata": {
    "colab": {
     "base_uri": "https://localhost:8080/",
     "height": 388
    },
    "id": "AAWbUq83n8Z5",
    "outputId": "2bbc1d2a-7172-46e5-a94b-09c650dd4135"
   },
   "outputs": [
    {
     "data": {
      "image/png": "[encoded data removed]",
      "text/plain": [
       "<Figure size 1080x432 with 2 Axes>"
      ]
     },
     "metadata": {
      "needs_background": "light",
      "tags": []
     },
     "output_type": "display_data"
    }
   ],
   "source": [
    "from sklearn.metrics import confusion_matrix\n",
    "cat_pred = cb1.predict(X_test)\n",
    "plt.figure(figsize = (15,6))\n",
    "sns.heatmap(confusion_matrix(y_test,cat_pred)/len(cat_pred),annot = True,fmt = '.2f',cmap = 'YlGnBu')\n",
    "plt.xlabel('Predicted')\n",
    "plt.xticks(ticks = [0.5,1.5,2.5],labels = [1,2,3])\n",
    "plt.yticks(ticks = [0.5,1.5,2.5],labels = [1,2,3],va = 'center')\n",
    "plt.ylabel('Actual')\n",
    "plt.show()"
   ]
  },
  {
   "cell_type": "code",
   "execution_count": 122,
   "id": "-TLGKXfADxBi",
   "metadata": {
    "colab": {
     "base_uri": "https://localhost:8080/"
    },
    "id": "-TLGKXfADxBi",
    "outputId": "24cb4617-650d-4f9d-e880-80327243d7c9"
   },
   "outputs": [
    {
     "name": "stdout",
     "output_type": "stream",
     "text": [
      "              precision    recall  f1-score   support\n",
      "\n",
      "           1       0.51      0.26      0.35      6121\n",
      "           2       0.49      0.65      0.56     12323\n",
      "           3       0.57      0.51      0.54     10016\n",
      "\n",
      "    accuracy                           0.52     28460\n",
      "   macro avg       0.53      0.48      0.48     28460\n",
      "weighted avg       0.52      0.52      0.51     28460\n",
      "\n"
     ]
    }
   ],
   "source": [
    "from sklearn.metrics import classification_report\n",
    "print(classification_report(y_test,cat_pred))"
   ]
  },
  {
   "cell_type": "markdown",
   "id": "_LTGxwiSBONr",
   "metadata": {
    "id": "_LTGxwiSBONr"
   },
   "source": [
    "# Applying SMOTE for some performance improvement."
   ]
  },
  {
   "cell_type": "code",
   "execution_count": 135,
   "id": "_IjCkvrYBTXI",
   "metadata": {
    "id": "_IjCkvrYBTXI"
   },
   "outputs": [],
   "source": [
    "from imblearn.over_sampling import SMOTE\n",
    "smt = SMOTE(random_state = 2)\n",
    "X_r,y_r = smt.fit_resample(X_rfe,y)"
   ]
  },
  {
   "cell_type": "code",
   "execution_count": 137,
   "id": "GhvXeUKwByeP",
   "metadata": {
    "id": "GhvXeUKwByeP"
   },
   "outputs": [],
   "source": [
    "from sklearn.model_selection import train_test_split\n",
    "X_train_r,X_test,y_train_r,y_test = train_test_split(X_r,y_r,test_size = 0.2,random_state = 1)"
   ]
  },
  {
   "cell_type": "code",
   "execution_count": 137,
   "id": "5N9a9iCtKYXS",
   "metadata": {
    "id": "5N9a9iCtKYXS"
   },
   "outputs": [],
   "source": []
  },
  {
   "cell_type": "code",
   "execution_count": 138,
   "id": "jIa1o5AXBzqf",
   "metadata": {
    "colab": {
     "base_uri": "https://localhost:8080/",
     "height": 80
    },
    "id": "jIa1o5AXBzqf",
    "outputId": "c92a51b5-5f96-4b99-eaa8-fd0e20a8433f"
   },
   "outputs": [
    {
     "data": {
      "text/html": [
       "<div>\n",
       "<style scoped>\n",
       "    .dataframe tbody tr th:only-of-type {\n",
       "        vertical-align: middle;\n",
       "    }\n",
       "\n",
       "    .dataframe tbody tr th {\n",
       "        vertical-align: top;\n",
       "    }\n",
       "\n",
       "    .dataframe thead th {\n",
       "        text-align: right;\n",
       "    }\n",
       "</style>\n",
       "<table border=\"1\" class=\"dataframe\">\n",
       "  <thead>\n",
       "    <tr style=\"text-align: right;\">\n",
       "      <th></th>\n",
       "      <th>ML Model</th>\n",
       "      <th>f1_score</th>\n",
       "      <th>accuracy_score</th>\n",
       "    </tr>\n",
       "  </thead>\n",
       "  <tbody>\n",
       "    <tr>\n",
       "      <th>0</th>\n",
       "      <td>CatBoostClassifier</td>\n",
       "      <td>0.596795</td>\n",
       "      <td>0.593702</td>\n",
       "    </tr>\n",
       "  </tbody>\n",
       "</table>\n",
       "</div>"
      ],
      "text/plain": [
       "             ML Model  f1_score  accuracy_score\n",
       "0  CatBoostClassifier  0.596795        0.593702"
      ]
     },
     "execution_count": 138,
     "metadata": {
      "tags": []
     },
     "output_type": "execute_result"
    }
   ],
   "source": [
    "#Final model accuracy\n",
    "from catboost import CatBoostClassifier\n",
    "from sklearn.model_selection import cross_val_score\n",
    "\n",
    "cb2 = CatBoostClassifier(loss_function = 'MultiClass',thread_count = 4,\n",
    "                         verbose = 0,task_type = 'GPU')\n",
    "\n",
    "dtc = cb2\n",
    "avg_f1_score = np.mean(cross_val_score(dtc,X_train_r,y_train_r,cv = 5,scoring = 'f1_weighted',n_jobs = -1))\n",
    "avg_accuracy_score = np.mean(cross_val_score(dtc,X_train_r,y_train_r,cv = 5,scoring = 'accuracy',n_jobs = -1))\n",
    "\n",
    "pd.DataFrame({'ML Model': ['CatBoostClassifier'],\n",
    "              'f1_score':[avg_f1_score],\n",
    "              'accuracy_score':[avg_accuracy_score]})"
   ]
  },
  {
   "cell_type": "code",
   "execution_count": 139,
   "id": "oDqMdVcMDATe",
   "metadata": {
    "colab": {
     "base_uri": "https://localhost:8080/",
     "height": 388
    },
    "id": "oDqMdVcMDATe",
    "outputId": "72f00d78-46cf-4e57-e51d-0dc5413be529"
   },
   "outputs": [
    {
     "data": {
      "image/png": "[encoded data removed]",
      "text/plain": [
       "<Figure size 1080x432 with 2 Axes>"
      ]
     },
     "metadata": {
      "needs_background": "light",
      "tags": []
     },
     "output_type": "display_data"
    }
   ],
   "source": [
    "from sklearn.metrics import confusion_matrix\n",
    "cb2.fit(X_train_r,y_train_r)\n",
    "cat_pred2 = cb2.predict(X_test)\n",
    "plt.figure(figsize = (15,6))\n",
    "sns.heatmap(confusion_matrix(y_test,cat_pred2)/len(cat_pred2),annot = True,fmt = '.2f',cmap = 'YlGnBu')\n",
    "plt.xlabel('Predicted')\n",
    "plt.xticks(ticks = [0.5,1.5,2.5],labels = [1,2,3])\n",
    "plt.yticks(ticks = [0.5,1.5,2.5],labels = [1,2,3],va = 'center')\n",
    "plt.ylabel('Actual')\n",
    "plt.show()"
   ]
  },
  {
   "cell_type": "code",
   "execution_count": 140,
   "id": "KZhdYZgaD21Y",
   "metadata": {
    "colab": {
     "base_uri": "https://localhost:8080/"
    },
    "id": "KZhdYZgaD21Y",
    "outputId": "cb58eef7-14db-41fa-9610-de7227c2f36b"
   },
   "outputs": [
    {
     "name": "stdout",
     "output_type": "stream",
     "text": [
      "              precision    recall  f1-score   support\n",
      "\n",
      "           1       0.73      0.62      0.67     12572\n",
      "           2       0.50      0.62      0.55     12353\n",
      "           3       0.61      0.54      0.57     12518\n",
      "\n",
      "    accuracy                           0.60     37443\n",
      "   macro avg       0.61      0.60      0.60     37443\n",
      "weighted avg       0.61      0.60      0.60     37443\n",
      "\n"
     ]
    }
   ],
   "source": [
    "from sklearn.metrics import classification_report\n",
    "print(classification_report(y_test,cat_pred2))"
   ]
  },
  {
   "cell_type": "markdown",
   "id": "settled-semester",
   "metadata": {},
   "source": [
    "# Notebook Summary\n",
    "\n",
    "###### Base Model\n",
    "\n",
    "###### Data Transformations Done\n",
    "\n",
    "* Imputing the months_Since_Deliquency with 360\n",
    "* Taking square root for loan_amount_requested to reduce positive skew.\n",
    "* Taking boxcox transformation of Annual_Income\n",
    "* Taking square root for Number_Open_Accounts\n",
    "* Taking square root for Total_Accounts\n",
    "* Since Months_Since_Deliquency has become bimodal we will be taking the log of Months_Since_Deliquency subtracted with its mean.\n",
    "* For Length_Employed, we are converting the same into bins since we had one value as 10+years.\n",
    "\n",
    "###### Feature Selection\n",
    "\n",
    "* **Sequential Feature Selector:** Using SFS to find the appropriate features and also to find the best number of features after one hot encoding which ends up being 14.\n",
    "\n",
    "* **Recursive Feature Elimination:** Applying RFE by asking for the 14 best features since we know that is the best number of features.\n",
    "\n",
    "**We will be comparing the features obtained from the two techniques and see which features do better.**\n",
    "\n",
    "###### Applying our base model on various versions of our dataset and obtaining cross validation scores for each version.\n",
    "\n",
    "* SFS Features\n",
    "* SFS standardized features\n",
    "* RFE Features \n",
    "* RFE standardized features\n",
    "\n",
    "Scores have been calculated in the notebook above.\n",
    "\n",
    "###### Applying the following models and doing a comparative study.\n",
    "\n",
    "\n",
    "|Model| \tData Type| \tF1-Score| \tAccuracy|\n",
    "|---|---|---|---|\n",
    "|CatBoostClassifier| \tNot Standardized| \t0.512051| \t0.524326|\n",
    "|CatBoostClassifier| \tStandardized| \t0.512051| \t0.524326|\n",
    "|XGBClassifier| \tNot Standardized| \t0.511055| \t0.523300|\n",
    "|XGBClassifier| \tStandardized| \t0.511039| \t0.523285|\n",
    "|GradientBoostingClassifier| \tNot Standardized| \t0.497880| \t0.518331|\n",
    "|GradientBoostingClassifier| \tStandardized| \t0.497880| \t0.518331|\n",
    "|AdaBoostClassifier| \tNot Standardized| \t0.495532| \t0.511746|\n",
    "|AdaBoostClassifier| \tStandardized| \t0.495532| \t0.511746|\n",
    "|RandomForestClassifier| \tNot Standardized| \t0.484381| \t0.495330|\n",
    "|RandomForestClassifier| \tStandardized| \t0.484153| \t0.495098|\n",
    "|ExtraTreesClassifier| \tNot Standardized| \t0.469124| \t0.481915|\n",
    "|ExtraTreesClassifier| \tStandardized| \t0.469149| \t0.480039|\n",
    "|Naive Bayes Classifier| \tNot Standardized| \t0.458256| \t0.464866|\n",
    "|DecisionTreeClassifier| \tStandardized| \t0.416758| \t0.417171|\n",
    "|DecisionTreeClassifier|\tNot Standardized| \t0.416821| \t0.416335|\n",
    "|Naive Bayes Classifier| \tStandardized| \tNaN| \tNaN|\n",
    "\n",
    "                                      precision    recall  f1-score   support\n",
    "\n",
    "                                   1       0.51      0.26      0.35      6121\n",
    "                                   2       0.49      0.65      0.56     12323\n",
    "                                   3       0.57      0.51      0.54     10016\n",
    "\n",
    "                            accuracy                           0.52     28460\n",
    "                           macro avg       0.53      0.48      0.48     28460\n",
    "                        weighted avg       0.52      0.52      0.51     28460\n",
    "\n",
    "\n",
    "\n",
    "**CatboostClassifier** seems to perform the best on this dataset.\n",
    "\n",
    "###### Hyper parameter Tuning\n",
    "\n",
    "After performing hyper parameter tuning, we observed that the default values for catboost was giving us the best performance (52% accuracy). Tuned values were giving us an accuracy of 51%. \n",
    "\n",
    "###### Applying SMOTE for improving imbalance\n",
    "\n",
    "After applying smote we get the following results:\n",
    "\n",
    "|ML Model| \tf1_score| \taccuracy_score|\n",
    "|---|---|---|\n",
    "CatBoostClassifier| \t0.596795| \t0.593702|\n",
    "\n",
    "                                      precision    recall  f1-score   support\n",
    "\n",
    "                                   1       0.73      0.62      0.67     12572\n",
    "                                   2       0.50      0.62      0.55     12353\n",
    "                                   3       0.61      0.54      0.57     12518\n",
    "\n",
    "                            accuracy                           0.60     37443\n",
    "                           macro avg       0.61      0.60      0.60     37443\n",
    "                        weighted avg       0.61      0.60      0.60     37443\n",
    "                        \n",
    "                        "
   ]
  },
  {
   "cell_type": "code",
   "execution_count": null,
   "id": "korean-package",
   "metadata": {},
   "outputs": [],
   "source": [
    "After applying SMOTE on the dataset we see an improvement in our catboost classfier report with an 8% increase in accuracy."
   ]
  }
 ],
 "metadata": {
  "accelerator": "GPU",
  "colab": {
   "collapsed_sections": [
    "coordinated-kidney",
    "guilty-belle",
    "fresh-attachment",
    "operational-lewis",
    "geographic-cooking",
    "computational-blues",
    "visible-exhibit"
   ],
   "name": "Model Building Final.ipynb",
   "provenance": [],
   "toc_visible": true
  },
  "kernelspec": {
   "display_name": "Python 3",
   "language": "python",
   "name": "python3"
  },
  "language_info": {
   "codemirror_mode": {
    "name": "ipython",
    "version": 3
   },
   "file_extension": ".py",
   "mimetype": "text/x-python",
   "name": "python",
   "nbconvert_exporter": "python",
   "pygments_lexer": "ipython3",
   "version": "3.7.4"
  }
 },
 "nbformat": 4,
 "nbformat_minor": 5
}
